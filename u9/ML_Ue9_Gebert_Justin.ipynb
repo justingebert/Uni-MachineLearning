{
 "cells": [
  {
   "cell_type": "code",
   "execution_count": 1,
   "metadata": {
    "collapsed": true,
    "ExecuteTime": {
     "end_time": "2023-06-26T21:46:43.774165800Z",
     "start_time": "2023-06-26T21:46:42.834190600Z"
    }
   },
   "outputs": [],
   "source": [
    "import numpy as np\n",
    "import matplotlib.pyplot as plt"
   ]
  },
  {
   "cell_type": "code",
   "execution_count": 2,
   "outputs": [],
   "source": [
    "def sigmoid(x):\n",
    "    return 1/(1+np.exp(-x))"
   ],
   "metadata": {
    "collapsed": false,
    "ExecuteTime": {
     "end_time": "2023-06-26T21:46:43.783303Z",
     "start_time": "2023-06-26T21:46:43.776270500Z"
    }
   }
  },
  {
   "cell_type": "code",
   "execution_count": 3,
   "outputs": [],
   "source": [
    "learning_rate = 0.1"
   ],
   "metadata": {
    "collapsed": false,
    "ExecuteTime": {
     "end_time": "2023-06-26T21:46:43.791076900Z",
     "start_time": "2023-06-26T21:46:43.782303300Z"
    }
   }
  },
  {
   "cell_type": "code",
   "execution_count": 33,
   "outputs": [
    {
     "name": "stdout",
     "output_type": "stream",
     "text": [
      "X: [[ 0.35  0.9 ]\n",
      " [ 0.1  -0.7 ]]\n",
      "\n",
      "Y: [[0.5 ]\n",
      " [0.35]]\n",
      "\n",
      "d3: [[0.19028349]\n",
      " [0.26663117]]\n",
      "\n",
      "d2: [[0.10371198]\n",
      " [0.05073478]\n",
      " [0.05260016]]\n",
      "\n",
      "d1: [[ 0.00704158  0.02185369]\n",
      " [ 0.00136778  0.00422828]\n",
      " [-0.00068192 -0.00222295]]\n",
      "\n"
     ]
    },
    {
     "ename": "ValueError",
     "evalue": "operands could not be broadcast together with shapes (2,1) (3,1) ",
     "output_type": "error",
     "traceback": [
      "\u001B[1;31m---------------------------------------------------------------------------\u001B[0m",
      "\u001B[1;31mValueError\u001B[0m                                Traceback (most recent call last)",
      "Cell \u001B[1;32mIn[33], line 50\u001B[0m\n\u001B[0;32m     45\u001B[0m \u001B[38;5;28mprint\u001B[39m(\u001B[38;5;124m\"\u001B[39m\u001B[38;5;124md1:\u001B[39m\u001B[38;5;124m\"\u001B[39m, delta1)\n\u001B[0;32m     46\u001B[0m \u001B[38;5;28mprint\u001B[39m()\n\u001B[1;32m---> 50\u001B[0m theta2 \u001B[38;5;241m=\u001B[39m theta2 \u001B[38;5;241m-\u001B[39m delta2\n\u001B[0;32m     51\u001B[0m \u001B[38;5;28mprint\u001B[39m(\u001B[38;5;124m\"\u001B[39m\u001B[38;5;124mtheta2:\u001B[39m\u001B[38;5;124m\"\u001B[39m, theta2)\n\u001B[0;32m     52\u001B[0m theta1 \u001B[38;5;241m=\u001B[39m theta1 \u001B[38;5;241m-\u001B[39m delta1\n",
      "\u001B[1;31mValueError\u001B[0m: operands could not be broadcast together with shapes (2,1) (3,1) "
     ]
    }
   ],
   "source": [
    "X = np.array([[0.35, 0.9],\n",
    "              [0.1, -0.7]])\n",
    "print(\"X:\", X)\n",
    "print()\n",
    "\n",
    "Y = np.array([[0.5], [0.35]])\n",
    "\n",
    "print(\"Y:\", Y)\n",
    "print()\n",
    "\n",
    "m = X.shape[0]\n",
    "\n",
    "theta1 = np.array([[0.0,0.0],\n",
    "                   [0.1, 0.4],\n",
    "                   [0.8, 0.6]])\n",
    "\n",
    "theta2 = np.array([[0.0,0.3,0.9]])\n",
    "\n",
    "for i in range(2):\n",
    "\n",
    "    #!Forward propagation\n",
    "    #layer 1\n",
    "    h1 = np.insert(X, 0, 1.0, axis=1)\n",
    "    z2 = np.matmul(h1, theta1)\n",
    "    a2 = sigmoid(z2)\n",
    "    #layer 2\n",
    "    h2 = np.insert(a2, 0, 1, axis=1)\n",
    "    z3 = np.matmul(h2, theta2.T)\n",
    "    #layer 3\n",
    "    h3 = sigmoid(z3)\n",
    "\n",
    "    #!Back propagation\n",
    "    #layer3\n",
    "    delta3 = np.subtract(h3, Y)\n",
    "    print(\"d3:\", delta3)\n",
    "    print()\n",
    "    #layer 2\n",
    "    delta2 = 1 * np.matmul(h2.T,(delta3 * h3 * (1 - h3)))\n",
    "    print(\"d2:\", delta2)\n",
    "    print()\n",
    "    g3 = (delta3 * (h3 * (1 - h3)))\n",
    "    #layer 1\n",
    "    theta2 = theta2.T[1:,:] #remove bias\n",
    "    delta1 = 1 * np.matmul(h1.T, (np.matmul(g3, theta2.T) * a2 * (1 - a2)))\n",
    "    print(\"d1:\", delta1)\n",
    "    print()\n",
    "\n",
    "\n",
    "\n",
    "    theta2 = theta2 - delta2\n",
    "    print(\"theta2:\", theta2)\n",
    "    theta1 = theta1 - delta1\n",
    "\n",
    "\n",
    "#!Gradient descent"
   ],
   "metadata": {
    "collapsed": false,
    "ExecuteTime": {
     "end_time": "2023-06-26T15:21:40.178473400Z",
     "start_time": "2023-06-26T15:21:40.126163900Z"
    }
   }
  },
  {
   "cell_type": "code",
   "execution_count": 23,
   "outputs": [],
   "source": [
    "def sigmoid(x):\n",
    "    return 1/(1+np.exp(-x))\n",
    "\n",
    "def sigmoid_prime(x):\n",
    "    return sigmoid(x)*(1-sigmoid(x))\n",
    "\n",
    "def forward_prop(X, theta1, theta2):\n",
    "    # insert bias at the first column\n",
    "    a1 = np.insert(X, 0, 1, axis=1)\n",
    "    z2 = np.dot(a1, theta1.T)\n",
    "    a2 = np.insert(sigmoid(z2), 0, 1, axis=1)\n",
    "    z3 = np.dot(a2, theta2.T)\n",
    "    a3 = sigmoid(z3)\n",
    "    return a1, z2, a2, z3, a3\n",
    "\n",
    "def cost_function(X, Y, theta1, theta2):\n",
    "    a1, z2, a2, z3, a3 = forward_prop(X, theta1, theta2)\n",
    "    m = X.shape[0]\n",
    "    J = 0\n",
    "    for i in range(m):\n",
    "        J += np.sum((a3[i] - Y[i])**2)\n",
    "    J = J/(2*m)\n",
    "    return J\n",
    "\n",
    "def back_prop(X, Y, theta1, theta2):\n",
    "    a1, z2, a2, z3, a3 = forward_prop(X, theta1, theta2)\n",
    "    m = X.shape[0]\n",
    "    delta3 = np.zeros((m, 1))\n",
    "    delta2 = np.zeros((m, 2))\n",
    "    for i in range(m):\n",
    "        delta3[i] = (a3[i] - Y[i])*sigmoid_prime(z3[i])\n",
    "        delta2[i] = np.dot(theta2.T, delta3[i])*sigmoid_prime(z2[i])\n",
    "    return delta2, delta3\n",
    "\n",
    "def gradient_descent(X, Y, theta1, theta2, alpha, num_iters):\n",
    "    m = X.shape[0]\n",
    "    J_history = np.zeros((num_iters, 1))\n",
    "    for i in range(num_iters):\n",
    "        delta2, delta3 = back_prop(X, Y, theta1, theta2)\n",
    "        theta1 = theta1 - alpha*np.dot(delta2.T, X)/m\n",
    "        theta2 = theta2 - alpha*np.dot(delta3.T, X)/m\n",
    "        J_history[i] = cost_function(X, Y, theta1, theta2)\n",
    "    return theta1, theta2, J_history\n",
    "\n",
    "def predict(X, theta1, theta2):\n",
    "    a1, z2, a2, z3, a3 = forward_prop(X, theta1, theta2)\n",
    "    return a3\n",
    "\n"
   ],
   "metadata": {
    "collapsed": false,
    "ExecuteTime": {
     "end_time": "2023-06-26T13:25:49.696513300Z",
     "start_time": "2023-06-26T13:25:49.694503600Z"
    }
   }
  },
  {
   "cell_type": "code",
   "execution_count": null,
   "outputs": [],
   "source": [],
   "metadata": {
    "collapsed": false
   }
  }
 ],
 "metadata": {
  "kernelspec": {
   "display_name": "Python 3",
   "language": "python",
   "name": "python3"
  },
  "language_info": {
   "codemirror_mode": {
    "name": "ipython",
    "version": 2
   },
   "file_extension": ".py",
   "mimetype": "text/x-python",
   "name": "python",
   "nbconvert_exporter": "python",
   "pygments_lexer": "ipython2",
   "version": "2.7.6"
  }
 },
 "nbformat": 4,
 "nbformat_minor": 0
}
