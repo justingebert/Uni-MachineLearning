{
 "cells": [
  {
   "cell_type": "code",
   "execution_count": 2,
   "metadata": {
    "collapsed": true,
    "ExecuteTime": {
     "end_time": "2023-06-26T12:56:59.720903900Z",
     "start_time": "2023-06-26T12:56:59.110013700Z"
    }
   },
   "outputs": [],
   "source": [
    "import numpy as np\n",
    "import matplotlib.pyplot as plt"
   ]
  },
  {
   "cell_type": "code",
   "execution_count": 3,
   "outputs": [],
   "source": [
    "def sigmoid(x):\n",
    "    return 1/(1+np.exp(-x))"
   ],
   "metadata": {
    "collapsed": false,
    "ExecuteTime": {
     "end_time": "2023-06-26T12:56:59.725921600Z",
     "start_time": "2023-06-26T12:56:59.723886600Z"
    }
   }
  },
  {
   "cell_type": "code",
   "execution_count": 4,
   "outputs": [],
   "source": [
    "learning_rate = 0.1"
   ],
   "metadata": {
    "collapsed": false,
    "ExecuteTime": {
     "end_time": "2023-06-26T12:56:59.971295900Z",
     "start_time": "2023-06-26T12:56:59.961772100Z"
    }
   }
  },
  {
   "cell_type": "code",
   "execution_count": 71,
   "outputs": [
    {
     "name": "stdout",
     "output_type": "stream",
     "text": [
      "X: [[ 0.35  0.9 ]\n",
      " [ 0.1  -0.7 ]]\n",
      "\n",
      "Y: [[0.5 ]\n",
      " [0.35]]\n",
      "\n",
      "h1: [[ 1.    0.35  0.9 ]\n",
      " [ 1.    0.1  -0.7 ]]\n",
      "\n",
      "z2: [[ 0.755  0.68 ]\n",
      " [-0.55  -0.38 ]]\n",
      "\n",
      "a2: [[0.6802672  0.6637387 ]\n",
      " [0.36586441 0.4061269 ]]\n",
      "\n",
      "h2: [[1.         0.6802672  0.6637387 ]\n",
      " [1.         0.36586441 0.4061269 ]]\n",
      "\n",
      "z3: [[0.80144499]\n",
      " [0.47527353]]\n",
      "\n",
      "h3: [[0.69028349]\n",
      " [0.61663117]]\n",
      "\n",
      "d3: [[0.19028349]\n",
      " [0.26663117]]\n",
      "\n",
      "d2: [[0.10371198]\n",
      " [0.05073478]\n",
      " [0.05260016]]\n",
      "\n",
      "g3: [[0.04068113]\n",
      " [0.06303085]]\n",
      "\n",
      "theta2.T: [[0. ]\n",
      " [0.3]\n",
      " [0.9]]\n",
      "\n",
      "\n",
      "theta2: [[0.  0.3 0.9]]\n",
      "\n",
      "g3: [[1.        ]\n",
      " [0.04068113]\n",
      " [0.06303085]]\n",
      "\n",
      "[[0.         0.3        0.9       ]\n",
      " [0.         0.01220434 0.03661301]\n",
      " [0.         0.01890926 0.05672777]]\n"
     ]
    }
   ],
   "source": [
    "X = np.array([[0.35, 0.9],\n",
    "              [0.1, -0.7]])\n",
    "print(\"X:\", X)\n",
    "print()\n",
    "\n",
    "Y = np.array([[0.5], [0.35]])\n",
    "\n",
    "print(\"Y:\", Y)\n",
    "print()\n",
    "\n",
    "m = X.shape[0]\n",
    "\n",
    "theta1 = np.array([[0.0,0.0],\n",
    "                   [0.1, 0.4],\n",
    "                   [0.8, 0.6]])\n",
    "\n",
    "theta2 = np.array([[0.0,0.3,0.9]])\n",
    "\n",
    "#!Forward propagation\n",
    "#layer 1\n",
    "h1 = np.insert(X, 0, 1.0, axis=1)\n",
    "print(\"h1:\", h1,)\n",
    "print()\n",
    "z2 = np.matmul(h1, theta1)\n",
    "print(\"z2:\", z2)\n",
    "print()\n",
    "a2 = sigmoid(z2)\n",
    "print(\"a2:\", a2)\n",
    "print()\n",
    "#layer 2\n",
    "h2 = np.insert(a2, 0, 1, axis=1)\n",
    "print(\"h2:\", h2)\n",
    "print()\n",
    "z3 = np.matmul(h2, theta2.T)\n",
    "print(\"z3:\", z3)\n",
    "print()\n",
    "#layer 3\n",
    "h3 = sigmoid(z3)\n",
    "print(\"h3:\", h3)\n",
    "print()\n",
    "\n",
    "#!Back propagation\n",
    "#layer3\n",
    "delta3 = np.subtract(h3, Y)\n",
    "print(\"d3:\", delta3)\n",
    "print()\n",
    "#layer 2\n",
    "delta2 = 1 * np.matmul(h2.T,(delta3 * h3 * (1 - h3)))\n",
    "print(\"d2:\", delta2)\n",
    "print()\n",
    "g3 = (delta3 * (h3 * (1 - h3)))\n",
    "print(\"g3:\", g3)\n",
    "print()\n",
    "\n",
    "#layer 1\n",
    "print(\"theta2.T:\", theta2.T)\n",
    "print()\n",
    "#delta1 = 1 * np.matmul(h1.T, (np.matmul(g3, theta2.T) * a2 * (1 - a2)))\n",
    "#print(\"d1:\", delta1)\n",
    "print()\n",
    "\n",
    "\n",
    "#theta2 = theta2[:,1:]\n",
    "g3 = np.insert(g3, 0, 1.0, axis=0)\n",
    "print(\"theta2:\", theta2)\n",
    "print()\n",
    "print(\"g3:\", g3)\n",
    "print()\n",
    "\n",
    "print(np.matmul(g3, theta2))\n",
    "\n",
    "#!Gradient descent"
   ],
   "metadata": {
    "collapsed": false,
    "ExecuteTime": {
     "end_time": "2023-06-26T14:28:29.238332100Z",
     "start_time": "2023-06-26T14:28:29.219814100Z"
    }
   }
  },
  {
   "cell_type": "code",
   "execution_count": 23,
   "outputs": [],
   "source": [
    "def sigmoid(x):\n",
    "    return 1/(1+np.exp(-x))\n",
    "\n",
    "def sigmoid_prime(x):\n",
    "    return sigmoid(x)*(1-sigmoid(x))\n",
    "\n",
    "def forward_prop(X, theta1, theta2):\n",
    "    # insert bias at the first column\n",
    "    a1 = np.insert(X, 0, 1, axis=1)\n",
    "    z2 = np.dot(a1, theta1.T)\n",
    "    a2 = np.insert(sigmoid(z2), 0, 1, axis=1)\n",
    "    z3 = np.dot(a2, theta2.T)\n",
    "    a3 = sigmoid(z3)\n",
    "    return a1, z2, a2, z3, a3\n",
    "\n",
    "def cost_function(X, Y, theta1, theta2):\n",
    "    a1, z2, a2, z3, a3 = forward_prop(X, theta1, theta2)\n",
    "    m = X.shape[0]\n",
    "    J = 0\n",
    "    for i in range(m):\n",
    "        J += np.sum((a3[i] - Y[i])**2)\n",
    "    J = J/(2*m)\n",
    "    return J\n",
    "\n",
    "def back_prop(X, Y, theta1, theta2):\n",
    "    a1, z2, a2, z3, a3 = forward_prop(X, theta1, theta2)\n",
    "    m = X.shape[0]\n",
    "    delta3 = np.zeros((m, 1))\n",
    "    delta2 = np.zeros((m, 2))\n",
    "    for i in range(m):\n",
    "        delta3[i] = (a3[i] - Y[i])*sigmoid_prime(z3[i])\n",
    "        delta2[i] = np.dot(theta2.T, delta3[i])*sigmoid_prime(z2[i])\n",
    "    return delta2, delta3\n",
    "\n",
    "def gradient_descent(X, Y, theta1, theta2, alpha, num_iters):\n",
    "    m = X.shape[0]\n",
    "    J_history = np.zeros((num_iters, 1))\n",
    "    for i in range(num_iters):\n",
    "        delta2, delta3 = back_prop(X, Y, theta1, theta2)\n",
    "        theta1 = theta1 - alpha*np.dot(delta2.T, X)/m\n",
    "        theta2 = theta2 - alpha*np.dot(delta3.T, X)/m\n",
    "        J_history[i] = cost_function(X, Y, theta1, theta2)\n",
    "    return theta1, theta2, J_history\n",
    "\n",
    "def predict(X, theta1, theta2):\n",
    "    a1, z2, a2, z3, a3 = forward_prop(X, theta1, theta2)\n",
    "    return a3\n",
    "\n"
   ],
   "metadata": {
    "collapsed": false,
    "ExecuteTime": {
     "end_time": "2023-06-26T13:25:49.696513300Z",
     "start_time": "2023-06-26T13:25:49.694503600Z"
    }
   }
  },
  {
   "cell_type": "code",
   "execution_count": null,
   "outputs": [],
   "source": [],
   "metadata": {
    "collapsed": false
   }
  }
 ],
 "metadata": {
  "kernelspec": {
   "display_name": "Python 3",
   "language": "python",
   "name": "python3"
  },
  "language_info": {
   "codemirror_mode": {
    "name": "ipython",
    "version": 2
   },
   "file_extension": ".py",
   "mimetype": "text/x-python",
   "name": "python",
   "nbconvert_exporter": "python",
   "pygments_lexer": "ipython2",
   "version": "2.7.6"
  }
 },
 "nbformat": 4,
 "nbformat_minor": 0
}
