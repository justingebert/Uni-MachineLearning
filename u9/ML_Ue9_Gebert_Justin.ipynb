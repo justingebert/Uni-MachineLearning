{
 "cells": [
  {
   "cell_type": "code",
   "execution_count": 1,
   "metadata": {
    "collapsed": true,
    "ExecuteTime": {
     "end_time": "2023-06-27T09:52:17.880046700Z",
     "start_time": "2023-06-27T09:52:17.576306100Z"
    }
   },
   "outputs": [],
   "source": [
    "import numpy as np"
   ]
  },
  {
   "cell_type": "markdown",
   "source": [
    "# 1."
   ],
   "metadata": {
    "collapsed": false
   }
  },
  {
   "cell_type": "code",
   "execution_count": 3,
   "outputs": [
    {
     "name": "stdout",
     "output_type": "stream",
     "text": [
      "RMSE before weight change: 0.23162468304374587\n",
      "RMSE after weight change: 0.19948618788491654\n"
     ]
    }
   ],
   "source": [
    "def sigmoid(x):\n",
    "    return 1/(1+np.exp(-x))\n",
    "\n",
    "X = np.array([[0.35, 0.9],\n",
    "              [0.1, -0.7]])\n",
    "Y = np.array([[0.5], [0.35]])\n",
    "m = X.shape[0]\n",
    "\n",
    "learning_rate = 0.1\n",
    "\n",
    "theta1 = np.array([[0.0, 0.0],\n",
    "                   [0.1, 0.4],\n",
    "                   [0.8, 0.6]])\n",
    "\n",
    "theta2 = np.array([[0.0, 0.3, 0.9]])\n",
    "\n",
    "for i in range(2):\n",
    "\n",
    "    #!Forward propagation\n",
    "    #layer 1\n",
    "    h1 = np.insert(X, 0, 1.0, axis=1)\n",
    "    z2 = np.matmul(h1, theta1)\n",
    "    a2 = sigmoid(z2)\n",
    "    #layer 2\n",
    "    h2 = np.insert(a2, 0, 1, axis=1)\n",
    "    z3 = np.matmul(h2, theta2.T)\n",
    "    #layer 3\n",
    "    h3 = sigmoid(z3)\n",
    "\n",
    "    rmse = np.sqrt(np.mean((h3 - Y) ** 2))\n",
    "    if(i == 0):\n",
    "        print(\"RMSE before weight change:\", rmse)\n",
    "    else:\n",
    "        print(\"RMSE after weight change:\", rmse)\n",
    "    #!Back propagation\n",
    "    #layer3\n",
    "    delta3 = np.subtract(h3, Y)\n",
    "    #layer 2\n",
    "    delta2 = 1 * np.matmul(h2.T,(delta3 * h3 * (1 - h3)))\n",
    "    g3 = (delta3 * (h3 * (1 - h3)))\n",
    "    #layer 1\n",
    "    theta2_wo_bias = theta2.T[1:,:] #remove bias\n",
    "    delta1 = 1 * np.matmul(h1.T, (np.matmul(g3, theta2_wo_bias.T) * a2 * (1 - a2)))\n",
    "\n",
    "    #!Update weights\n",
    "    theta2 = theta2 - delta2\n",
    "    theta1 = theta1 - delta1"
   ],
   "metadata": {
    "collapsed": false,
    "ExecuteTime": {
     "end_time": "2023-06-27T09:52:17.991424600Z",
     "start_time": "2023-06-27T09:52:17.902253300Z"
    }
   }
  },
  {
   "cell_type": "markdown",
   "source": [
    "# 2."
   ],
   "metadata": {
    "collapsed": false
   }
  },
  {
   "cell_type": "code",
   "execution_count": 9,
   "outputs": [
    {
     "name": "stdout",
     "output_type": "stream",
     "text": [
      "Iteration: 0 RMSE: 0.6141294224795786\n",
      "Iteration: 1000 RMSE: 0.5002158574963482\n",
      "Iteration: 2000 RMSE: 0.49588446921508694\n",
      "Iteration: 3000 RMSE: 0.4886077462669879\n",
      "Iteration: 4000 RMSE: 0.46348235108728225\n",
      "Iteration: 5000 RMSE: 0.3544643591654936\n",
      "Iteration: 6000 RMSE: 0.2126289971530835\n",
      "Iteration: 7000 RMSE: 0.1320704847673868\n",
      "Iteration: 8000 RMSE: 0.0916494016872798\n",
      "Iteration: 9000 RMSE: 0.06910252356125139\n",
      "Predictions:\n",
      "[[0.04930496]\n",
      " [0.94594161]\n",
      " [0.94735093]\n",
      " [0.06342345]]\n"
     ]
    }
   ],
   "source": [
    "def sigmoid(x):\n",
    "    return 1 / (1 + np.exp(-x))\n",
    "\n",
    "X = np.array([[0, 0],\n",
    "              [0, 1],\n",
    "              [1, 0],\n",
    "              [1, 1]])\n",
    "\n",
    "Y = np.array([[0], [1], [1], [0]])\n",
    "\n",
    "m = X.shape[0]\n",
    "learning_rate = 0.1\n",
    "iterations = 10000\n",
    "\n",
    "hidden_neurons = 4  # Number of neurons in the hidden layer\n",
    "\n",
    "theta1 = np.random.randn(hidden_neurons, X.shape[1] + 1)\n",
    "theta2 = np.random.randn(1, hidden_neurons + 1)\n",
    "\n",
    "for i in range(iterations):\n",
    "\n",
    "    #! Forward propagation\n",
    "    h1 = np.insert(X, 0, 1, axis=1)\n",
    "    z2 = np.matmul(h1, theta1.T)\n",
    "    a2 = sigmoid(z2)\n",
    "\n",
    "    h2 = np.insert(a2, 0, 1, axis=1)\n",
    "\n",
    "    z3 = np.matmul(h2, theta2.T)\n",
    "    h3 = sigmoid(z3)\n",
    "\n",
    "    rmse = np.sqrt(np.mean((h3 - Y) ** 2))\n",
    "    if i % 1000 == 0:\n",
    "        print(\"Iteration:\", i, \"RMSE:\", rmse)\n",
    "\n",
    "    #! Backpropagation\n",
    "    delta3 = (h3 - Y)\n",
    "    delta2 = np.matmul(delta3 * h3 * (1 - h3), theta2[:, 1:]) * h2[:, 1:] * (1 - h2[:, 1:])\n",
    "\n",
    "    theta2 -= learning_rate/m * np.matmul(delta3.T, h2)\n",
    "    theta1 -= learning_rate/m * np.matmul(delta2.T, h1)\n",
    "\n",
    "#! Predictions\n",
    "h1 = np.insert(X, 0, 1, axis=1)\n",
    "z2 = np.matmul(h1, theta1.T)\n",
    "a2 = sigmoid(z2)\n",
    "h2 = np.insert(a2, 0, 1, axis=1)\n",
    "z3 = np.matmul(h2, theta2.T)\n",
    "h3 = sigmoid(z3)\n",
    "predictions = h3\n",
    "\n",
    "print(\"Predictions:\")\n",
    "print(predictions)"
   ],
   "metadata": {
    "collapsed": false,
    "ExecuteTime": {
     "end_time": "2023-06-27T10:00:26.979303Z",
     "start_time": "2023-06-27T10:00:25.303696600Z"
    }
   }
  }
 ],
 "metadata": {
  "kernelspec": {
   "display_name": "Python 3",
   "language": "python",
   "name": "python3"
  },
  "language_info": {
   "codemirror_mode": {
    "name": "ipython",
    "version": 2
   },
   "file_extension": ".py",
   "mimetype": "text/x-python",
   "name": "python",
   "nbconvert_exporter": "python",
   "pygments_lexer": "ipython2",
   "version": "2.7.6"
  }
 },
 "nbformat": 4,
 "nbformat_minor": 0
}
