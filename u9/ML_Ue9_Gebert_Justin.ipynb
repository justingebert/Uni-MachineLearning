{
 "cells": [
  {
   "cell_type": "code",
   "execution_count": 16,
   "metadata": {
    "collapsed": true,
    "ExecuteTime": {
     "end_time": "2023-06-26T22:19:38.202884700Z",
     "start_time": "2023-06-26T22:19:38.193365300Z"
    }
   },
   "outputs": [],
   "source": [
    "import numpy as np"
   ]
  },
  {
   "cell_type": "code",
   "execution_count": 17,
   "outputs": [],
   "source": [
    "def sigmoid(x):\n",
    "    return 1/(1+np.exp(-x))"
   ],
   "metadata": {
    "collapsed": false,
    "ExecuteTime": {
     "end_time": "2023-06-26T22:19:38.535878600Z",
     "start_time": "2023-06-26T22:19:38.525829Z"
    }
   }
  },
  {
   "cell_type": "code",
   "execution_count": 19,
   "outputs": [
    {
     "name": "stdout",
     "output_type": "stream",
     "text": [
      "RMSE before weight change: 0.23162468304374587\n",
      "RMSE after weight change: 0.19948618788491654\n"
     ]
    }
   ],
   "source": [
    "#!1.\n",
    "X = np.array([[0.35, 0.9],\n",
    "              [0.1, -0.7]])\n",
    "Y = np.array([[0.5], [0.35]])\n",
    "m = X.shape[0]\n",
    "\n",
    "learning_rate = 0.1\n",
    "\n",
    "theta1 = np.array([[0.0, 0.0],\n",
    "                   [0.1, 0.4],\n",
    "                   [0.8, 0.6]])\n",
    "\n",
    "theta2 = np.array([[0.0, 0.3, 0.9]])\n",
    "\n",
    "for i in range(2):\n",
    "\n",
    "    #!Forward propagation\n",
    "    #layer 1\n",
    "    h1 = np.insert(X, 0, 1.0, axis=1)\n",
    "    z2 = np.matmul(h1, theta1)\n",
    "    a2 = sigmoid(z2)\n",
    "    #layer 2\n",
    "    h2 = np.insert(a2, 0, 1, axis=1)\n",
    "    z3 = np.matmul(h2, theta2.T)\n",
    "    #layer 3\n",
    "    h3 = sigmoid(z3)\n",
    "\n",
    "    rmse = np.sqrt(np.mean((h3 - Y) ** 2))\n",
    "    if(i == 0):\n",
    "        print(\"RMSE before weight change:\", rmse)\n",
    "    else:\n",
    "        print(\"RMSE after weight change:\", rmse)\n",
    "    #!Back propagation\n",
    "    #layer3\n",
    "    delta3 = np.subtract(h3, Y)\n",
    "    #layer 2\n",
    "    delta2 = 1 * np.matmul(h2.T,(delta3 * h3 * (1 - h3)))\n",
    "    g3 = (delta3 * (h3 * (1 - h3)))\n",
    "    #layer 1\n",
    "    theta2_wo_bias = theta2.T[1:,:] #remove bias\n",
    "    delta1 = 1 * np.matmul(h1.T, (np.matmul(g3, theta2_wo_bias.T) * a2 * (1 - a2)))\n",
    "\n",
    "    #!Update weights\n",
    "    theta2 = theta2 - delta2\n",
    "    theta1 = theta1 - delta1"
   ],
   "metadata": {
    "collapsed": false,
    "ExecuteTime": {
     "end_time": "2023-06-26T22:19:39.382498400Z",
     "start_time": "2023-06-26T22:19:39.360970500Z"
    }
   }
  },
  {
   "cell_type": "code",
   "execution_count": 20,
   "outputs": [
    {
     "name": "stdout",
     "output_type": "stream",
     "text": [
      "RMSE before weight change: 0.5296817254611927\n",
      "RMSE after weight change: 0.5134086483796835\n"
     ]
    }
   ],
   "source": [
    "X = np.array([[.0, .0],\n",
    "              [1.0, 0],\n",
    "              [0, 1.0],\n",
    "              [1.0, 1.0]])\n",
    "\n",
    "Y = np.array([[0.0], [1.0], [1.0], [0.0]])\n",
    "m = X.shape[0]\n",
    "\n",
    "learning_rate = 0.1\n",
    "\n",
    "theta1 = np.array([[0.0, 0.0],\n",
    "                   [0.1, 0.4],\n",
    "                   [0.8, 0.6]])\n",
    "\n",
    "theta2 = np.array([[0.0, 0.3, 0.9]])\n",
    "\n",
    "for i in range(2):\n",
    "\n",
    "    #!Forward propagation\n",
    "    #layer 1\n",
    "    h1 = np.insert(X, 0, 1.0, axis=1)\n",
    "    z2 = np.matmul(h1, theta1)\n",
    "    a2 = sigmoid(z2)\n",
    "    #layer 2\n",
    "    h2 = np.insert(a2, 0, 1, axis=1)\n",
    "    z3 = np.matmul(h2, theta2.T)\n",
    "    #layer 3\n",
    "    h3 = sigmoid(z3)\n",
    "\n",
    "    rmse = np.sqrt(np.mean((h3 - Y) ** 2))\n",
    "    if(i == 0):\n",
    "        print(\"RMSE before weight change:\", rmse)\n",
    "    else:\n",
    "        print(\"RMSE after weight change:\", rmse)\n",
    "    #!Back propagation\n",
    "    #layer3\n",
    "    delta3 = np.subtract(h3, Y)\n",
    "    #layer 2\n",
    "    delta2 = 1 * np.matmul(h2.T,(delta3 * h3 * (1 - h3)))\n",
    "    g3 = (delta3 * (h3 * (1 - h3)))\n",
    "    #layer 1\n",
    "    theta2_wo_bias = theta2.T[1:,:] #remove bias\n",
    "    delta1 = 1 * np.matmul(h1.T, (np.matmul(g3, theta2_wo_bias.T) * a2 * (1 - a2)))\n",
    "\n",
    "    #!Update weights\n",
    "    theta2 = theta2 - delta2\n",
    "    theta1 = theta1 - delta1"
   ],
   "metadata": {
    "collapsed": false,
    "ExecuteTime": {
     "end_time": "2023-06-26T22:19:41.056404800Z",
     "start_time": "2023-06-26T22:19:41.051816900Z"
    }
   }
  },
  {
   "cell_type": "code",
   "execution_count": 22,
   "outputs": [
    {
     "name": "stdout",
     "output_type": "stream",
     "text": [
      "Iteration: 0 RMSE: 0.6111366079396151\n"
     ]
    },
    {
     "ename": "ValueError",
     "evalue": "operands could not be broadcast together with shapes (4,4) (4,5) ",
     "output_type": "error",
     "traceback": [
      "\u001B[1;31m---------------------------------------------------------------------------\u001B[0m",
      "\u001B[1;31mValueError\u001B[0m                                Traceback (most recent call last)",
      "Cell \u001B[1;32mIn[22], line 40\u001B[0m\n\u001B[0;32m     38\u001B[0m \u001B[38;5;66;03m# Backpropagation\u001B[39;00m\n\u001B[0;32m     39\u001B[0m delta3 \u001B[38;5;241m=\u001B[39m h3 \u001B[38;5;241m-\u001B[39m Y\n\u001B[1;32m---> 40\u001B[0m delta2 \u001B[38;5;241m=\u001B[39m np\u001B[38;5;241m.\u001B[39mmatmul(delta3 \u001B[38;5;241m*\u001B[39m h3 \u001B[38;5;241m*\u001B[39m (\u001B[38;5;241m1\u001B[39m \u001B[38;5;241m-\u001B[39m h3), theta2[:, \u001B[38;5;241m1\u001B[39m:]) \u001B[38;5;241m*\u001B[39m h2 \u001B[38;5;241m*\u001B[39m (\u001B[38;5;241m1\u001B[39m \u001B[38;5;241m-\u001B[39m h2)\n\u001B[0;32m     42\u001B[0m theta2 \u001B[38;5;241m-\u001B[39m\u001B[38;5;241m=\u001B[39m learning_rate \u001B[38;5;241m*\u001B[39m np\u001B[38;5;241m.\u001B[39mmatmul(delta3\u001B[38;5;241m.\u001B[39mT, h2)\n\u001B[0;32m     43\u001B[0m theta1 \u001B[38;5;241m-\u001B[39m\u001B[38;5;241m=\u001B[39m learning_rate \u001B[38;5;241m*\u001B[39m np\u001B[38;5;241m.\u001B[39mmatmul(delta2[:, \u001B[38;5;241m1\u001B[39m:]\u001B[38;5;241m.\u001B[39mT, h1)\n",
      "\u001B[1;31mValueError\u001B[0m: operands could not be broadcast together with shapes (4,4) (4,5) "
     ]
    }
   ],
   "source": [
    "import numpy as np\n",
    "\n",
    "def sigmoid(x):\n",
    "    return 1 / (1 + np.exp(-x))\n",
    "\n",
    "X = np.array([[0, 0],\n",
    "              [0, 1],\n",
    "              [1, 0],\n",
    "              [1, 1]])\n",
    "\n",
    "Y = np.array([[0], [1], [1], [0]])\n",
    "\n",
    "m = X.shape[0]\n",
    "learning_rate = 0.1\n",
    "\n",
    "hidden_neurons = 4  # Number of neurons in the hidden layer\n",
    "\n",
    "# Initialize random weights\n",
    "theta1 = np.random.randn(hidden_neurons, X.shape[1] + 1)\n",
    "theta2 = np.random.randn(1, hidden_neurons + 1)\n",
    "\n",
    "for i in range(10000):  # Training iterations\n",
    "\n",
    "    # Forward propagation\n",
    "    h1 = np.insert(X, 0, 1, axis=1)\n",
    "    z2 = np.matmul(h1, theta1.T)\n",
    "    a2 = sigmoid(z2)\n",
    "\n",
    "    h2 = np.insert(a2, 0, 1, axis=1)\n",
    "    z3 = np.matmul(h2, theta2.T)\n",
    "\n",
    "    h3 = sigmoid(z3)\n",
    "\n",
    "    rmse = np.sqrt(np.mean((h3 - Y) ** 2))\n",
    "    if i % 1000 == 0:\n",
    "        print(\"Iteration:\", i, \"RMSE:\", rmse)\n",
    "\n",
    "    # Backpropagation\n",
    "    delta3 = h3 - Y\n",
    "    delta2 = np.matmul(delta3 * h3 * (1 - h3), theta2[:, 1:]) * h2 * (1 - h2)\n",
    "\n",
    "    theta2 -= learning_rate * np.matmul(delta3.T, h2)\n",
    "    theta1 -= learning_rate * np.matmul(delta2[:, 1:].T, h1)\n",
    "\n",
    "# Predict\n",
    "h1 = np.insert(X, 0, 1, axis=1)\n",
    "z2 = np.matmul(h1, theta1.T)\n",
    "a2 = sigmoid(z2)\n",
    "\n",
    "h2 = np.insert(a2, 0, 1, axis=1)\n",
    "z3 = np.matmul(h2, theta2.T)\n",
    "\n",
    "h3 = sigmoid(z3)\n",
    "predictions = np.round(h3)\n",
    "\n",
    "print(\"Predictions:\")\n",
    "print(predictions)\n",
    "\n"
   ],
   "metadata": {
    "collapsed": false,
    "ExecuteTime": {
     "end_time": "2023-06-26T22:24:03.716970700Z",
     "start_time": "2023-06-26T22:24:03.683570200Z"
    }
   }
  },
  {
   "cell_type": "code",
   "execution_count": 23,
   "outputs": [],
   "source": [
    "def sigmoid_prime(x):\n",
    "    return sigmoid(x)*(1-sigmoid(x))\n",
    "\n",
    "def forward_prop(X, theta1, theta2):\n",
    "    # insert bias at the first column\n",
    "    a1 = np.insert(X, 0, 1, axis=1)\n",
    "    z2 = np.dot(a1, theta1.T)\n",
    "    a2 = np.insert(sigmoid(z2), 0, 1, axis=1)\n",
    "    z3 = np.dot(a2, theta2.T)\n",
    "    a3 = sigmoid(z3)\n",
    "    return a1, z2, a2, z3, a3\n",
    "\n",
    "def cost_function(X, Y, theta1, theta2):\n",
    "    a1, z2, a2, z3, a3 = forward_prop(X, theta1, theta2)\n",
    "    m = X.shape[0]\n",
    "    J = 0\n",
    "    for i in range(m):\n",
    "        J += np.sum((a3[i] - Y[i])**2)\n",
    "    J = J/(2*m)\n",
    "    return J\n",
    "\n",
    "def back_prop(X, Y, theta1, theta2):\n",
    "    a1, z2, a2, z3, a3 = forward_prop(X, theta1, theta2)\n",
    "    m = X.shape[0]\n",
    "    delta3 = np.zeros((m, 1))\n",
    "    delta2 = np.zeros((m, 2))\n",
    "    for i in range(m):\n",
    "        delta3[i] = (a3[i] - Y[i])*sigmoid_prime(z3[i])\n",
    "        delta2[i] = np.dot(theta2.T, delta3[i])*sigmoid_prime(z2[i])\n",
    "    return delta2, delta3\n",
    "\n",
    "def gradient_descent(X, Y, theta1, theta2, alpha, num_iters):\n",
    "    m = X.shape[0]\n",
    "    J_history = np.zeros((num_iters, 1))\n",
    "    for i in range(num_iters):\n",
    "        delta2, delta3 = back_prop(X, Y, theta1, theta2)\n",
    "        theta1 = theta1 - alpha*np.dot(delta2.T, X)/m\n",
    "        theta2 = theta2 - alpha*np.dot(delta3.T, X)/m\n",
    "        J_history[i] = cost_function(X, Y, theta1, theta2)\n",
    "    return theta1, theta2, J_history\n",
    "\n",
    "def predict(X, theta1, theta2):\n",
    "    a1, z2, a2, z3, a3 = forward_prop(X, theta1, theta2)\n",
    "    return a3\n",
    "\n"
   ],
   "metadata": {
    "collapsed": false,
    "ExecuteTime": {
     "end_time": "2023-06-26T13:25:49.696513300Z",
     "start_time": "2023-06-26T13:25:49.694503600Z"
    }
   }
  },
  {
   "cell_type": "code",
   "execution_count": null,
   "outputs": [],
   "source": [],
   "metadata": {
    "collapsed": false
   }
  }
 ],
 "metadata": {
  "kernelspec": {
   "display_name": "Python 3",
   "language": "python",
   "name": "python3"
  },
  "language_info": {
   "codemirror_mode": {
    "name": "ipython",
    "version": 2
   },
   "file_extension": ".py",
   "mimetype": "text/x-python",
   "name": "python",
   "nbconvert_exporter": "python",
   "pygments_lexer": "ipython2",
   "version": "2.7.6"
  }
 },
 "nbformat": 4,
 "nbformat_minor": 0
}
