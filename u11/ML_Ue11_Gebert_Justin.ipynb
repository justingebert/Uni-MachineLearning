{
 "cells": [
  {
   "cell_type": "code",
   "execution_count": 1,
   "metadata": {
    "ExecuteTime": {
     "end_time": "2023-07-12T16:15:27.945581600Z",
     "start_time": "2023-07-12T16:15:27.013591700Z"
    }
   },
   "outputs": [],
   "source": [
    "import numpy as np\n",
    "import matplotlib.pyplot as plt\n",
    "\n",
    "from abc import ABC, abstractmethod"
   ]
  },
  {
   "cell_type": "markdown",
   "metadata": {},
   "source": [
    "### Preparing the data set\n",
    "\n",
    "There will be several data sets we therefore define abstract interface an implement concrete classes that derive the interface below."
   ]
  },
  {
   "cell_type": "code",
   "execution_count": 2,
   "metadata": {
    "ExecuteTime": {
     "end_time": "2023-07-12T16:15:27.953194100Z",
     "start_time": "2023-07-12T16:15:27.950119700Z"
    }
   },
   "outputs": [],
   "source": [
    "class Dataset(ABC):\n",
    "        \n",
    "    @abstractmethod\n",
    "    def get_train_x(self):\n",
    "        \"\"\" Retrieve the input data of the training \"\"\"\n",
    "        pass\n",
    "    \n",
    "    @abstractmethod\n",
    "    def get_train_y(self):\n",
    "        \"\"\" Retrieve the output data of the training \"\"\"\n",
    "        pass\n",
    "    \n",
    "    @abstractmethod\n",
    "    def get_test_x(self):\n",
    "        \"\"\" Retrieve the input data of the test \"\"\"\n",
    "        pass\n",
    "    \n",
    "    @abstractmethod\n",
    "    def get_test_y(self):\n",
    "        \"\"\" Retrieve the output data of the test \"\"\"\n",
    "        pass"
   ]
  },
  {
   "cell_type": "code",
   "execution_count": 3,
   "outputs": [],
   "source": [
    "class CreditDataset(Dataset):\n",
    "    def __init__(self):\n",
    "        self.data = np.loadtxt(\"../data/german_credit.csv\", delimiter=\",\", skiprows=1)\n",
    "        self.y = self.data[:, 15] # get the labels from the last column\n",
    "        self.x = self.data[:, 0:15] # get the features from the first 15 columns\n",
    "\n",
    "        #normalize data\n",
    "        data_min = np.min(self.x, axis=0)\n",
    "        data_max = np.max(self.x, axis=0)\n",
    "        x_norm = (self.x - data_min) / (data_max - data_min)\n",
    "\n",
    "        #one-hot encoding\n",
    "        self.y_encoded = np.zeros((self.y.shape[0], 3))\n",
    "        for i, label in enumerate(self.y):\n",
    "            if label == 1:\n",
    "                self.y_encoded[i, 0] = 1\n",
    "            elif label == 2:\n",
    "                self.y_encoded[i, 1] = 1\n",
    "            elif label == 3:\n",
    "                self.y_encoded[i, 2] = 1\n",
    "\n",
    "        #np where -> 3 classen -> shuffle -> 33 test -> rest\n",
    "        label1_idx = np.where(self.y == 1)[0]\n",
    "        label2_idx = np.where(self.y == 2)[0]\n",
    "        label3_idx = np.where(self.y == 3)[0]\n",
    "        np.random.shuffle(label1_idx)\n",
    "        np.random.shuffle(label2_idx)\n",
    "        np.random.shuffle(label3_idx)\n",
    "        test_l1_idx = label1_idx[:33]\n",
    "        test_l2_idx = label2_idx[:33]\n",
    "        test_l3_idx = label3_idx[:33]\n",
    "        train_l1_idx = label1_idx[33:]\n",
    "        train_l2_idx = label2_idx[33:]\n",
    "        train_l3_idx = label3_idx[33:]\n",
    "\n",
    "        self.train_x = np.vstack((x_norm[train_l1_idx], x_norm[train_l2_idx], x_norm[train_l3_idx]))\n",
    "        self.train_y = np.vstack((self.y_encoded[train_l1_idx], self.y_encoded[train_l2_idx], self.y_encoded[train_l3_idx]))\n",
    "        self.test_x = np.vstack((x_norm[test_l1_idx], x_norm[test_l2_idx], x_norm[test_l3_idx]))\n",
    "        self.test_y = np.vstack((self.y_encoded[test_l1_idx], self.y_encoded[test_l2_idx], self.y_encoded[test_l3_idx]))\n",
    "\n",
    "    def get_train_x(self):\n",
    "        return self.train_x\n",
    "\n",
    "    def get_train_y(self):\n",
    "        return self.train_y\n",
    "\n",
    "    def get_test_x(self):\n",
    "        return self.test_x\n",
    "\n",
    "    def get_test_y(self):\n",
    "        return self.test_y"
   ],
   "metadata": {
    "collapsed": false,
    "ExecuteTime": {
     "end_time": "2023-07-12T16:15:27.971243200Z",
     "start_time": "2023-07-12T16:15:27.963491200Z"
    }
   }
  },
  {
   "cell_type": "code",
   "execution_count": 4,
   "outputs": [],
   "source": [
    "class CreditDatasetOversampled(Dataset):\n",
    "    def __init__(self):\n",
    "        self.data = np.loadtxt(\"../data/german_credit.csv\", delimiter=\",\", skiprows=1)\n",
    "        self.y = self.data[:, 15] # get the labels from the last column\n",
    "        self.x = self.data[:, 0:15] # get the features from the first 15 columns\n",
    "\n",
    "        #normalize data\n",
    "        data_min = np.min(self.x, axis=0)\n",
    "        data_max = np.max(self.x, axis=0)\n",
    "        x_norm = (self.x - data_min) / (data_max - data_min)\n",
    "\n",
    "        #one-hot encoding\n",
    "        self.y_encoded = np.zeros((self.y.shape[0], 3))\n",
    "        for i, label in enumerate(self.y):\n",
    "            if label == 1:\n",
    "                self.y_encoded[i, 0] = 1\n",
    "            elif label == 2:\n",
    "                self.y_encoded[i, 1] = 1\n",
    "            elif label == 3:\n",
    "                self.y_encoded[i, 2] = 1\n",
    "\n",
    "        #np where -> 3 classen -> shuffle -> 33 test -> rest\n",
    "        label1_idx = np.where(self.y == 1)[0]\n",
    "        label2_idx = np.where(self.y == 2)[0]\n",
    "        label3_idx = np.where(self.y == 3)[0]\n",
    "        np.random.shuffle(label1_idx)\n",
    "        np.random.shuffle(label2_idx)\n",
    "        np.random.shuffle(label3_idx)\n",
    "        test_l1_idx = label1_idx[:33]\n",
    "        test_l2_idx = label2_idx[:33]\n",
    "        test_l3_idx = label3_idx[:33]\n",
    "        train_l1_idx = label1_idx[33:]\n",
    "        train_l2_idx = label2_idx[33:]\n",
    "        train_l3_idx = label3_idx[33:]\n",
    "\n",
    "        #oversampling\n",
    "        arrays = [train_l1_idx,train_l2_idx, train_l3_idx]\n",
    "        # max size\n",
    "        max_size = max(np.shape(array) for array in arrays)\n",
    "        oversampled_train_data = [np.random.choice(arr, size=max_size, replace=True)\n",
    "                                  if np.shape(arr) < max_size\n",
    "                                  else arr\n",
    "                                  for arr in arrays]\n",
    "\n",
    "        train_l1_idx = oversampled_train_data[0]\n",
    "        train_l2_idx = oversampled_train_data[1]\n",
    "        train_l3_idx = oversampled_train_data[2]\n",
    "\n",
    "        self.train_x = np.vstack((x_norm[train_l1_idx], x_norm[train_l2_idx], x_norm[train_l3_idx]))\n",
    "        self.train_y = np.vstack((self.y_encoded[train_l1_idx], self.y_encoded[train_l2_idx], self.y_encoded[train_l3_idx]))\n",
    "        self.test_x = np.vstack((x_norm[test_l1_idx], x_norm[test_l2_idx], x_norm[test_l3_idx]))\n",
    "        self.test_y = np.vstack((self.y_encoded[test_l1_idx], self.y_encoded[test_l2_idx], self.y_encoded[test_l3_idx]))\n",
    "\n",
    "    def get_train_x(self):\n",
    "        return self.train_x\n",
    "\n",
    "    def get_train_y(self):\n",
    "        return self.train_y\n",
    "\n",
    "    def get_test_x(self):\n",
    "        return self.test_x\n",
    "\n",
    "    def get_test_y(self):\n",
    "        return self.test_y"
   ],
   "metadata": {
    "collapsed": false,
    "ExecuteTime": {
     "end_time": "2023-07-12T16:15:28.017059300Z",
     "start_time": "2023-07-12T16:15:27.982137400Z"
    }
   }
  },
  {
   "cell_type": "code",
   "execution_count": 5,
   "outputs": [],
   "source": [
    "class CreditDatasetUndersampled(Dataset):\n",
    "    def __init__(self):\n",
    "        self.data = np.loadtxt(\"../data/german_credit.csv\", delimiter=\",\", skiprows=1)\n",
    "        self.y = self.data[:, 15] # get the labels from the last column\n",
    "        self.x = self.data[:, 0:15] # get the features from the first 15 columns\n",
    "\n",
    "        #normalize data\n",
    "        data_min = np.min(self.x, axis=0)\n",
    "        data_max = np.max(self.x, axis=0)\n",
    "        x_norm = (self.x - data_min) / (data_max - data_min)\n",
    "\n",
    "        #one-hot encoding\n",
    "        self.y_encoded = np.zeros((self.y.shape[0], 3))\n",
    "        for i, label in enumerate(self.y):\n",
    "            if label == 1:\n",
    "                self.y_encoded[i, 0] = 1\n",
    "            elif label == 2:\n",
    "                self.y_encoded[i, 1] = 1\n",
    "            elif label == 3:\n",
    "                self.y_encoded[i, 2] = 1\n",
    "\n",
    "        #np where -> 3 classen -> shuffle -> 33 test -> rest\n",
    "        label1_idx = np.where(self.y == 1)[0]\n",
    "        label2_idx = np.where(self.y == 2)[0]\n",
    "        label3_idx = np.where(self.y == 3)[0]\n",
    "        np.random.shuffle(label1_idx)\n",
    "        np.random.shuffle(label2_idx)\n",
    "        np.random.shuffle(label3_idx)\n",
    "        test_l1_idx = label1_idx[:33]\n",
    "        test_l2_idx = label2_idx[:33]\n",
    "        test_l3_idx = label3_idx[:33]\n",
    "        train_l1_idx = label1_idx[33:]\n",
    "        train_l2_idx = label2_idx[33:]\n",
    "        train_l3_idx = label3_idx[33:]\n",
    "\n",
    "        #undersampling\n",
    "        arrays = [train_l1_idx, train_l2_idx, train_l3_idx]\n",
    "        # min size\n",
    "        min_size = min(np.shape(array) for array in arrays)\n",
    "        undersampled_train_data = [np.random.choice(arr, size=min_size, replace=False) for arr in arrays]\n",
    "\n",
    "        train_l1_idx = undersampled_train_data[0]\n",
    "        train_l2_idx = undersampled_train_data[1]\n",
    "        train_l3_idx = undersampled_train_data[2]\n",
    "\n",
    "        self.train_x = np.vstack((x_norm[train_l1_idx], x_norm[train_l2_idx], x_norm[train_l3_idx]))\n",
    "        self.train_y = np.vstack((self.y_encoded[train_l1_idx], self.y_encoded[train_l2_idx], self.y_encoded[train_l3_idx]))\n",
    "        self.test_x = np.vstack((x_norm[test_l1_idx], x_norm[test_l2_idx], x_norm[test_l3_idx]))\n",
    "        self.test_y = np.vstack((self.y_encoded[test_l1_idx], self.y_encoded[test_l2_idx], self.y_encoded[test_l3_idx]))\n",
    "\n",
    "    def get_train_x(self):\n",
    "        return self.train_x\n",
    "\n",
    "    def get_train_y(self):\n",
    "        return self.train_y\n",
    "\n",
    "    def get_test_x(self):\n",
    "        return self.test_x\n",
    "\n",
    "    def get_test_y(self):\n",
    "        return self.test_y"
   ],
   "metadata": {
    "collapsed": false,
    "ExecuteTime": {
     "end_time": "2023-07-12T16:15:28.018118500Z",
     "start_time": "2023-07-12T16:15:28.000255200Z"
    }
   }
  },
  {
   "cell_type": "markdown",
   "metadata": {},
   "source": [
    "### Operations of a neural network\n",
    "\n",
    "Every neural network consists of serveral operations which gets executed during a forward and backward pass"
   ]
  },
  {
   "cell_type": "code",
   "execution_count": 6,
   "metadata": {
    "ExecuteTime": {
     "end_time": "2023-07-12T16:15:28.060565Z",
     "start_time": "2023-07-12T16:15:28.018118500Z"
    }
   },
   "outputs": [],
   "source": [
    "class Operation(ABC):\n",
    "        \n",
    "    @abstractmethod\n",
    "    def forward(self, data):\n",
    "        \"\"\" Forward pass of the operation. Process the input data.\n",
    "        \n",
    "        Parameters\n",
    "        ----------\n",
    "        data : ndarray\n",
    "            Data from the last layer\n",
    "        \n",
    "        Returns\n",
    "        -------\n",
    "        result : ndarray\n",
    "            The result of processing the input data\n",
    "        \"\"\"\n",
    "        pass\n",
    "    \n",
    "    @abstractmethod\n",
    "    def backward(self, gradient_data):\n",
    "        \"\"\" Backward pass of the operation. The gradient data is uses \n",
    "        to compute the changes of weights and the partial gradient of \n",
    "        the this layer.\n",
    "        \n",
    "        Parameters\n",
    "        ----------\n",
    "        gradient_data : ndarray\n",
    "            Gradient data from the previous layer during the backward pass\n",
    "        \n",
    "        Returns\n",
    "        -------\n",
    "        result : ndarray\n",
    "            The partial gradient of the this layer with respect to the incoming gradient_data\n",
    "        \"\"\"\n",
    "        pass"
   ]
  },
  {
   "cell_type": "markdown",
   "metadata": {},
   "source": [
    "### TODO implement the different operations of a network"
   ]
  },
  {
   "cell_type": "code",
   "execution_count": 7,
   "metadata": {
    "ExecuteTime": {
     "end_time": "2023-07-12T16:15:28.122713700Z",
     "start_time": "2023-07-12T16:15:28.036216700Z"
    }
   },
   "outputs": [],
   "source": [
    "class BiasOperation(Operation):\n",
    "    \"\"\" Bias operation in the network \"\"\"\n",
    "    \n",
    "    def forward(self, data):\n",
    "        #print(\"bias data shape:\", data.shape)\n",
    "        return np.hstack(( data ,np.ones((data.shape[0], 1))))\n",
    "    \n",
    "    def backward(self, gradient_data):\n",
    "        return gradient_data[:,1:]"
   ]
  },
  {
   "cell_type": "code",
   "execution_count": 8,
   "metadata": {
    "ExecuteTime": {
     "end_time": "2023-07-12T16:15:28.123713900Z",
     "start_time": "2023-07-12T16:15:28.061477800Z"
    }
   },
   "outputs": [],
   "source": [
    "class SigmoidOperation(Operation):\n",
    "    \"\"\" Sigmoid function in the network \"\"\"\n",
    "    _z = None\n",
    "\n",
    "    def forward(self, data):\n",
    "        self._z = 1 / (1 + np.exp(-data))\n",
    "        return self._z\n",
    "    \n",
    "    def backward(self, gradient_data):\n",
    "        return gradient_data * self._z * (1 - self._z)"
   ]
  },
  {
   "cell_type": "code",
   "execution_count": 9,
   "metadata": {
    "ExecuteTime": {
     "end_time": "2023-07-12T16:15:28.124723800Z",
     "start_time": "2023-07-12T16:15:28.083382200Z"
    }
   },
   "outputs": [],
   "source": [
    "class LossOperation(Operation):\n",
    "    \"\"\" Loss function in the network \"\"\"    \n",
    "    _y = None\n",
    "    \n",
    "    def set_y(self, y):\n",
    "        \"\"\" Store the correct y value for later comparison \"\"\"\n",
    "        self._y = y\n",
    "    \n",
    "    def forward(self, data):\n",
    "        #print(\"loss data shape:\", data.shape)\n",
    "        return 0.5 * (data - self._y) ** 2\n",
    "    \n",
    "    def backward(self, gradient_data):\n",
    "        return (gradient_data - self._y)"
   ]
  },
  {
   "cell_type": "code",
   "execution_count": 10,
   "metadata": {
    "ExecuteTime": {
     "end_time": "2023-07-12T16:15:28.125755700Z",
     "start_time": "2023-07-12T16:15:28.098139700Z"
    }
   },
   "outputs": [],
   "source": [
    "class InnerProductOperation(Operation):\n",
    "    \"\"\" Inner Product, Fully Connected or Dense operation in the network \"\"\"\n",
    "    _learn_rate = 0.1\n",
    "    _weights = None\n",
    "    _input_data = None\n",
    "    \n",
    "    def __init__(self, input_units, hidden_units):\n",
    "        self._weights = np.random.uniform(low = -1, high = 1, size = (input_units, hidden_units))\n",
    "    \n",
    "    def set_learn_rate(self, learn_rate):\n",
    "        \"\"\" Change the learn rate \"\"\"\n",
    "        self._learn_rate = learn_rate\n",
    "    \n",
    "    def forward(self, data):\n",
    "        #print(\"data shape:\", data.shape)\n",
    "        #print(\"weights shape:\", self._weights.shape)\n",
    "        self._input_data = data\n",
    "        return np.matmul(data, self._weights)\n",
    "    \n",
    "    def backward(self, gradient_data):\n",
    "        gradient = np.matmul(self._input_data.T, gradient_data)\n",
    "        #ableitung input\n",
    "        inp = np.matmul(gradient_data, self._weights.T)\n",
    "\n",
    "        self._weights = self._weights - (self._learn_rate / self._input_data.shape[0] * gradient)\n",
    "\n",
    "        return inp"
   ]
  },
  {
   "cell_type": "markdown",
   "metadata": {},
   "source": [
    "### Setup the neural network \n",
    "\n",
    "Using the operations we can now build our own neural network"
   ]
  },
  {
   "cell_type": "code",
   "execution_count": 11,
   "metadata": {
    "ExecuteTime": {
     "end_time": "2023-07-12T16:15:28.126717100Z",
     "start_time": "2023-07-12T16:15:28.112666500Z"
    }
   },
   "outputs": [],
   "source": [
    "class Network(ABC):\n",
    "    \n",
    "    _ops = []\n",
    "    _train_errors = []\n",
    "    _test_accuracies = []\n",
    "    \n",
    "    def get_test_accuracies(self):\n",
    "        return self._test_accuracies\n",
    "    \n",
    "    def get_train_errors(self):\n",
    "        return self._train_errors\n",
    "    \n",
    "    def predict(self,data):\n",
    "        return self.forwardPass(data, len(self._ops)-1)\n",
    "    \n",
    "    def forwardPass(self,data, layers):\n",
    "        result = data\n",
    "        for op in range(0,layers):     \n",
    "            result = self._ops[op].forward(result)\n",
    "            #print(\"result shape:\", result.shape)\n",
    "        return (result)\n",
    "        \n",
    "    def backwardPass(self, data, layers):\n",
    "        result = data\n",
    "        for op in range(len(self._ops)-1, len(self._ops) - layers , -1):\n",
    "            result = self._ops[op].backward(result)\n",
    "        return result\n",
    "    \n",
    "    @abstractmethod\n",
    "    def train(self, dataset, epochs, learn_rate, error_output_every):\n",
    "        \"\"\" Train the neural network with the data set several epochs.\n",
    "        Compute the train error and test accurarcy after some iterations.\n",
    "        \n",
    "        Parameters\n",
    "        ----------\n",
    "        dataset : ndarray\n",
    "            Data from the last layer\n",
    "        epochs : int\n",
    "            Number of epochs to be trained\n",
    "        learn_rate : float\n",
    "            Learn rated to be used to changing the weights of the network\n",
    "        error_output_every : int\n",
    "            After how many iterations should the train error and test accurarcy be calculated\n",
    "        \"\"\"\n",
    "        pass"
   ]
  },
  {
   "cell_type": "markdown",
   "source": [
    "### TODO implement mini btaches into CreditNetwork training\n"
   ],
   "metadata": {
    "collapsed": false
   }
  },
  {
   "cell_type": "code",
   "execution_count": 12,
   "outputs": [],
   "source": [
    "class CreditNetwork(Network):\n",
    "    def __init__(self, input_units, output_units, hidden_units):\n",
    "        self._ops = []\n",
    "        self._ops.append(BiasOperation())\n",
    "        self._ops.append(InnerProductOperation(input_units + 1, hidden_units))\n",
    "        self._ops.append(SigmoidOperation())\n",
    "        self._ops.append(BiasOperation())\n",
    "        self._ops.append(InnerProductOperation(hidden_units + 1, output_units))\n",
    "        self._ops.append(SigmoidOperation())\n",
    "        self._ops.append(LossOperation())\n",
    "        print('Setup Credit Network')\n",
    "\n",
    "    def train(self, dataset, epochs, learn_rate, error_output_every):\n",
    "        print('Start training of the Credit network ...')\n",
    "\n",
    "        # Clear old train errors and test accuracies\n",
    "        self._train_errors = []\n",
    "        self._test_accuracies = []\n",
    "\n",
    "        # Fix learn rate for all layers\n",
    "        for op in self._ops:\n",
    "            if type(op) == InnerProductOperation:\n",
    "                op.set_learn_rate(learn_rate)\n",
    "\n",
    "        # Get the last layer (loss layer)\n",
    "        last_layer = self._ops[len(self._ops) - 1]\n",
    "\n",
    "        # Get the train and test data\n",
    "        train_x = dataset.get_train_x()\n",
    "        train_y = dataset.get_train_y()\n",
    "        test_x = dataset.get_test_x()\n",
    "        test_y = dataset.get_test_y()\n",
    "\n",
    "        # Train the network\n",
    "        for e in range(0, epochs + 1):\n",
    "            # Forward propagation\n",
    "            hypothese = self.predict(train_x)\n",
    "\n",
    "            # Place the target data in the loss layer\n",
    "            last_layer.set_y(train_y)\n",
    "\n",
    "            # Backward propagate and change the weights\n",
    "            self.backwardPass(hypothese, len(self._ops))\n",
    "\n",
    "            # Print the train error and test accuracy after a certain number of epochs\n",
    "            if e % error_output_every == 0:\n",
    "                # Compute train error with the train data\n",
    "                error = last_layer.forward(hypothese).sum() / train_x.shape[0]\n",
    "                self._train_errors.append(error)\n",
    "\n",
    "                # Compute test accuracy with the test data\n",
    "                predictions = self.predict(test_x)\n",
    "\n",
    "                predicted_labels = np.argmax(predictions, axis=1)\n",
    "                test_labels = np.argmax(test_y, axis=1)\n",
    "\n",
    "                total_matches = (predicted_labels == test_labels).sum()\n",
    "\n",
    "                accuracy = total_matches / test_x.shape[0]\n",
    "                self._test_accuracies.append(accuracy * 100)\n",
    "                print('Epoch', e, 'with error:', error, 'and accuracy:', accuracy)"
   ],
   "metadata": {
    "collapsed": false,
    "ExecuteTime": {
     "end_time": "2023-07-12T16:15:28.163650500Z",
     "start_time": "2023-07-12T16:15:28.127740500Z"
    }
   }
  },
  {
   "cell_type": "code",
   "execution_count": 13,
   "outputs": [],
   "source": [
    "class CreditNetwork_miniBatches(Network):\n",
    "    def __init__(self, input_units, output_units, hidden_units, batch_size):\n",
    "        self._ops = []\n",
    "        self._ops.append(BiasOperation())\n",
    "        self._ops.append(InnerProductOperation(input_units + 1, hidden_units))\n",
    "        self._ops.append(SigmoidOperation())\n",
    "        self._ops.append(BiasOperation())\n",
    "        self._ops.append(InnerProductOperation(hidden_units + 1, output_units))\n",
    "        self._ops.append(SigmoidOperation())\n",
    "        self._ops.append(LossOperation())\n",
    "        self._batch_size = batch_size\n",
    "        print('Setup Credit Network')\n",
    "\n",
    "    def train(self, dataset, epochs, learn_rate, error_output_every):\n",
    "        print('Start training of the Credit network with mini-Batches...')\n",
    "\n",
    "        # Clear old train errors and test accuracies\n",
    "        self._train_errors = []\n",
    "        self._test_accuracies = []\n",
    "\n",
    "        # Fix learn rate for all layers\n",
    "        for op in self._ops:\n",
    "            if type(op) == InnerProductOperation:\n",
    "                op.set_learn_rate(learn_rate)\n",
    "\n",
    "        # Get the last layer (loss layer)\n",
    "        last_layer = self._ops[len(self._ops) - 1]\n",
    "\n",
    "        # Get the train and test data\n",
    "        train_x = dataset.get_train_x()\n",
    "        train_y = dataset.get_train_y()\n",
    "        test_x = dataset.get_test_x()\n",
    "        test_y = dataset.get_test_y()\n",
    "\n",
    "        # Train the network\n",
    "        num_batches = train_x.shape[0] // self._batch_size\n",
    "        for e in range(0, epochs + 1):\n",
    "\n",
    "            shuffled_indices = np.random.permutation(train_x.shape[0])\n",
    "            shuffled_train_x = train_x[shuffled_indices]\n",
    "            shuffled_train_y = train_y[shuffled_indices]\n",
    "\n",
    "            # Mini-batch training\n",
    "            for b in range(num_batches):\n",
    "                start = b * self._batch_size\n",
    "                end = start + self._batch_size\n",
    "                batch_x = shuffled_train_x[start:end]\n",
    "                batch_y = shuffled_train_y[start:end]\n",
    "                # Forward propagation\n",
    "                hypothese = self.predict(batch_x)\n",
    "\n",
    "                # Place the target data in the loss layer\n",
    "                last_layer.set_y(batch_y)\n",
    "\n",
    "                # Backward propagate and change the weights\n",
    "                self.backwardPass(hypothese, len(self._ops))\n",
    "\n",
    "            # Print the train error and test accuracy after a certain number of epochs\n",
    "            if e % error_output_every == 0:\n",
    "                # Compute train error with the train data\n",
    "                error = last_layer.forward(hypothese).sum() / batch_x.shape[0]\n",
    "                self._train_errors.append(error)\n",
    "\n",
    "                # Compute test accuracy with the test data\n",
    "                predictions = self.predict(test_x)\n",
    "\n",
    "                predicted_labels = np.argmax(predictions, axis=1)\n",
    "                test_labels = np.argmax(test_y, axis=1)\n",
    "\n",
    "                total_matches = (predicted_labels == test_labels).sum()\n",
    "\n",
    "                accuracy = total_matches / test_x.shape[0]\n",
    "                self._test_accuracies.append(accuracy * 100)\n",
    "                print('Epoch', e, 'with error:', error, 'and accuracy:', accuracy)"
   ],
   "metadata": {
    "collapsed": false,
    "ExecuteTime": {
     "end_time": "2023-07-12T16:15:28.163650500Z",
     "start_time": "2023-07-12T16:15:28.136126100Z"
    }
   }
  },
  {
   "cell_type": "markdown",
   "source": [
    "# Full Batch network with default data\n",
    "- values (it, lr, hu,...) below\n",
    "\n",
    "learns very slow and not very accurate"
   ],
   "metadata": {
    "collapsed": false
   }
  },
  {
   "cell_type": "code",
   "execution_count": 14,
   "outputs": [
    {
     "name": "stdout",
     "output_type": "stream",
     "text": [
      "Setup Credit Network\n",
      "Start training of the Credit network ...\n",
      "Epoch 0 with error: 0.5055564645720573 and accuracy: 0.35353535353535354\n",
      "Epoch 100 with error: 0.19465613175483779 and accuracy: 0.3333333333333333\n",
      "Epoch 200 with error: 0.18564453957131508 and accuracy: 0.3333333333333333\n",
      "Epoch 300 with error: 0.17871776177011967 and accuracy: 0.3333333333333333\n",
      "Epoch 400 with error: 0.1744034918332664 and accuracy: 0.3333333333333333\n",
      "Epoch 500 with error: 0.17162192653786462 and accuracy: 0.36363636363636365\n",
      "Epoch 600 with error: 0.17002433619259638 and accuracy: 0.36363636363636365\n",
      "Epoch 700 with error: 0.16887451909436824 and accuracy: 0.35353535353535354\n",
      "Epoch 800 with error: 0.1669763850282983 and accuracy: 0.3838383838383838\n",
      "Epoch 900 with error: 0.16398571541768442 and accuracy: 0.3838383838383838\n",
      "Epoch 1000 with error: 0.16058131432825962 and accuracy: 0.40404040404040403\n",
      "Epoch 1100 with error: 0.15750462356101738 and accuracy: 0.40404040404040403\n",
      "Epoch 1200 with error: 0.15535967972000223 and accuracy: 0.41414141414141414\n",
      "Epoch 1300 with error: 0.15329602810817297 and accuracy: 0.42424242424242425\n",
      "Epoch 1400 with error: 0.15045294687095928 and accuracy: 0.45454545454545453\n",
      "Epoch 1500 with error: 0.14770531537665244 and accuracy: 0.5050505050505051\n",
      "Epoch 1600 with error: 0.145022520991458 and accuracy: 0.5252525252525253\n",
      "Epoch 1700 with error: 0.14267311690589393 and accuracy: 0.5252525252525253\n",
      "Epoch 1800 with error: 0.14070807843312313 and accuracy: 0.5353535353535354\n",
      "Epoch 1900 with error: 0.13905131100322615 and accuracy: 0.5757575757575758\n",
      "Epoch 2000 with error: 0.1376335120149672 and accuracy: 0.5858585858585859\n",
      "Epoch 2100 with error: 0.13641810838317647 and accuracy: 0.5858585858585859\n",
      "Epoch 2200 with error: 0.13539860110163368 and accuracy: 0.5858585858585859\n",
      "Epoch 2300 with error: 0.13460054450341422 and accuracy: 0.5959595959595959\n",
      "Epoch 2400 with error: 0.13408592035799594 and accuracy: 0.5959595959595959\n",
      "Epoch 2500 with error: 0.1339228254969756 and accuracy: 0.6161616161616161\n",
      "Epoch 2600 with error: 0.13404031426604915 and accuracy: 0.6060606060606061\n",
      "Epoch 2700 with error: 0.13405367943305466 and accuracy: 0.6060606060606061\n",
      "Epoch 2800 with error: 0.13354564607139713 and accuracy: 0.6060606060606061\n",
      "Epoch 2900 with error: 0.13253422144230628 and accuracy: 0.6161616161616161\n",
      "Epoch 3000 with error: 0.13131539283294622 and accuracy: 0.6161616161616161\n",
      "Epoch 3100 with error: 0.1301224764925428 and accuracy: 0.6161616161616161\n",
      "Epoch 3200 with error: 0.12904817801521024 and accuracy: 0.6565656565656566\n",
      "Epoch 3300 with error: 0.1281016135469861 and accuracy: 0.6767676767676768\n",
      "Epoch 3400 with error: 0.127262986149568 and accuracy: 0.6767676767676768\n",
      "Epoch 3500 with error: 0.12650826799418047 and accuracy: 0.6767676767676768\n",
      "Epoch 3600 with error: 0.12581611454827488 and accuracy: 0.6767676767676768\n",
      "Epoch 3700 with error: 0.12516903502493704 and accuracy: 0.6767676767676768\n",
      "Epoch 3800 with error: 0.12455341015338453 and accuracy: 0.6767676767676768\n",
      "Epoch 3900 with error: 0.12395923363527593 and accuracy: 0.6868686868686869\n",
      "Epoch 4000 with error: 0.12337974499454439 and accuracy: 0.696969696969697\n",
      "Epoch 4100 with error: 0.12281112071527665 and accuracy: 0.696969696969697\n",
      "Epoch 4200 with error: 0.12225208687133457 and accuracy: 0.696969696969697\n",
      "Epoch 4300 with error: 0.12170306027293581 and accuracy: 0.6868686868686869\n",
      "Epoch 4400 with error: 0.12116506946855134 and accuracy: 0.6767676767676768\n",
      "Epoch 4500 with error: 0.12063946108713589 and accuracy: 0.6868686868686869\n",
      "Epoch 4600 with error: 0.12012852972414842 and accuracy: 0.6868686868686869\n",
      "Epoch 4700 with error: 0.11963586692619427 and accuracy: 0.6868686868686869\n",
      "Epoch 4800 with error: 0.11916559151115053 and accuracy: 0.6868686868686869\n",
      "Epoch 4900 with error: 0.11872103278359657 and accuracy: 0.6868686868686869\n",
      "Epoch 5000 with error: 0.11830394648758119 and accuracy: 0.6666666666666666\n",
      "overall accuracy =  66.66666666666666\n"
     ]
    }
   ],
   "source": [
    "training_iterations = 5000\n",
    "error_output_every = 100\n",
    "learn_rate = 3\n",
    "hidden_units = 6\n",
    "np.random.seed(5)\n",
    "\n",
    "dataSet = CreditDataset()\n",
    "network = CreditNetwork(dataSet.get_train_x().shape[1], dataSet.get_train_y().shape[1], hidden_units)\n",
    "\n",
    "network.train(dataSet, training_iterations, learn_rate, error_output_every)\n",
    "#print('final prediction: \\n', network.predict(dataSet.get_test_x()))\n",
    "accuracies = network.get_test_accuracies()\n",
    "errors = network.get_train_errors()\n",
    "print('overall accuracy = ', accuracies[len(network.get_test_accuracies())-1])"
   ],
   "metadata": {
    "collapsed": false,
    "ExecuteTime": {
     "end_time": "2023-07-12T16:15:30.128644300Z",
     "start_time": "2023-07-12T16:15:28.164662800Z"
    }
   }
  },
  {
   "cell_type": "code",
   "execution_count": 15,
   "outputs": [
    {
     "data": {
      "text/plain": "(0.0, 5000.0, 0.0, 100.0)"
     },
     "execution_count": 15,
     "metadata": {},
     "output_type": "execute_result"
    },
    {
     "data": {
      "text/plain": "<Figure size 640x480 with 1 Axes>",
      "image/png": "[encoded data removed]"
     },
     "metadata": {},
     "output_type": "display_data"
    }
   ],
   "source": [
    "plt.plot(np.linspace(0, training_iterations, len(accuracies)), accuracies, 'b', label ='credit data')\n",
    "plt.xlabel('Epochs')\n",
    "plt.ylabel('accuracy')\n",
    "plt.axis([0, training_iterations, 0, 100 ])"
   ],
   "metadata": {
    "collapsed": false,
    "ExecuteTime": {
     "end_time": "2023-07-12T16:15:30.410887Z",
     "start_time": "2023-07-12T16:15:30.126644100Z"
    }
   }
  },
  {
   "cell_type": "code",
   "execution_count": 16,
   "outputs": [
    {
     "data": {
      "text/plain": "(0.0, 5000.0, 0.0, 0.5)"
     },
     "execution_count": 16,
     "metadata": {},
     "output_type": "execute_result"
    },
    {
     "data": {
      "text/plain": "<Figure size 640x480 with 1 Axes>",
      "image/png": "[encoded data removed]"
     },
     "metadata": {},
     "output_type": "display_data"
    }
   ],
   "source": [
    "plt.plot(np.linspace(0, training_iterations, len(errors)), errors, 'b', label ='credit data')\n",
    "plt.xlabel('Epochs')\n",
    "plt.ylabel('predirction error')\n",
    "plt.axis([0, training_iterations, 0, 0.5 ])"
   ],
   "metadata": {
    "collapsed": false,
    "ExecuteTime": {
     "end_time": "2023-07-12T16:15:30.814428300Z",
     "start_time": "2023-07-12T16:15:30.417253300Z"
    }
   }
  },
  {
   "cell_type": "markdown",
   "source": [
    "# Mini Batch network with default data\n",
    "- values (it, lr, hu,...) below\n",
    "\n",
    "learns faster, similar accuracy, lower learning rate"
   ],
   "metadata": {
    "collapsed": false
   }
  },
  {
   "cell_type": "code",
   "execution_count": 38,
   "outputs": [
    {
     "name": "stdout",
     "output_type": "stream",
     "text": [
      "Setup Credit Network\n",
      "Start training of the Credit network with mini-Batches...\n",
      "Epoch 0 with error: 0.2053853946829541 and accuracy: 0.3333333333333333\n",
      "Epoch 50 with error: 0.24204573458904355 and accuracy: 0.3333333333333333\n",
      "Epoch 100 with error: 0.16656411530901838 and accuracy: 0.3333333333333333\n",
      "Epoch 150 with error: 0.16331230320347498 and accuracy: 0.3434343434343434\n",
      "Epoch 200 with error: 0.1633452245669234 and accuracy: 0.3838383838383838\n",
      "Epoch 250 with error: 0.1603970639864236 and accuracy: 0.45454545454545453\n",
      "Epoch 300 with error: 0.1334850497865045 and accuracy: 0.494949494949495\n",
      "Epoch 350 with error: 0.1140066416134285 and accuracy: 0.5151515151515151\n",
      "Epoch 400 with error: 0.12845542866336193 and accuracy: 0.5353535353535354\n",
      "Epoch 450 with error: 0.2084556367963863 and accuracy: 0.5454545454545454\n",
      "Epoch 500 with error: 0.15653545453648518 and accuracy: 0.5454545454545454\n",
      "Epoch 550 with error: 0.13469614109522213 and accuracy: 0.5656565656565656\n",
      "Epoch 600 with error: 0.1443530525605748 and accuracy: 0.5656565656565656\n",
      "Epoch 650 with error: 0.15252842928190966 and accuracy: 0.5959595959595959\n",
      "Epoch 700 with error: 0.15186675342528666 and accuracy: 0.6060606060606061\n",
      "Epoch 750 with error: 0.17699330615825992 and accuracy: 0.6060606060606061\n",
      "Epoch 800 with error: 0.1252389017003568 and accuracy: 0.6060606060606061\n",
      "Epoch 850 with error: 0.150112969659007 and accuracy: 0.6060606060606061\n",
      "Epoch 900 with error: 0.1250957536553093 and accuracy: 0.6262626262626263\n",
      "Epoch 950 with error: 0.12417024737954861 and accuracy: 0.6262626262626263\n",
      "Epoch 1000 with error: 0.10621956199530239 and accuracy: 0.6262626262626263\n",
      "Epoch 1050 with error: 0.15597713701787708 and accuracy: 0.6262626262626263\n",
      "Epoch 1100 with error: 0.12337464706281903 and accuracy: 0.6363636363636364\n",
      "Epoch 1150 with error: 0.08372317565837419 and accuracy: 0.6363636363636364\n",
      "Epoch 1200 with error: 0.10850635344413113 and accuracy: 0.6464646464646465\n",
      "Epoch 1250 with error: 0.11904207245497644 and accuracy: 0.6464646464646465\n",
      "Epoch 1300 with error: 0.11988679238034645 and accuracy: 0.6666666666666666\n",
      "Epoch 1350 with error: 0.12335649917040264 and accuracy: 0.6666666666666666\n",
      "Epoch 1400 with error: 0.12749088225614835 and accuracy: 0.6666666666666666\n",
      "Epoch 1450 with error: 0.0981441554588483 and accuracy: 0.6666666666666666\n",
      "Epoch 1500 with error: 0.1185472014104764 and accuracy: 0.6666666666666666\n",
      "Epoch 1550 with error: 0.13760588220864065 and accuracy: 0.6666666666666666\n",
      "Epoch 1600 with error: 0.15236394230501651 and accuracy: 0.6363636363636364\n",
      "Epoch 1650 with error: 0.14977904152762558 and accuracy: 0.6464646464646465\n",
      "Epoch 1700 with error: 0.11518820335940899 and accuracy: 0.6565656565656566\n",
      "Epoch 1750 with error: 0.12289872473911195 and accuracy: 0.6464646464646465\n",
      "Epoch 1800 with error: 0.14640067330638143 and accuracy: 0.6464646464646465\n",
      "Epoch 1850 with error: 0.16333837443704674 and accuracy: 0.6363636363636364\n",
      "Epoch 1900 with error: 0.08103746186760219 and accuracy: 0.6363636363636364\n",
      "Epoch 1950 with error: 0.13318325442750995 and accuracy: 0.6363636363636364\n",
      "Epoch 2000 with error: 0.11669270517313007 and accuracy: 0.6565656565656566\n",
      "overall accuracy =  65.65656565656566\n"
     ]
    }
   ],
   "source": [
    "training_iterations = 2000\n",
    "error_output_every = 50\n",
    "learn_rate = 1\n",
    "hidden_units = 8\n",
    "np.random.seed(5)\n",
    "batch_size = 100\n",
    "\n",
    "dataSet = CreditDataset()\n",
    "network = CreditNetwork_miniBatches(dataSet.get_train_x().shape[1], dataSet.get_train_y().shape[1], hidden_units, batch_size)\n",
    "\n",
    "network.train(dataSet, training_iterations, learn_rate, error_output_every)\n",
    "#print('final prediction: \\n', network.predict(dataSet.get_test_x()))\n",
    "accuracies = network.get_test_accuracies()\n",
    "errors = network.get_train_errors()\n",
    "print('overall accuracy = ', accuracies[len(network.get_test_accuracies())-1])"
   ],
   "metadata": {
    "collapsed": false,
    "ExecuteTime": {
     "end_time": "2023-07-12T16:18:03.005143200Z",
     "start_time": "2023-07-12T16:17:59.378237500Z"
    }
   }
  },
  {
   "cell_type": "code",
   "execution_count": 39,
   "outputs": [
    {
     "name": "stdout",
     "output_type": "stream",
     "text": [
      "overall accuracy =  65.65656565656566\n"
     ]
    },
    {
     "data": {
      "text/plain": "(0.0, 2000.0, 0.0, 100.0)"
     },
     "execution_count": 39,
     "metadata": {},
     "output_type": "execute_result"
    },
    {
     "data": {
      "text/plain": "<Figure size 640x480 with 1 Axes>",
      "image/png": "[encoded data removed]"
     },
     "metadata": {},
     "output_type": "display_data"
    }
   ],
   "source": [
    "print('overall accuracy = ', accuracies[len(network.get_test_accuracies()) - 1])\n",
    "plt.plot(np.linspace(0, training_iterations, len(accuracies)), accuracies, 'r', label='credit data')\n",
    "plt.xlabel('Epochs')\n",
    "plt.ylabel('accuracy')\n",
    "plt.axis([0, training_iterations, 0, 100])"
   ],
   "metadata": {
    "collapsed": false,
    "ExecuteTime": {
     "end_time": "2023-07-12T16:18:03.224646400Z",
     "start_time": "2023-07-12T16:18:03.027706700Z"
    }
   }
  },
  {
   "cell_type": "code",
   "execution_count": 40,
   "outputs": [
    {
     "data": {
      "text/plain": "(0.0, 2000.0, 0.0, 0.5)"
     },
     "execution_count": 40,
     "metadata": {},
     "output_type": "execute_result"
    },
    {
     "data": {
      "text/plain": "<Figure size 640x480 with 1 Axes>",
      "image/png": "[encoded data removed]"
     },
     "metadata": {},
     "output_type": "display_data"
    }
   ],
   "source": [
    "plt.plot(np.linspace(0, training_iterations, len(errors)), errors, 'r', label ='credit data')\n",
    "plt.xlabel('Epochs')\n",
    "plt.ylabel('predirction error')\n",
    "plt.axis([0, training_iterations, 0, 0.5 ])"
   ],
   "metadata": {
    "collapsed": false,
    "ExecuteTime": {
     "end_time": "2023-07-12T16:18:10.038422700Z",
     "start_time": "2023-07-12T16:18:09.672065800Z"
    }
   }
  },
  {
   "cell_type": "markdown",
   "source": [
    "# Full Batch network with Undersampled data\n",
    "- values (it, lr, hu,...) below\n",
    "\n",
    "learns relatively fast, accuracy slightly higher , lower learning rate"
   ],
   "metadata": {
    "collapsed": false
   }
  },
  {
   "cell_type": "code",
   "execution_count": 86,
   "outputs": [
    {
     "name": "stdout",
     "output_type": "stream",
     "text": [
      "Setup Credit Network\n",
      "Start training of the Credit network ...\n",
      "Epoch 0 with error: 0.4982408498833479 and accuracy: 0.3333333333333333\n",
      "Epoch 100 with error: 0.3266317630832695 and accuracy: 0.43434343434343436\n",
      "Epoch 200 with error: 0.3060417327245946 and accuracy: 0.5252525252525253\n",
      "Epoch 300 with error: 0.28649517475411546 and accuracy: 0.6060606060606061\n",
      "Epoch 400 with error: 0.27224158394788917 and accuracy: 0.6060606060606061\n",
      "Epoch 500 with error: 0.26407918735896685 and accuracy: 0.5959595959595959\n",
      "Epoch 600 with error: 0.2622800761901165 and accuracy: 0.6060606060606061\n",
      "Epoch 700 with error: 0.2599252275887607 and accuracy: 0.6161616161616161\n",
      "Epoch 800 with error: 0.2509272971814256 and accuracy: 0.6363636363636364\n",
      "Epoch 900 with error: 0.24261995686392163 and accuracy: 0.6464646464646465\n",
      "Epoch 1000 with error: 0.23551500277817464 and accuracy: 0.6464646464646465\n",
      "Epoch 1100 with error: 0.22909884201804973 and accuracy: 0.6464646464646465\n",
      "Epoch 1200 with error: 0.22311303378544683 and accuracy: 0.6565656565656566\n",
      "Epoch 1300 with error: 0.21747296451511638 and accuracy: 0.6666666666666666\n",
      "Epoch 1400 with error: 0.21217172230640052 and accuracy: 0.6868686868686869\n",
      "Epoch 1500 with error: 0.2072366332352778 and accuracy: 0.696969696969697\n",
      "Epoch 1600 with error: 0.20270737742294592 and accuracy: 0.7070707070707071\n",
      "Epoch 1700 with error: 0.1986175492816359 and accuracy: 0.7070707070707071\n",
      "Epoch 1800 with error: 0.19495923911237842 and accuracy: 0.7171717171717171\n",
      "Epoch 1900 with error: 0.19157883403491296 and accuracy: 0.7171717171717171\n",
      "Epoch 2000 with error: 0.1880622229249284 and accuracy: 0.7272727272727273\n",
      "Epoch 2100 with error: 0.1841526632063085 and accuracy: 0.7272727272727273\n",
      "Epoch 2200 with error: 0.18032836122319176 and accuracy: 0.7272727272727273\n",
      "Epoch 2300 with error: 0.17711534374808433 and accuracy: 0.7171717171717171\n",
      "Epoch 2400 with error: 0.17460491751140242 and accuracy: 0.696969696969697\n",
      "Epoch 2500 with error: 0.17267003085877136 and accuracy: 0.696969696969697\n",
      "Epoch 2600 with error: 0.17115714950957753 and accuracy: 0.696969696969697\n",
      "Epoch 2700 with error: 0.1699356370200119 and accuracy: 0.696969696969697\n",
      "Epoch 2800 with error: 0.16890265395928722 and accuracy: 0.696969696969697\n",
      "overall accuracy =  69.6969696969697\n"
     ]
    }
   ],
   "source": [
    "training_iterations = 2800\n",
    "error_output_every = 100\n",
    "learn_rate = 0.8\n",
    "hidden_units = 5\n",
    "np.random.seed(5)\n",
    "batch_size = 100\n",
    "\n",
    "dataSet = CreditDatasetUndersampled()\n",
    "network = CreditNetwork(dataSet.get_train_x().shape[1], dataSet.get_train_y().shape[1], hidden_units)\n",
    "\n",
    "network.train(dataSet, training_iterations, learn_rate, error_output_every)\n",
    "#print('final prediction: \\n', network.predict(dataSet.get_test_x()))\n",
    "accuracies = network.get_test_accuracies()\n",
    "errors = network.get_train_errors()\n",
    "print('overall accuracy = ', accuracies[len(network.get_test_accuracies())-1])"
   ],
   "metadata": {
    "collapsed": false,
    "ExecuteTime": {
     "end_time": "2023-07-12T16:27:13.115512300Z",
     "start_time": "2023-07-12T16:27:12.476728200Z"
    }
   }
  },
  {
   "cell_type": "code",
   "execution_count": 87,
   "outputs": [
    {
     "name": "stdout",
     "output_type": "stream",
     "text": [
      "overall accuracy =  69.6969696969697\n"
     ]
    },
    {
     "data": {
      "text/plain": "(0.0, 2800.0, 0.0, 100.0)"
     },
     "execution_count": 87,
     "metadata": {},
     "output_type": "execute_result"
    },
    {
     "data": {
      "text/plain": "<Figure size 640x480 with 1 Axes>",
      "image/png": "[encoded data removed]"
     },
     "metadata": {},
     "output_type": "display_data"
    }
   ],
   "source": [
    "print('overall accuracy = ', accuracies[len(network.get_test_accuracies()) - 1])\n",
    "plt.plot(np.linspace(0, training_iterations, len(accuracies)), accuracies, 'g', label='credit data')\n",
    "plt.xlabel('Epochs')\n",
    "plt.ylabel('accuracy')\n",
    "plt.axis([0, training_iterations, 0, 100])"
   ],
   "metadata": {
    "collapsed": false,
    "ExecuteTime": {
     "end_time": "2023-07-12T16:27:16.833982700Z",
     "start_time": "2023-07-12T16:27:16.532522200Z"
    }
   }
  },
  {
   "cell_type": "code",
   "execution_count": 88,
   "outputs": [
    {
     "data": {
      "text/plain": "(0.0, 2800.0, 0.0, 0.5)"
     },
     "execution_count": 88,
     "metadata": {},
     "output_type": "execute_result"
    },
    {
     "data": {
      "text/plain": "<Figure size 640x480 with 1 Axes>",
      "image/png": "[encoded data removed]"
     },
     "metadata": {},
     "output_type": "display_data"
    }
   ],
   "source": [
    "plt.plot(np.linspace(0, training_iterations, len(errors)), errors, 'g', label ='credit data')\n",
    "plt.xlabel('Epochs')\n",
    "plt.ylabel('predirction error')\n",
    "plt.axis([0, training_iterations, 0, 0.5 ])"
   ],
   "metadata": {
    "collapsed": false,
    "ExecuteTime": {
     "end_time": "2023-07-12T16:27:18.294554300Z",
     "start_time": "2023-07-12T16:27:17.990345500Z"
    }
   }
  },
  {
   "cell_type": "markdown",
   "source": [
    "# Mini Batch network with Undersampled data\n",
    "- values (it, lr, hu,...) below\n",
    "\n",
    "learns fast, accuracy slightly higher , lower learning rate"
   ],
   "metadata": {
    "collapsed": false
   }
  },
  {
   "cell_type": "code",
   "execution_count": 89,
   "outputs": [
    {
     "name": "stdout",
     "output_type": "stream",
     "text": [
      "Setup Credit Network\n",
      "Start training of the Credit network with mini-Batches...\n",
      "Epoch 0 with error: 0.48911874887388557 and accuracy: 0.3333333333333333\n",
      "Epoch 100 with error: 0.3282144504962332 and accuracy: 0.36363636363636365\n",
      "Epoch 200 with error: 0.3213035361893517 and accuracy: 0.48484848484848486\n",
      "Epoch 300 with error: 0.3022695044406495 and accuracy: 0.5353535353535354\n",
      "Epoch 400 with error: 0.2911654255626058 and accuracy: 0.6060606060606061\n",
      "Epoch 500 with error: 0.2845959276516832 and accuracy: 0.6060606060606061\n",
      "Epoch 600 with error: 0.2736849668925605 and accuracy: 0.5858585858585859\n",
      "Epoch 700 with error: 0.2545583618354081 and accuracy: 0.5858585858585859\n",
      "Epoch 800 with error: 0.2693564826412931 and accuracy: 0.6060606060606061\n",
      "Epoch 900 with error: 0.2610875769015626 and accuracy: 0.6161616161616161\n",
      "Epoch 1000 with error: 0.24573662965296314 and accuracy: 0.6464646464646465\n",
      "Epoch 1100 with error: 0.25822797803737535 and accuracy: 0.6363636363636364\n",
      "Epoch 1200 with error: 0.25232096298015727 and accuracy: 0.6464646464646465\n",
      "Epoch 1300 with error: 0.24100537376645792 and accuracy: 0.6464646464646465\n",
      "Epoch 1400 with error: 0.23437129386066963 and accuracy: 0.6464646464646465\n",
      "Epoch 1500 with error: 0.20764274408595987 and accuracy: 0.6363636363636364\n",
      "Epoch 1600 with error: 0.2189766499169884 and accuracy: 0.6565656565656566\n",
      "Epoch 1700 with error: 0.2222794111885732 and accuracy: 0.6666666666666666\n",
      "Epoch 1800 with error: 0.21900133146004236 and accuracy: 0.6767676767676768\n",
      "Epoch 1900 with error: 0.21998623785787988 and accuracy: 0.6868686868686869\n",
      "Epoch 2000 with error: 0.2010352546141405 and accuracy: 0.696969696969697\n",
      "Epoch 2100 with error: 0.2072187895482518 and accuracy: 0.7070707070707071\n",
      "Epoch 2200 with error: 0.19808118050845835 and accuracy: 0.7070707070707071\n",
      "Epoch 2300 with error: 0.20369046350499923 and accuracy: 0.7070707070707071\n",
      "Epoch 2400 with error: 0.18462748520468217 and accuracy: 0.7171717171717171\n",
      "Epoch 2500 with error: 0.20731558176423398 and accuracy: 0.7272727272727273\n",
      "Epoch 2600 with error: 0.16897934599086384 and accuracy: 0.7272727272727273\n",
      "Epoch 2700 with error: 0.1815536321608045 and accuracy: 0.7171717171717171\n",
      "Epoch 2800 with error: 0.19064726895842432 and accuracy: 0.7373737373737373\n",
      "Epoch 2900 with error: 0.18103771886750322 and accuracy: 0.7272727272727273\n",
      "Epoch 3000 with error: 0.1807253015410852 and accuracy: 0.7171717171717171\n",
      "overall accuracy =  71.71717171717171\n"
     ]
    }
   ],
   "source": [
    "training_iterations = 3000\n",
    "error_output_every = 100\n",
    "learn_rate = .3\n",
    "hidden_units = 5\n",
    "np.random.seed(5)\n",
    "batch_size = 100\n",
    "\n",
    "dataSet = CreditDatasetUndersampled()\n",
    "network = CreditNetwork_miniBatches(dataSet.get_train_x().shape[1], dataSet.get_train_y().shape[1], hidden_units, batch_size)\n",
    "\n",
    "network.train(dataSet, training_iterations, learn_rate, error_output_every)\n",
    "#print('final prediction: \\n', network.predict(dataSet.get_test_x()))\n",
    "accuracies = network.get_test_accuracies()\n",
    "errors = network.get_train_errors()\n",
    "print('overall accuracy = ', accuracies[len(network.get_test_accuracies())-1])"
   ],
   "metadata": {
    "collapsed": false,
    "ExecuteTime": {
     "end_time": "2023-07-12T16:27:21.616889700Z",
     "start_time": "2023-07-12T16:27:20.486949100Z"
    }
   }
  },
  {
   "cell_type": "code",
   "execution_count": 81,
   "outputs": [
    {
     "name": "stdout",
     "output_type": "stream",
     "text": [
      "overall accuracy =  70.70707070707071\n"
     ]
    },
    {
     "data": {
      "text/plain": "(0.0, 5000.0, 0.0, 100.0)"
     },
     "execution_count": 81,
     "metadata": {},
     "output_type": "execute_result"
    },
    {
     "data": {
      "text/plain": "<Figure size 640x480 with 1 Axes>",
      "image/png": "[encoded data removed]"
     },
     "metadata": {},
     "output_type": "display_data"
    }
   ],
   "source": [
    "print('overall accuracy = ', accuracies[len(network.get_test_accuracies()) - 1])\n",
    "plt.plot(np.linspace(0, training_iterations, len(accuracies)), accuracies, 'k', label='credit data')\n",
    "plt.xlabel('Epochs')\n",
    "plt.ylabel('accuracy')\n",
    "plt.axis([0, training_iterations, 0, 100])"
   ],
   "metadata": {
    "collapsed": false,
    "ExecuteTime": {
     "end_time": "2023-07-12T16:26:33.173646400Z",
     "start_time": "2023-07-12T16:26:32.958668800Z"
    }
   }
  },
  {
   "cell_type": "code",
   "execution_count": 82,
   "outputs": [
    {
     "data": {
      "text/plain": "(0.0, 5000.0, 0.0, 0.5)"
     },
     "execution_count": 82,
     "metadata": {},
     "output_type": "execute_result"
    },
    {
     "data": {
      "text/plain": "<Figure size 640x480 with 1 Axes>",
      "image/png": "[encoded data removed]"
     },
     "metadata": {},
     "output_type": "display_data"
    }
   ],
   "source": [
    "plt.plot(np.linspace(0, training_iterations, len(errors)), errors, 'k', label ='credit data')\n",
    "plt.xlabel('Epochs')\n",
    "plt.ylabel('predirction error')\n",
    "plt.axis([0, training_iterations, 0, 0.5 ])"
   ],
   "metadata": {
    "collapsed": false,
    "ExecuteTime": {
     "end_time": "2023-07-12T16:26:33.555523500Z",
     "start_time": "2023-07-12T16:26:33.189763900Z"
    }
   }
  },
  {
   "cell_type": "markdown",
   "source": [
    "# Full Batch network with Oversampled data\n",
    "- values (it, lr, hu,...) below\n",
    "\n",
    "learns fast, accuracy slightly higher , multiple learning rates work well, more units work well"
   ],
   "metadata": {
    "collapsed": false
   }
  },
  {
   "cell_type": "code",
   "execution_count": 116,
   "outputs": [
    {
     "name": "stdout",
     "output_type": "stream",
     "text": [
      "Setup Credit Network\n",
      "Start training of the Credit network ...\n",
      "Epoch 0 with error: 0.3839957187364883 and accuracy: 0.31313131313131315\n",
      "Epoch 100 with error: 0.2189455107522919 and accuracy: 0.6767676767676768\n",
      "Epoch 200 with error: 0.18961102778115832 and accuracy: 0.7373737373737373\n",
      "Epoch 300 with error: 0.18066459801418439 and accuracy: 0.7272727272727273\n",
      "Epoch 400 with error: 0.1745593707009699 and accuracy: 0.6868686868686869\n",
      "Epoch 500 with error: 0.16981868218798474 and accuracy: 0.7171717171717171\n",
      "Epoch 600 with error: 0.1658731045349594 and accuracy: 0.7272727272727273\n",
      "Epoch 700 with error: 0.16276511082139844 and accuracy: 0.7474747474747475\n",
      "Epoch 800 with error: 0.16054565520615205 and accuracy: 0.7474747474747475\n",
      "Epoch 900 with error: 0.15985059588660291 and accuracy: 0.7474747474747475\n",
      "Epoch 1000 with error: 0.16138649204167166 and accuracy: 0.7373737373737373\n",
      "Epoch 1100 with error: 0.16118179139920813 and accuracy: 0.7373737373737373\n",
      "Epoch 1200 with error: 0.1580479594385614 and accuracy: 0.7373737373737373\n",
      "Epoch 1300 with error: 0.15389549988541124 and accuracy: 0.7373737373737373\n",
      "Epoch 1400 with error: 0.14973352476857651 and accuracy: 0.7373737373737373\n",
      "Epoch 1500 with error: 0.14585972702680614 and accuracy: 0.7474747474747475\n",
      "Epoch 1600 with error: 0.1423935022177557 and accuracy: 0.7474747474747475\n",
      "Epoch 1700 with error: 0.1393798119169896 and accuracy: 0.7373737373737373\n",
      "Epoch 1800 with error: 0.13678243645835508 and accuracy: 0.7474747474747475\n",
      "Epoch 1900 with error: 0.13450766733030786 and accuracy: 0.7373737373737373\n",
      "Epoch 2000 with error: 0.13245500353357104 and accuracy: 0.7373737373737373\n",
      "overall accuracy =  73.73737373737373\n"
     ]
    }
   ],
   "source": [
    "training_iterations = 2000\n",
    "error_output_every = 100\n",
    "learn_rate = 5\n",
    "hidden_units = 12\n",
    "np.random.seed(5)\n",
    "batch_size = 100\n",
    "\n",
    "dataSet = CreditDatasetOversampled()\n",
    "network = CreditNetwork(dataSet.get_train_x().shape[1], dataSet.get_train_y().shape[1], hidden_units)\n",
    "\n",
    "network.train(dataSet, training_iterations, learn_rate, error_output_every)\n",
    "#print('final prediction: \\n', network.predict(dataSet.get_test_x()))\n",
    "accuracies = network.get_test_accuracies()\n",
    "errors = network.get_train_errors()\n",
    "print('overall accuracy = ', accuracies[len(network.get_test_accuracies())-1])"
   ],
   "metadata": {
    "collapsed": false,
    "ExecuteTime": {
     "end_time": "2023-07-12T16:31:58.147957700Z",
     "start_time": "2023-07-12T16:31:56.029095600Z"
    }
   }
  },
  {
   "cell_type": "code",
   "execution_count": 117,
   "outputs": [
    {
     "name": "stdout",
     "output_type": "stream",
     "text": [
      "overall accuracy =  73.73737373737373\n"
     ]
    },
    {
     "data": {
      "text/plain": "(0.0, 2000.0, 0.0, 100.0)"
     },
     "execution_count": 117,
     "metadata": {},
     "output_type": "execute_result"
    },
    {
     "data": {
      "text/plain": "<Figure size 640x480 with 1 Axes>",
      "image/png": "[encoded data removed]"
     },
     "metadata": {},
     "output_type": "display_data"
    }
   ],
   "source": [
    "print('overall accuracy = ', accuracies[len(network.get_test_accuracies()) - 1])\n",
    "plt.plot(np.linspace(0, training_iterations, len(accuracies)), accuracies, 'm', label='credit data')\n",
    "plt.xlabel('Epochs')\n",
    "plt.ylabel('accuracy')\n",
    "plt.axis([0, training_iterations, 0, 100])"
   ],
   "metadata": {
    "collapsed": false,
    "ExecuteTime": {
     "end_time": "2023-07-12T16:31:58.363267700Z",
     "start_time": "2023-07-12T16:31:58.104325800Z"
    }
   }
  },
  {
   "cell_type": "code",
   "execution_count": 113,
   "outputs": [
    {
     "data": {
      "text/plain": "(0.0, 2000.0, 0.0, 0.5)"
     },
     "execution_count": 113,
     "metadata": {},
     "output_type": "execute_result"
    },
    {
     "data": {
      "text/plain": "<Figure size 640x480 with 1 Axes>",
      "image/png": "[encoded data removed]"
     },
     "metadata": {},
     "output_type": "display_data"
    }
   ],
   "source": [
    "plt.plot(np.linspace(0, training_iterations, len(errors)), errors, 'm', label ='credit data')\n",
    "plt.xlabel('Epochs')\n",
    "plt.ylabel('predirction error')\n",
    "plt.axis([0, training_iterations, 0, 0.5 ])"
   ],
   "metadata": {
    "collapsed": false,
    "ExecuteTime": {
     "end_time": "2023-07-12T16:31:39.236751400Z",
     "start_time": "2023-07-12T16:31:38.759761600Z"
    }
   }
  },
  {
   "cell_type": "markdown",
   "source": [
    "# Mini Batch network with Oversampled data\n",
    "- values (it, lr, hu,...) below\n",
    "\n",
    "learns fast, accuracy slightly higher , lower learning rate, more hidden units"
   ],
   "metadata": {
    "collapsed": false
   }
  },
  {
   "cell_type": "code",
   "execution_count": 142,
   "outputs": [
    {
     "name": "stdout",
     "output_type": "stream",
     "text": [
      "Setup Credit Network\n",
      "Start training of the Credit network with mini-Batches...\n",
      "Epoch 0 with error: 0.37935134985402946 and accuracy: 0.3434343434343434\n",
      "Epoch 100 with error: 0.2098787773621372 and accuracy: 0.7070707070707071\n",
      "Epoch 200 with error: 0.1874296961897778 and accuracy: 0.7272727272727273\n",
      "Epoch 300 with error: 0.20757471482691603 and accuracy: 0.7272727272727273\n",
      "Epoch 400 with error: 0.15742032174974013 and accuracy: 0.7171717171717171\n",
      "Epoch 500 with error: 0.15216657147608484 and accuracy: 0.7474747474747475\n",
      "Epoch 600 with error: 0.1524325236360278 and accuracy: 0.7474747474747475\n",
      "Epoch 700 with error: 0.18192383921181945 and accuracy: 0.7373737373737373\n",
      "Epoch 800 with error: 0.1716785820266454 and accuracy: 0.7474747474747475\n",
      "Epoch 900 with error: 0.14644270806340218 and accuracy: 0.7474747474747475\n",
      "Epoch 1000 with error: 0.15114192208693333 and accuracy: 0.7575757575757576\n",
      "Epoch 1100 with error: 0.13530156267510698 and accuracy: 0.7373737373737373\n",
      "Epoch 1200 with error: 0.11216339363723754 and accuracy: 0.7272727272727273\n",
      "Epoch 1300 with error: 0.1542388369713318 and accuracy: 0.7272727272727273\n",
      "Epoch 1400 with error: 0.12289779430098578 and accuracy: 0.7272727272727273\n",
      "Epoch 1500 with error: 0.15132804504804587 and accuracy: 0.7373737373737373\n",
      "Epoch 1600 with error: 0.13986545755233543 and accuracy: 0.7272727272727273\n",
      "Epoch 1700 with error: 0.14410349426455277 and accuracy: 0.7171717171717171\n",
      "Epoch 1800 with error: 0.14002997344270768 and accuracy: 0.7070707070707071\n",
      "Epoch 1900 with error: 0.18441589992626461 and accuracy: 0.7272727272727273\n",
      "Epoch 2000 with error: 0.150919917718989 and accuracy: 0.7171717171717171\n",
      "overall accuracy =  71.71717171717171\n"
     ]
    }
   ],
   "source": [
    "training_iterations = 2000\n",
    "error_output_every = 100\n",
    "learn_rate = .4\n",
    "hidden_units = 10\n",
    "np.random.seed(5)\n",
    "batch_size = 100\n",
    "\n",
    "dataSet = CreditDatasetOversampled()\n",
    "network = CreditNetwork_miniBatches(dataSet.get_train_x().shape[1], dataSet.get_train_y().shape[1], hidden_units, batch_size)\n",
    "\n",
    "network.train(dataSet, training_iterations, learn_rate, error_output_every)\n",
    "#print('final prediction: \\n', network.predict(dataSet.get_test_x()))\n",
    "accuracies = network.get_test_accuracies()\n",
    "errors = network.get_train_errors()\n",
    "print('overall accuracy = ', accuracies[len(network.get_test_accuracies())-1])"
   ],
   "metadata": {
    "collapsed": false,
    "ExecuteTime": {
     "end_time": "2023-07-12T16:40:08.046826Z",
     "start_time": "2023-07-12T16:40:03.568507900Z"
    }
   }
  },
  {
   "cell_type": "code",
   "execution_count": 143,
   "outputs": [
    {
     "name": "stdout",
     "output_type": "stream",
     "text": [
      "overall accuracy =  71.71717171717171\n"
     ]
    },
    {
     "data": {
      "text/plain": "(0.0, 2000.0, 0.0, 100.0)"
     },
     "execution_count": 143,
     "metadata": {},
     "output_type": "execute_result"
    },
    {
     "data": {
      "text/plain": "<Figure size 640x480 with 1 Axes>",
      "image/png": "[encoded data removed]"
     },
     "metadata": {},
     "output_type": "display_data"
    }
   ],
   "source": [
    "print('overall accuracy = ', accuracies[len(network.get_test_accuracies()) - 1])\n",
    "plt.plot(np.linspace(0, training_iterations, len(accuracies)), accuracies, 'c', label='credit data')\n",
    "plt.xlabel('Epochs')\n",
    "plt.ylabel('accuracy')\n",
    "plt.axis([0, training_iterations, 0, 100])"
   ],
   "metadata": {
    "collapsed": false,
    "ExecuteTime": {
     "end_time": "2023-07-12T16:40:08.214195700Z",
     "start_time": "2023-07-12T16:40:08.047827500Z"
    }
   }
  },
  {
   "cell_type": "code",
   "execution_count": 141,
   "outputs": [
    {
     "data": {
      "text/plain": "(0.0, 2000.0, 0.0, 0.5)"
     },
     "execution_count": 141,
     "metadata": {},
     "output_type": "execute_result"
    },
    {
     "data": {
      "text/plain": "<Figure size 640x480 with 1 Axes>",
      "image/png": "[encoded data removed]"
     },
     "metadata": {},
     "output_type": "display_data"
    }
   ],
   "source": [
    "plt.plot(np.linspace(0, training_iterations, len(errors)), errors, 'c', label ='credit data')\n",
    "plt.xlabel('Epochs')\n",
    "plt.ylabel('predirction error')\n",
    "plt.axis([0, training_iterations, 0, 0.5 ])"
   ],
   "metadata": {
    "collapsed": false,
    "ExecuteTime": {
     "end_time": "2023-07-12T16:39:49.364695800Z",
     "start_time": "2023-07-12T16:39:49.179014500Z"
    }
   }
  },
  {
   "cell_type": "markdown",
   "source": [
    "oversampled data -> more hidden units?\n",
    "mini batches -> lower learning rate?\n",
    "(not in general but for this problem)"
   ],
   "metadata": {
    "collapsed": false
   }
  }
 ],
 "metadata": {
  "kernelspec": {
   "name": "python3",
   "language": "python",
   "display_name": "Python 3 (ipykernel)"
  },
  "language_info": {
   "codemirror_mode": {
    "name": "ipython",
    "version": 3
   },
   "file_extension": ".py",
   "mimetype": "text/x-python",
   "name": "python",
   "nbconvert_exporter": "python",
   "pygments_lexer": "ipython3",
   "version": "3.7.7"
  }
 },
 "nbformat": 4,
 "nbformat_minor": 4
}
