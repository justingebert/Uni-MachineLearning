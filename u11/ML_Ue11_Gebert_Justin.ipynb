{
 "cells": [
  {
   "cell_type": "code",
   "execution_count": 1,
   "metadata": {
    "ExecuteTime": {
     "end_time": "2023-07-11T13:49:16.706030900Z",
     "start_time": "2023-07-11T13:49:13.751533800Z"
    }
   },
   "outputs": [],
   "source": [
    "import numpy as np\n",
    "import matplotlib.pyplot as plt\n",
    "\n",
    "from abc import ABC, abstractmethod"
   ]
  },
  {
   "cell_type": "markdown",
   "metadata": {},
   "source": [
    "### Preparing the data set\n",
    "\n",
    "There will be several data sets we therefore define abstract interface an implement concrete classes that derive the interface below."
   ]
  },
  {
   "cell_type": "code",
   "execution_count": 2,
   "metadata": {
    "ExecuteTime": {
     "end_time": "2023-07-11T13:49:16.731838300Z",
     "start_time": "2023-07-11T13:49:16.720598800Z"
    }
   },
   "outputs": [],
   "source": [
    "class Dataset(ABC):\n",
    "        \n",
    "    @abstractmethod\n",
    "    def get_train_x(self):\n",
    "        \"\"\" Retrieve the input data of the training \"\"\"\n",
    "        pass\n",
    "    \n",
    "    @abstractmethod\n",
    "    def get_train_y(self):\n",
    "        \"\"\" Retrieve the output data of the training \"\"\"\n",
    "        pass\n",
    "    \n",
    "    @abstractmethod\n",
    "    def get_test_x(self):\n",
    "        \"\"\" Retrieve the input data of the test \"\"\"\n",
    "        pass\n",
    "    \n",
    "    @abstractmethod\n",
    "    def get_test_y(self):\n",
    "        \"\"\" Retrieve the output data of the test \"\"\"\n",
    "        pass"
   ]
  },
  {
   "cell_type": "code",
   "execution_count": 3,
   "metadata": {
    "ExecuteTime": {
     "end_time": "2023-07-11T13:49:16.854750200Z",
     "start_time": "2023-07-11T13:49:16.738857400Z"
    }
   },
   "outputs": [],
   "source": [
    "class XORDataset(Dataset):\n",
    "    \n",
    "    _x = None\n",
    "    _y = None\n",
    "    \n",
    "    def __init__(self):\n",
    "        self._x = np.array([[0,0],[1, 0],[0,1],[1,1]])\n",
    "        self._y = np.array([[0],[1],[1],[0]])\n",
    "    \n",
    "    def get_train_x(self):\n",
    "        return self._x\n",
    "    \n",
    "    def get_train_y(self):\n",
    "        return self._y\n",
    "    \n",
    "    def get_test_x(self):\n",
    "        return self._x\n",
    "    \n",
    "    def get_test_y(self):\n",
    "        return self._y"
   ]
  },
  {
   "cell_type": "code",
   "execution_count": 4,
   "outputs": [],
   "source": [
    "class CreditDataset(Dataset):\n",
    "    def __init__(self):\n",
    "        self.data = np.loadtxt(\"../data/german_credit.csv\", delimiter=\",\", skiprows=1)\n",
    "        self.y = self.data[:, 15] # get the labels from the last column\n",
    "        self.x = self.data[:, 0:15] # get the features from the first 15 columns\n",
    "\n",
    "        #normalize data\n",
    "        data_min = np.min(self.x, axis=0)\n",
    "        data_max = np.max(self.x, axis=0)\n",
    "        x_norm = (self.x - data_min) / (data_max - data_min)\n",
    "\n",
    "        #one-hot encoding\n",
    "        self.y_encoded = np.zeros((self.y.shape[0], 3))\n",
    "        for i, label in enumerate(self.y):\n",
    "            if label == 1:\n",
    "                self.y_encoded[i, 0] = 1\n",
    "            elif label == 2:\n",
    "                self.y_encoded[i, 1] = 1\n",
    "            elif label == 3:\n",
    "                self.y_encoded[i, 2] = 1\n",
    "\n",
    "        #np where -> 3 classen -> shuffle -> 33 test -> rest\n",
    "        label1_idx = np.where(self.y == 1)[0]\n",
    "        label2_idx = np.where(self.y == 2)[0]\n",
    "        label3_idx = np.where(self.y == 3)[0]\n",
    "        np.random.shuffle(label1_idx)\n",
    "        np.random.shuffle(label2_idx)\n",
    "        np.random.shuffle(label3_idx)\n",
    "        test_l1_idx = label1_idx[:33]\n",
    "        test_l2_idx = label2_idx[:33]\n",
    "        test_l3_idx = label3_idx[:33]\n",
    "        train_l1_idx = label1_idx[33:]\n",
    "        train_l2_idx = label2_idx[33:]\n",
    "        train_l3_idx = label3_idx[33:]\n",
    "\n",
    "        self.train_x = np.vstack((x_norm[train_l1_idx], x_norm[train_l2_idx], x_norm[train_l3_idx]))\n",
    "        self.train_y = np.vstack((self.y_encoded[train_l1_idx], self.y_encoded[train_l2_idx], self.y_encoded[train_l3_idx]))\n",
    "        self.test_x = np.vstack((x_norm[test_l1_idx], x_norm[test_l2_idx], x_norm[test_l3_idx]))\n",
    "        self.test_y = np.vstack((self.y_encoded[test_l1_idx], self.y_encoded[test_l2_idx], self.y_encoded[test_l3_idx]))\n",
    "\n",
    "    def get_train_x(self):\n",
    "        return self.train_x\n",
    "\n",
    "    def get_train_y(self):\n",
    "        return self.train_y\n",
    "\n",
    "    def get_test_x(self):\n",
    "        return self.test_x\n",
    "\n",
    "    def get_test_y(self):\n",
    "        return self.test_y\n"
   ],
   "metadata": {
    "collapsed": false,
    "ExecuteTime": {
     "end_time": "2023-07-11T13:49:16.884892700Z",
     "start_time": "2023-07-11T13:49:16.812877100Z"
    }
   }
  },
  {
   "cell_type": "markdown",
   "metadata": {},
   "source": [
    "### Operations of a neural network\n",
    "\n",
    "Every neural network consists of serveral operations which gets executed during a forward and backward pass"
   ]
  },
  {
   "cell_type": "code",
   "execution_count": 5,
   "metadata": {
    "ExecuteTime": {
     "end_time": "2023-07-11T13:49:16.887885100Z",
     "start_time": "2023-07-11T13:49:16.846764200Z"
    }
   },
   "outputs": [],
   "source": [
    "class Operation(ABC):\n",
    "        \n",
    "    @abstractmethod\n",
    "    def forward(self, data):\n",
    "        \"\"\" Forward pass of the operation. Process the input data.\n",
    "        \n",
    "        Parameters\n",
    "        ----------\n",
    "        data : ndarray\n",
    "            Data from the last layer\n",
    "        \n",
    "        Returns\n",
    "        -------\n",
    "        result : ndarray\n",
    "            The result of processing the input data\n",
    "        \"\"\"\n",
    "        pass\n",
    "    \n",
    "    @abstractmethod\n",
    "    def backward(self, gradient_data):\n",
    "        \"\"\" Backward pass of the operation. The gradient data is uses \n",
    "        to compute the changes of weights and the partial gradient of \n",
    "        the this layer.\n",
    "        \n",
    "        Parameters\n",
    "        ----------\n",
    "        gradient_data : ndarray\n",
    "            Gradient data from the previous layer during the backward pass\n",
    "        \n",
    "        Returns\n",
    "        -------\n",
    "        result : ndarray\n",
    "            The partial gradient of the this layer with respect to the incoming gradient_data\n",
    "        \"\"\"\n",
    "        pass"
   ]
  },
  {
   "cell_type": "markdown",
   "metadata": {},
   "source": [
    "### TODO implement the different operations of a network"
   ]
  },
  {
   "cell_type": "code",
   "execution_count": 6,
   "metadata": {
    "ExecuteTime": {
     "end_time": "2023-07-11T13:49:16.948593Z",
     "start_time": "2023-07-11T13:49:16.864676Z"
    }
   },
   "outputs": [],
   "source": [
    "class BiasOperation(Operation):\n",
    "    \"\"\" Bias operation in the network \"\"\"\n",
    "    \n",
    "    def forward(self, data):\n",
    "        #print(\"bias data shape:\", data.shape)\n",
    "        return np.hstack(( data ,np.ones((data.shape[0], 1))))\n",
    "    \n",
    "    def backward(self, gradient_data):\n",
    "        return gradient_data[:,1:]"
   ]
  },
  {
   "cell_type": "code",
   "execution_count": 7,
   "metadata": {
    "ExecuteTime": {
     "end_time": "2023-07-11T13:49:16.951939700Z",
     "start_time": "2023-07-11T13:49:16.901028900Z"
    }
   },
   "outputs": [],
   "source": [
    "class SigmoidOperation(Operation):\n",
    "    \"\"\" Sigmoid function in the network \"\"\"\n",
    "    _z = None\n",
    "\n",
    "    def forward(self, data):\n",
    "        self._z = 1 / (1 + np.exp(-data))\n",
    "        return self._z\n",
    "    \n",
    "    def backward(self, gradient_data):\n",
    "        return gradient_data * self._z * (1 - self._z)"
   ]
  },
  {
   "cell_type": "code",
   "execution_count": 8,
   "metadata": {
    "ExecuteTime": {
     "end_time": "2023-07-11T13:49:16.951939700Z",
     "start_time": "2023-07-11T13:49:16.911534200Z"
    }
   },
   "outputs": [],
   "source": [
    "class LossOperation(Operation):\n",
    "    \"\"\" Loss function in the network \"\"\"    \n",
    "    _y = None\n",
    "    \n",
    "    def set_y(self, y):\n",
    "        \"\"\" Store the correct y value for later comparison \"\"\"\n",
    "        self._y = y\n",
    "    \n",
    "    def forward(self, data):\n",
    "        #print(\"loss data shape:\", data.shape)\n",
    "        return 0.5 * (data - self._y) ** 2\n",
    "    \n",
    "    def backward(self, gradient_data):\n",
    "        return (gradient_data - self._y)"
   ]
  },
  {
   "cell_type": "code",
   "execution_count": 9,
   "metadata": {
    "ExecuteTime": {
     "end_time": "2023-07-11T13:49:16.953050300Z",
     "start_time": "2023-07-11T13:49:16.925522600Z"
    }
   },
   "outputs": [],
   "source": [
    "class InnerProductOperation(Operation):\n",
    "    \"\"\" Inner Product, Fully Connected or Dense operation in the network \"\"\"\n",
    "    _learn_rate = 0.1\n",
    "    _weights = None\n",
    "    _input_data = None\n",
    "    \n",
    "    def __init__(self, input_units, hidden_units):\n",
    "        self._weights = np.random.uniform(low = -1, high = 1, size = (input_units, hidden_units))\n",
    "    \n",
    "    def set_learn_rate(self, learn_rate):\n",
    "        \"\"\" Change the learn rate \"\"\"\n",
    "        self._learn_rate = learn_rate\n",
    "    \n",
    "    def forward(self, data):\n",
    "        #print(\"data shape:\", data.shape)\n",
    "        #print(\"weights shape:\", self._weights.shape)\n",
    "        self._input_data = data\n",
    "        return np.matmul(data, self._weights)\n",
    "    \n",
    "    def backward(self, gradient_data):\n",
    "        gradient = np.matmul(self._input_data.T, gradient_data)\n",
    "        #ableitung input\n",
    "        inp = np.matmul(gradient_data, self._weights.T)\n",
    "\n",
    "        self._weights = self._weights - (self._learn_rate / self._input_data.shape[0] * gradient)\n",
    "\n",
    "        return inp"
   ]
  },
  {
   "cell_type": "markdown",
   "metadata": {},
   "source": [
    "### Setup the neural network \n",
    "\n",
    "Using the operations we can now build our own neural network"
   ]
  },
  {
   "cell_type": "code",
   "execution_count": 10,
   "metadata": {
    "ExecuteTime": {
     "end_time": "2023-07-11T13:49:16.958700100Z",
     "start_time": "2023-07-11T13:49:16.942802800Z"
    }
   },
   "outputs": [],
   "source": [
    "class Network(ABC):\n",
    "    \n",
    "    _ops = []\n",
    "    _train_errors = []\n",
    "    _test_accuracies = []\n",
    "    \n",
    "    def get_test_accuracies(self):\n",
    "        return self._test_accuracies\n",
    "    \n",
    "    def get_train_errors(self):\n",
    "        return self._train_errors\n",
    "    \n",
    "    def predict(self,data):\n",
    "        return self.forwardPass(data, len(self._ops)-1)\n",
    "    \n",
    "    def forwardPass(self,data, layers):\n",
    "        result = data\n",
    "        for op in range(0,layers):     \n",
    "            result = self._ops[op].forward(result)\n",
    "            #print(\"result shape:\", result.shape)\n",
    "        return (result)\n",
    "        \n",
    "    def backwardPass(self, data, layers):\n",
    "        result = data\n",
    "        for op in range(len(self._ops)-1, len(self._ops) - layers , -1):\n",
    "            result = self._ops[op].backward(result)\n",
    "        return result\n",
    "    \n",
    "    @abstractmethod\n",
    "    def train(self, dataset, epochs, learn_rate, error_output_every):\n",
    "        \"\"\" Train the neural network with the data set several epochs.\n",
    "        Compute the train error and test accurarcy after some iterations.\n",
    "        \n",
    "        Parameters\n",
    "        ----------\n",
    "        dataset : ndarray\n",
    "            Data from the last layer\n",
    "        epochs : int\n",
    "            Number of epochs to be trained\n",
    "        learn_rate : float\n",
    "            Learn rated to be used to changing the weights of the network\n",
    "        error_output_every : int\n",
    "            After how many iterations should the train error and test accurarcy be calculated\n",
    "        \"\"\"\n",
    "        pass"
   ]
  },
  {
   "cell_type": "code",
   "execution_count": 11,
   "metadata": {
    "ExecuteTime": {
     "end_time": "2023-07-11T13:49:16.969938700Z",
     "start_time": "2023-07-11T13:49:16.953050300Z"
    }
   },
   "outputs": [],
   "source": [
    "class LogicGateNetwork(Network):\n",
    "    \n",
    "    def __init__(self, input_units, output_units, hidden_units):\n",
    "        self._ops = []\n",
    "        self._ops.append(BiasOperation())\n",
    "        self._ops.append(InnerProductOperation(input_units +1, hidden_units))\n",
    "        self._ops.append(SigmoidOperation())\n",
    "        self._ops.append(BiasOperation())\n",
    "        self._ops.append(InnerProductOperation(hidden_units +1, output_units))\n",
    "        self._ops.append(SigmoidOperation())\n",
    "        self._ops.append(LossOperation())\n",
    "        \n",
    "    def train(self, dataset, epochs, learn_rate, error_output_every):\n",
    "        print('Start training of the XOR network ...')\n",
    "        \n",
    "        #clear old train errors and test accuracies\n",
    "        self._train_errors = []\n",
    "        self._test_accuracies = []\n",
    "        \n",
    "        # fix learn rate for all layers\n",
    "        for op in self._ops:\n",
    "            if type(op) == InnerProductOperation:\n",
    "                op.set_learn_rate(learn_rate)\n",
    "                \n",
    "        # get the last layer (loss layer)\n",
    "        last_layer = self._ops[len(self._ops)-1]\n",
    "       \n",
    "        # get the train and test data\n",
    "        train_x = dataset.get_train_x()\n",
    "        train_y = dataset.get_train_y()\n",
    "        test_x = dataset.get_test_x()\n",
    "        test_y = dataset.get_test_y()\n",
    "        \n",
    "        # train the network\n",
    "        for e in range(0, epochs+1):\n",
    "            \n",
    "            # forward propagation\n",
    "            #print(\"train_x shape:\", train_x.shape)\n",
    "            hypothese = self.predict(train_x)\n",
    "            \n",
    "            # place the target data in the loss layer\n",
    "            last_layer.set_y(train_y)\n",
    "            \n",
    "            # backward propagate and change the weights\n",
    "            self.backwardPass(hypothese, len(self._ops))\n",
    "            \n",
    "            # print the train and test error rate after 100 epochs\n",
    "            if (e % error_output_every == 0):\n",
    "                \n",
    "                # compute train error with the train data\n",
    "                error = last_layer.forward(hypothese).sum()/train_x.shape[0]\n",
    "                self._train_errors.append(error)\n",
    "                \n",
    "                # compute test accuracy with the test data\n",
    "                accuracy = (np.where(self.predict(test_x) > 0.5,1,0) == test_y).all(axis=1).sum() / test_x.shape[0] * 100\n",
    "                self._test_accuracies.append(accuracy)\n",
    "                print('Epoche ',e, 'with error:', error, 'and accuracy:', accuracy)"
   ]
  },
  {
   "cell_type": "markdown",
   "metadata": {},
   "source": [
    "### Use the LogicGateNetwork and XORDataset to train the network for solving the XOR problem\n",
    "Change the number of hidden neurons in the network and learn rate to converge faster"
   ]
  },
  {
   "cell_type": "code",
   "execution_count": 12,
   "metadata": {
    "ExecuteTime": {
     "end_time": "2023-07-11T13:49:17.099428900Z",
     "start_time": "2023-07-11T13:49:16.975300Z"
    }
   },
   "outputs": [
    {
     "name": "stdout",
     "output_type": "stream",
     "text": [
      "Start training of the XOR network ...\n",
      "Epoche  0 with error: 0.3222336637968328 and accuracy: 50.0\n",
      "Epoche  100 with error: 0.23700950533174442 and accuracy: 50.0\n",
      "Epoche  200 with error: 0.1599901445551909 and accuracy: 75.0\n",
      "Epoche  300 with error: 0.027689916663591427 and accuracy: 100.0\n",
      "Epoche  400 with error: 0.010496081925490747 and accuracy: 100.0\n",
      "Epoche  500 with error: 0.10490980047286116 and accuracy: 100.0\n",
      "final prediction: \n",
      " [[0.20544355 0.20101111]\n",
      " [0.95754948 0.95757945]\n",
      " [0.54869535 0.54126522]\n",
      " [0.42757548 0.43976125]]\n",
      "overall accuracy =  100.0\n"
     ]
    }
   ],
   "source": [
    "training_iterations = 500\n",
    "error_output_every = 100\n",
    "learn_rate = 5\n",
    "hidden_units = 5\n",
    "np.random.seed(5)\n",
    "\n",
    "#TODO print accuaracy more often\n",
    "\n",
    "dataSet = XORDataset()\n",
    "network = LogicGateNetwork(dataSet.get_train_x().shape[1], dataSet.get_train_x().shape[1], hidden_units)\n",
    "\n",
    "network.train(dataSet, training_iterations, learn_rate, error_output_every)\n",
    "print('final prediction: \\n', network.predict(dataSet.get_test_x()))\n",
    "accuracies = network.get_test_accuracies()\n",
    "print('overall accuracy = ', accuracies[len(network.get_test_accuracies())-1])"
   ]
  },
  {
   "cell_type": "code",
   "execution_count": 13,
   "metadata": {
    "ExecuteTime": {
     "end_time": "2023-07-11T13:49:17.495522400Z",
     "start_time": "2023-07-11T13:49:17.103935100Z"
    }
   },
   "outputs": [
    {
     "data": {
      "text/plain": "(0.0, 500.0, 0.0, 100.0)"
     },
     "execution_count": 13,
     "metadata": {},
     "output_type": "execute_result"
    },
    {
     "data": {
      "text/plain": "<Figure size 640x480 with 1 Axes>",
      "image/png": "[encoded data removed]"
     },
     "metadata": {},
     "output_type": "display_data"
    }
   ],
   "source": [
    "plt.plot(np.linspace(0, training_iterations, len(accuracies)), accuracies, 'b', label ='xor data')\n",
    "plt.xlabel('Epochs')\n",
    "plt.ylabel('Test accuracy')\n",
    "plt.axis([0, training_iterations, 0, 100 ])"
   ]
  },
  {
   "cell_type": "code",
   "execution_count": 14,
   "outputs": [],
   "source": [
    "class CreditNetwork(Network):\n",
    "    def __init__(self, input_units, output_units, hidden_units):\n",
    "        self._ops = []\n",
    "        self._ops.append(BiasOperation())\n",
    "        self._ops.append(InnerProductOperation(input_units + 1, hidden_units))\n",
    "        self._ops.append(SigmoidOperation())\n",
    "        self._ops.append(BiasOperation())\n",
    "        self._ops.append(InnerProductOperation(hidden_units + 1, output_units))\n",
    "        self._ops.append(SigmoidOperation())\n",
    "        self._ops.append(LossOperation())\n",
    "        print('Setup Credit Network')\n",
    "\n",
    "    def train(self, dataset, epochs, learn_rate, error_output_every):\n",
    "        print('Start training of the Credit network ...')\n",
    "\n",
    "        # Clear old train errors and test accuracies\n",
    "        self._train_errors = []\n",
    "        self._test_accuracies = []\n",
    "\n",
    "        # Fix learn rate for all layers\n",
    "        for op in self._ops:\n",
    "            if type(op) == InnerProductOperation:\n",
    "                op.set_learn_rate(learn_rate)\n",
    "\n",
    "        # Get the last layer (loss layer)\n",
    "        last_layer = self._ops[len(self._ops) - 1]\n",
    "\n",
    "        # Get the train and test data\n",
    "        train_x = dataset.get_train_x()\n",
    "        train_y = dataset.get_train_y()\n",
    "        test_x = dataset.get_test_x()\n",
    "        test_y = dataset.get_test_y()\n",
    "\n",
    "        # Train the network\n",
    "        for e in range(0, epochs + 1):\n",
    "            # Forward propagation\n",
    "            hypothese = self.predict(train_x)\n",
    "\n",
    "            # Place the target data in the loss layer\n",
    "            last_layer.set_y(train_y)\n",
    "\n",
    "            # Backward propagate and change the weights\n",
    "            self.backwardPass(hypothese, len(self._ops))\n",
    "\n",
    "            # Print the train error and test accuracy after a certain number of epochs\n",
    "            if e % error_output_every == 0:\n",
    "                # Compute train error with the train data\n",
    "                error = last_layer.forward(hypothese).sum() / train_x.shape[0]\n",
    "                self._train_errors.append(error)\n",
    "\n",
    "                # Compute test accuracy with the test data\n",
    "                predictions = self.predict(test_x)\n",
    "\n",
    "                predicted_labels = np.argmax(predictions, axis=1)\n",
    "                test_labels = np.argmax(test_y, axis=1)\n",
    "\n",
    "                total_matches = (predicted_labels == test_labels).sum()\n",
    "\n",
    "                accuracy = total_matches / test_x.shape[0]\n",
    "                self._test_accuracies.append(accuracy * 100)\n",
    "                print('Epoch', e, 'with error:', error, 'and accuracy:', accuracy)"
   ],
   "metadata": {
    "collapsed": false,
    "ExecuteTime": {
     "end_time": "2023-07-11T13:49:17.511310300Z",
     "start_time": "2023-07-11T13:49:17.509352700Z"
    }
   }
  },
  {
   "cell_type": "code",
   "execution_count": 17,
   "outputs": [
    {
     "name": "stdout",
     "output_type": "stream",
     "text": [
      "Setup Credit Network\n",
      "Start training of the Credit network ...\n",
      "Epoch 0 with error: 0.45099929226834407 and accuracy: 0.3333333333333333\n",
      "Epoch 100 with error: 0.1967241304206211 and accuracy: 0.3333333333333333\n",
      "Epoch 200 with error: 0.19012569710458796 and accuracy: 0.3333333333333333\n",
      "Epoch 300 with error: 0.18355591215480693 and accuracy: 0.3333333333333333\n",
      "Epoch 400 with error: 0.17844679944501793 and accuracy: 0.3333333333333333\n",
      "Epoch 500 with error: 0.17491748206148225 and accuracy: 0.3333333333333333\n",
      "Epoch 600 with error: 0.17157909180439682 and accuracy: 0.3434343434343434\n",
      "Epoch 700 with error: 0.16988752060907816 and accuracy: 0.37373737373737376\n",
      "Epoch 800 with error: 0.1672935009293592 and accuracy: 0.35353535353535354\n",
      "Epoch 900 with error: 0.16318296618961278 and accuracy: 0.36363636363636365\n",
      "Epoch 1000 with error: 0.15875663039290383 and accuracy: 0.36363636363636365\n",
      "Epoch 1100 with error: 0.1552110993406096 and accuracy: 0.37373737373737376\n",
      "Epoch 1200 with error: 0.15238124063405312 and accuracy: 0.48484848484848486\n",
      "Epoch 1300 with error: 0.15003494745687238 and accuracy: 0.494949494949495\n",
      "Epoch 1400 with error: 0.14795892057077692 and accuracy: 0.5252525252525253\n",
      "Epoch 1500 with error: 0.14603798488925895 and accuracy: 0.5353535353535354\n",
      "Epoch 1600 with error: 0.14431233278435923 and accuracy: 0.5555555555555556\n",
      "Epoch 1700 with error: 0.14276375902207755 and accuracy: 0.5656565656565656\n",
      "Epoch 1800 with error: 0.14133326517624153 and accuracy: 0.5656565656565656\n",
      "Epoch 1900 with error: 0.13996786233844458 and accuracy: 0.5757575757575758\n",
      "Epoch 2000 with error: 0.13864143569876272 and accuracy: 0.5858585858585859\n",
      "Epoch 2100 with error: 0.13736006007225254 and accuracy: 0.5959595959595959\n",
      "Epoch 2200 with error: 0.13615101722238424 and accuracy: 0.5757575757575758\n",
      "Epoch 2300 with error: 0.1350452702639493 and accuracy: 0.5858585858585859\n",
      "Epoch 2400 with error: 0.13405966038257267 and accuracy: 0.5858585858585859\n",
      "Epoch 2500 with error: 0.13318950323522427 and accuracy: 0.6060606060606061\n",
      "Epoch 2600 with error: 0.13241728516804108 and accuracy: 0.6060606060606061\n",
      "Epoch 2700 with error: 0.13172681649780774 and accuracy: 0.6161616161616161\n",
      "Epoch 2800 with error: 0.13111125448998984 and accuracy: 0.6262626262626263\n",
      "Epoch 2900 with error: 0.13057730537331164 and accuracy: 0.6262626262626263\n",
      "Epoch 3000 with error: 0.13015692503987156 and accuracy: 0.6363636363636364\n",
      "Epoch 3100 with error: 0.1299258485025272 and accuracy: 0.6464646464646465\n",
      "Epoch 3200 with error: 0.12994442342509624 and accuracy: 0.6262626262626263\n",
      "Epoch 3300 with error: 0.13001642740202718 and accuracy: 0.6161616161616161\n",
      "Epoch 3400 with error: 0.12981632563497938 and accuracy: 0.6161616161616161\n",
      "Epoch 3500 with error: 0.12937146543932015 and accuracy: 0.6363636363636364\n",
      "Epoch 3600 with error: 0.12888637826091792 and accuracy: 0.6464646464646465\n",
      "Epoch 3700 with error: 0.12846567778028872 and accuracy: 0.6464646464646465\n",
      "Epoch 3800 with error: 0.1281200438888666 and accuracy: 0.6464646464646465\n",
      "Epoch 3900 with error: 0.1278334585440835 and accuracy: 0.6464646464646465\n",
      "Epoch 4000 with error: 0.12759143542637208 and accuracy: 0.6464646464646465\n",
      "Epoch 4100 with error: 0.12738744032532714 and accuracy: 0.6464646464646465\n",
      "Epoch 4200 with error: 0.1272236763131823 and accuracy: 0.6464646464646465\n",
      "Epoch 4300 with error: 0.1271093738230373 and accuracy: 0.6464646464646465\n",
      "Epoch 4400 with error: 0.1270555421358291 and accuracy: 0.6464646464646465\n",
      "Epoch 4500 with error: 0.12706738149309935 and accuracy: 0.6464646464646465\n",
      "Epoch 4600 with error: 0.1271410400246652 and accuracy: 0.6565656565656566\n",
      "Epoch 4700 with error: 0.12726746465834396 and accuracy: 0.6767676767676768\n",
      "Epoch 4800 with error: 0.1274369738946951 and accuracy: 0.6767676767676768\n",
      "Epoch 4900 with error: 0.1276406620479062 and accuracy: 0.6666666666666666\n",
      "Epoch 5000 with error: 0.1278707069565182 and accuracy: 0.6666666666666666\n",
      "final prediction: \n",
      " [[3.51528739e-01 6.80266919e-01 2.65850604e-04]\n",
      " [3.36782510e-01 6.90827315e-01 2.73745032e-04]\n",
      " [6.84963028e-02 9.16131946e-01 1.82156748e-04]\n",
      " [4.45882807e-03 9.90612453e-01 3.98664448e-03]\n",
      " [5.51091937e-01 7.52772541e-01 6.04473044e-03]\n",
      " [4.33051419e-01 6.61395031e-01 3.82547955e-02]\n",
      " [1.00258914e-01 8.90353319e-01 1.49175204e-04]\n",
      " [6.59508569e-01 4.05449944e-01 2.95913843e-03]\n",
      " [6.38134827e-01 1.85769246e-01 4.73287772e-04]\n",
      " [4.29991654e-01 5.03672950e-01 5.73785116e-03]\n",
      " [3.40434198e-01 6.90867804e-01 3.45562799e-04]\n",
      " [5.26791991e-01 5.14824665e-01 1.93483796e-03]\n",
      " [2.32833327e-01 8.86967589e-01 4.51406779e-02]\n",
      " [2.85950498e-01 7.36528637e-01 1.24011936e-04]\n",
      " [5.09117617e-03 9.23269196e-01 1.21052803e-01]\n",
      " [5.24071097e-01 5.22808010e-01 1.93626181e-03]\n",
      " [2.18728934e-01 9.38012790e-02 7.58874219e-01]\n",
      " [3.82326703e-04 9.30714405e-01 1.16240228e-01]\n",
      " [8.09551353e-02 8.08611521e-01 3.51698340e-02]\n",
      " [7.94582680e-02 2.54693737e-01 4.74713209e-01]\n",
      " [4.04046838e-01 1.55736865e-01 1.06742811e-03]\n",
      " [1.76510394e-01 8.30351182e-01 5.37979192e-05]\n",
      " [4.18531860e-02 9.49070435e-01 2.38625366e-04]\n",
      " [1.78372815e-01 8.17305790e-01 5.76537649e-04]\n",
      " [2.96429571e-01 7.07729155e-01 1.46488110e-04]\n",
      " [5.02693721e-01 4.90485538e-01 4.43280959e-03]\n",
      " [1.00469986e-01 8.93124904e-01 1.58436473e-04]\n",
      " [2.61887398e-01 1.19309724e-01 5.41836462e-01]\n",
      " [7.37207594e-01 3.47705965e-01 5.26633788e-03]\n",
      " [2.99830225e-01 7.25640476e-01 1.93210413e-04]\n",
      " [7.05158160e-01 3.84135755e-01 6.72476448e-03]\n",
      " [2.27132306e-01 8.25261103e-02 5.78228204e-01]\n",
      " [1.11170695e-01 8.79354087e-01 3.41414182e-04]\n",
      " [6.68664997e-02 9.25438056e-01 1.47834499e-04]\n",
      " [5.35354980e-02 9.93577034e-01 9.85516655e-05]\n",
      " [5.28887300e-02 9.39745842e-01 9.02962707e-04]\n",
      " [1.59374881e-01 8.39686570e-01 1.43973342e-04]\n",
      " [4.87781991e-01 5.53058558e-01 1.09216227e-03]\n",
      " [2.16614762e-02 9.56810042e-01 1.38894174e-03]\n",
      " [1.99184722e-02 9.70318338e-01 4.86157842e-04]\n",
      " [3.73793813e-02 5.07171584e-01 4.97697135e-01]\n",
      " [6.00164944e-03 9.84937445e-01 1.79377932e-03]\n",
      " [5.79904875e-02 9.02669668e-01 1.26518241e-04]\n",
      " [6.91046002e-02 9.13119494e-01 9.10653423e-04]\n",
      " [4.73725402e-02 9.42011472e-01 7.96577027e-04]\n",
      " [5.89671259e-03 9.78215652e-01 2.03272918e-03]\n",
      " [2.80669059e-02 9.55233381e-01 1.42308451e-02]\n",
      " [1.13895637e-01 8.84481979e-01 1.26055134e-04]\n",
      " [4.59581610e-02 7.77387541e-01 2.56914900e-02]\n",
      " [1.42586592e-01 8.48297336e-01 5.64138164e-05]\n",
      " [4.97616675e-01 5.41510676e-01 1.20432386e-03]\n",
      " [1.26658145e-01 8.64359788e-01 3.91788063e-04]\n",
      " [2.14190656e-01 7.81832781e-01 1.56053548e-04]\n",
      " [2.08016000e-01 7.66163325e-01 1.57597477e-04]\n",
      " [7.16992617e-02 8.37678186e-01 4.88176316e-02]\n",
      " [4.73181905e-01 5.99009276e-01 1.21654883e-03]\n",
      " [4.80110576e-04 9.61843256e-01 8.23661204e-02]\n",
      " [4.99874635e-01 6.75609176e-01 1.33361999e-02]\n",
      " [1.79748253e-01 8.29747548e-01 5.40678938e-05]\n",
      " [6.05795601e-03 9.84418293e-01 1.48627245e-02]\n",
      " [9.92490456e-03 9.70803391e-01 6.61156375e-03]\n",
      " [2.49411868e-01 6.32724419e-01 9.71802558e-02]\n",
      " [1.27168065e-01 8.29449905e-01 1.89593909e-02]\n",
      " [1.26745226e-01 8.11045197e-01 8.06843862e-03]\n",
      " [1.59365379e-01 8.28179699e-01 8.29850041e-05]\n",
      " [3.21099800e-03 9.84630944e-01 1.26506491e-02]\n",
      " [3.24638419e-02 9.63929983e-01 9.75251835e-04]\n",
      " [6.00276099e-02 9.02326930e-02 8.56479939e-01]\n",
      " [1.91351959e-01 9.51083626e-02 7.58935015e-01]\n",
      " [3.49853278e-01 1.50034516e-01 5.10050296e-01]\n",
      " [1.63782628e-01 2.23993271e-01 7.74214222e-01]\n",
      " [5.19754453e-02 9.55168484e-01 4.31295313e-03]\n",
      " [5.84261748e-03 1.61716225e-01 9.72400765e-01]\n",
      " [3.15609491e-02 1.70116653e-01 8.90283971e-01]\n",
      " [1.49376176e-01 8.15604445e-02 6.26654047e-01]\n",
      " [6.04012763e-01 9.56667225e-02 1.33360597e-01]\n",
      " [6.64398459e-03 6.74447277e-01 1.81153159e-01]\n",
      " [2.17554149e-02 5.98600736e-01 2.67475671e-01]\n",
      " [6.57895806e-04 3.65882855e-01 8.02743019e-01]\n",
      " [3.76183801e-01 4.52560453e-02 6.87924491e-01]\n",
      " [7.76320201e-02 1.61797959e-01 5.53365831e-01]\n",
      " [1.28284095e-02 5.31822986e-01 4.61660734e-01]\n",
      " [6.82076238e-04 2.22366232e-01 9.36940535e-01]\n",
      " [2.47655489e-02 1.72211535e-01 9.28112986e-01]\n",
      " [8.00237171e-02 2.46303643e-01 7.69882385e-01]\n",
      " [6.58186118e-03 2.34189532e-01 9.07209857e-01]\n",
      " [8.00374929e-02 1.36630977e-01 9.07155995e-01]\n",
      " [7.58594428e-03 5.09506555e-01 6.71430944e-01]\n",
      " [9.28108358e-03 2.08539771e-01 9.51179692e-01]\n",
      " [8.19853481e-02 2.06247275e-01 8.96211876e-01]\n",
      " [3.33334019e-02 2.07865841e-01 8.22510535e-01]\n",
      " [1.11629737e-03 5.32277996e-01 6.28827087e-01]\n",
      " [6.66811443e-02 2.73398575e-01 7.66193424e-01]\n",
      " [7.73976064e-03 2.46773703e-01 8.94995598e-01]\n",
      " [1.23083827e-01 4.01120082e-01 4.67711418e-01]\n",
      " [4.01862072e-02 2.81973359e-01 7.27860897e-01]\n",
      " [6.86437073e-02 5.92122903e-01 2.22779493e-01]\n",
      " [2.74518361e-02 1.71675561e-01 9.48174107e-01]\n",
      " [5.55879498e-02 5.70843562e-01 3.16200670e-01]]\n",
      "overall accuracy =  66.66666666666666\n"
     ]
    }
   ],
   "source": [
    "training_iterations = 5000\n",
    "error_output_every = 100\n",
    "learn_rate = 3\n",
    "hidden_units = 5\n",
    "np.random.seed(5)\n",
    "\n",
    "dataSet = CreditDataset()\n",
    "network = CreditNetwork(dataSet.get_train_x().shape[1], dataSet.get_train_y().shape[1], hidden_units)\n",
    "\n",
    "network.train(dataSet, training_iterations, learn_rate, error_output_every)\n",
    "print('final prediction: \\n', network.predict(dataSet.get_test_x()))\n",
    "accuracies = network.get_test_accuracies()\n",
    "errors = network.get_train_errors()\n",
    "print('overall accuracy = ', accuracies[len(network.get_test_accuracies())-1])"
   ],
   "metadata": {
    "collapsed": false,
    "ExecuteTime": {
     "end_time": "2023-07-11T13:54:34.200221Z",
     "start_time": "2023-07-11T13:54:32.145484100Z"
    }
   }
  },
  {
   "cell_type": "code",
   "execution_count": 18,
   "outputs": [
    {
     "data": {
      "text/plain": "(0.0, 5000.0, 0.0, 100.0)"
     },
     "execution_count": 18,
     "metadata": {},
     "output_type": "execute_result"
    },
    {
     "data": {
      "text/plain": "<Figure size 640x480 with 1 Axes>",
      "image/png": "[encoded data removed]"
     },
     "metadata": {},
     "output_type": "display_data"
    }
   ],
   "source": [
    "plt.plot(np.linspace(0, training_iterations, len(accuracies)), accuracies, 'b', label ='credit data')\n",
    "plt.xlabel('Epochs')\n",
    "plt.ylabel('accuracy')\n",
    "plt.axis([0, training_iterations, 0, 100 ])"
   ],
   "metadata": {
    "collapsed": false,
    "ExecuteTime": {
     "end_time": "2023-07-11T13:54:34.454049200Z",
     "start_time": "2023-07-11T13:54:34.212825500Z"
    }
   }
  },
  {
   "cell_type": "code",
   "execution_count": 21,
   "outputs": [
    {
     "data": {
      "text/plain": "(0.0, 5000.0, 0.0, 0.5)"
     },
     "execution_count": 21,
     "metadata": {},
     "output_type": "execute_result"
    },
    {
     "data": {
      "text/plain": "<Figure size 640x480 with 1 Axes>",
      "image/png": "[encoded data removed]"
     },
     "metadata": {},
     "output_type": "display_data"
    }
   ],
   "source": [
    "plt.plot(np.linspace(0, training_iterations, len(errors)), errors, 'b', label ='credit data')\n",
    "plt.xlabel('Epochs')\n",
    "plt.ylabel('predirction error')\n",
    "plt.axis([0, training_iterations, 0, 0.5 ])"
   ],
   "metadata": {
    "collapsed": false,
    "ExecuteTime": {
     "end_time": "2023-07-11T13:55:23.862060500Z",
     "start_time": "2023-07-11T13:55:23.539799800Z"
    }
   }
  },
  {
   "cell_type": "code",
   "execution_count": null,
   "outputs": [],
   "source": [],
   "metadata": {
    "collapsed": false
   }
  }
 ],
 "metadata": {
  "kernelspec": {
   "name": "python3",
   "language": "python",
   "display_name": "Python 3 (ipykernel)"
  },
  "language_info": {
   "codemirror_mode": {
    "name": "ipython",
    "version": 3
   },
   "file_extension": ".py",
   "mimetype": "text/x-python",
   "name": "python",
   "nbconvert_exporter": "python",
   "pygments_lexer": "ipython3",
   "version": "3.7.7"
  }
 },
 "nbformat": 4,
 "nbformat_minor": 4
}
