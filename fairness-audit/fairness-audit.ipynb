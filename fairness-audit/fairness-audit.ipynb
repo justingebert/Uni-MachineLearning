{
 "cells": [
  {
   "cell_type": "markdown",
   "metadata": {},
   "source": [
    "# Faires Machine Learning\n",
    "Machine Learning Models werden bei ihrer Erschaffung auf Qualität überprüft - z.B. wird geprüft wie hoch der Anteil korrekter Vorhersagen ist (= accuracy). Man kann die Qualität jedoch noch detailierter betrachten. Wenn wir \"Fairness\" als Qualitätskriterium prüfen sprechen wir von einem \"Fairness Audit\". Ein solcher Fairness Audit wird in diesem Notebook an Hand eines Logistic Regression Models für Kreditwürdigkeit demonstriert.\n",
    "\n",
    "\n",
    "**Aufgabe**:\n",
    "Vollziehe die vorgestellten Schritte nach und erledige dann die am Ende gestellten Reflektionsaufgaben. Wenn du noch Zeit hast, versuche dich an der Übungsaufgabe.\n",
    "\n",
    "---\n",
    "\n",
    "## Logistische Regression: Ist eine Person kreditwürdig?\n",
    "\n",
    "Banken wollen Kredite nur an Personen vergeben, die auch kreditwürdig sind. Dafür bauen wir ein Modell, das mit Hilfe von Logistic Regression einschätzt,\n",
    "ob eine Person kreditwürdig ist. Dieses beispielhafte Modell können wir später auf Fairness überprüfen.\n",
    "\n",
    "### Vorbereitung\n",
    "\n",
    "Zunächst wird das verwendete Datenset \"german_credit.csv\" importiert. Dabei werden nur einige Spalten importiert, da das Modell zu diesem Übungszweck sehr simpel gehalten werden soll. Wir verwenden zur Datenverarbeitung die Bibliothek \"pandas\". Mit \"pandas\" kann man tabellarische Daten verarbeiten.\n",
    "\n",
    "- [Dokumentation des Datensets](https://archive.ics.uci.edu/ml/datasets/statlog+(german+credit+data))\n",
    "- [Dokumentation Pandas](https://pandas.pydata.org/docs/reference/index.html)\n",
    "\n",
    "Die kategorischen Werte wurden im german_credit.csv bereits in Zahlen umgewandelt. Hier eine kurze Erklärung des Mappings Zahle -> Kategorie pro kategorischer Spalte.\n",
    "\n",
    "- \"Sex & Marital Status\":\n",
    "   - 1: male & separated\n",
    "   - 2: female & separated\n",
    "   - 3: male & single\n",
    "   - 4: male & married/widowed\n",
    "   - 5: female & single (nicht im Datenset enthalten)\n",
    "- \"Value Savings/Stocks\"\n",
    "   - 1:  ... < 100 DM\n",
    "   - 2:  100 <= ... < 500 DM\n",
    "   - 3:  500 <= ... < 1000 DM\n",
    "   - 4:  .. >= 1000 DM\n",
    "   - 5: unknown/ none\n",
    "- \"Payment Status of Previous Credit\"\n",
    "   -  0: no credits taken/ all credits paid back duly\n",
    "    - 1: all credits at this bank paid back duly\n",
    "    - 2: existing credits paid back duly till now\n",
    "    - 3: delay in paying off in the past\n",
    "    - 4: critical account/ other credits existing (not at this bank)"
   ]
  },
  {
   "cell_type": "code",
   "execution_count": 1,
   "metadata": {},
   "outputs": [
    {
     "data": {
      "text/html": [
       "<div>\n",
       "<style scoped>\n",
       "    .dataframe tbody tr th:only-of-type {\n",
       "        vertical-align: middle;\n",
       "    }\n",
       "\n",
       "    .dataframe tbody tr th {\n",
       "        vertical-align: top;\n",
       "    }\n",
       "\n",
       "    .dataframe thead th {\n",
       "        text-align: right;\n",
       "    }\n",
       "</style>\n",
       "<table border=\"1\" class=\"dataframe\">\n",
       "  <thead>\n",
       "    <tr style=\"text-align: right;\">\n",
       "      <th></th>\n",
       "      <th>Creditability</th>\n",
       "      <th>Account Balance</th>\n",
       "      <th>Duration of Credit (month)</th>\n",
       "      <th>Payment Status of Previous Credit</th>\n",
       "      <th>Value Savings/Stocks</th>\n",
       "      <th>Sex &amp; Marital Status</th>\n",
       "      <th>No of dependents</th>\n",
       "    </tr>\n",
       "  </thead>\n",
       "  <tbody>\n",
       "    <tr>\n",
       "      <th>0</th>\n",
       "      <td>1</td>\n",
       "      <td>1</td>\n",
       "      <td>18</td>\n",
       "      <td>4</td>\n",
       "      <td>1</td>\n",
       "      <td>2</td>\n",
       "      <td>1</td>\n",
       "    </tr>\n",
       "    <tr>\n",
       "      <th>1</th>\n",
       "      <td>1</td>\n",
       "      <td>1</td>\n",
       "      <td>9</td>\n",
       "      <td>4</td>\n",
       "      <td>1</td>\n",
       "      <td>3</td>\n",
       "      <td>2</td>\n",
       "    </tr>\n",
       "    <tr>\n",
       "      <th>2</th>\n",
       "      <td>1</td>\n",
       "      <td>2</td>\n",
       "      <td>12</td>\n",
       "      <td>2</td>\n",
       "      <td>2</td>\n",
       "      <td>2</td>\n",
       "      <td>1</td>\n",
       "    </tr>\n",
       "    <tr>\n",
       "      <th>3</th>\n",
       "      <td>1</td>\n",
       "      <td>1</td>\n",
       "      <td>12</td>\n",
       "      <td>4</td>\n",
       "      <td>1</td>\n",
       "      <td>3</td>\n",
       "      <td>2</td>\n",
       "    </tr>\n",
       "    <tr>\n",
       "      <th>4</th>\n",
       "      <td>1</td>\n",
       "      <td>1</td>\n",
       "      <td>12</td>\n",
       "      <td>4</td>\n",
       "      <td>1</td>\n",
       "      <td>3</td>\n",
       "      <td>1</td>\n",
       "    </tr>\n",
       "  </tbody>\n",
       "</table>\n",
       "</div>"
      ],
      "text/plain": [
       "   Creditability  Account Balance  Duration of Credit (month)  \\\n",
       "0              1                1                          18   \n",
       "1              1                1                           9   \n",
       "2              1                2                          12   \n",
       "3              1                1                          12   \n",
       "4              1                1                          12   \n",
       "\n",
       "   Payment Status of Previous Credit  Value Savings/Stocks  \\\n",
       "0                                  4                     1   \n",
       "1                                  4                     1   \n",
       "2                                  2                     2   \n",
       "3                                  4                     1   \n",
       "4                                  4                     1   \n",
       "\n",
       "   Sex & Marital Status  No of dependents  \n",
       "0                     2                 1  \n",
       "1                     3                 2  \n",
       "2                     2                 1  \n",
       "3                     3                 2  \n",
       "4                     3                 1  "
      ]
     },
     "execution_count": 1,
     "metadata": {},
     "output_type": "execute_result"
    }
   ],
   "source": [
    "import pandas as pd\n",
    "import numpy as np\n",
    "\n",
    "demographics = [\"No of dependents\", \"Sex & Marital Status\"] # These columns will be used for the fairness audit - we will check whether the model is fair towards people with a different number of dependents, and whether it is fair towards people of different sex\n",
    "features = [\"Value Savings/Stocks\", \"Payment Status of Previous Credit\", \"Duration of Credit (month)\", \"Account Balance\"] # These columns will be the features for our logistic regression model - we keep it simple for this exercise!\n",
    "target = [\"Creditability\"] # The model should try to predict creditability - that means it classifies each instance in the data set as either creditable or not creditable\n",
    "\n",
    "d = pd.read_csv(\"german_credit.csv\", usecols=np.concatenate([demographics, features, target])) # import the CSV\n",
    "\n",
    "d.head() # show a few rows of the imported data set"
   ]
  },
  {
   "cell_type": "code",
   "execution_count": 2,
   "metadata": {},
   "outputs": [
    {
     "data": {
      "text/html": [
       "<div>\n",
       "<style scoped>\n",
       "    .dataframe tbody tr th:only-of-type {\n",
       "        vertical-align: middle;\n",
       "    }\n",
       "\n",
       "    .dataframe tbody tr th {\n",
       "        vertical-align: top;\n",
       "    }\n",
       "\n",
       "    .dataframe thead th {\n",
       "        text-align: right;\n",
       "    }\n",
       "</style>\n",
       "<table border=\"1\" class=\"dataframe\">\n",
       "  <thead>\n",
       "    <tr style=\"text-align: right;\">\n",
       "      <th></th>\n",
       "      <th>Creditability</th>\n",
       "      <th>Account Balance</th>\n",
       "      <th>Duration of Credit (month)</th>\n",
       "      <th>Payment Status of Previous Credit</th>\n",
       "      <th>Value Savings/Stocks</th>\n",
       "      <th>No of dependents</th>\n",
       "      <th>female</th>\n",
       "    </tr>\n",
       "  </thead>\n",
       "  <tbody>\n",
       "    <tr>\n",
       "      <th>count</th>\n",
       "      <td>1000.000000</td>\n",
       "      <td>1000.000000</td>\n",
       "      <td>1000.000000</td>\n",
       "      <td>1000.00000</td>\n",
       "      <td>1000.000000</td>\n",
       "      <td>1000.000000</td>\n",
       "      <td>1000.000000</td>\n",
       "    </tr>\n",
       "    <tr>\n",
       "      <th>mean</th>\n",
       "      <td>0.700000</td>\n",
       "      <td>2.577000</td>\n",
       "      <td>20.903000</td>\n",
       "      <td>2.54500</td>\n",
       "      <td>2.105000</td>\n",
       "      <td>1.155000</td>\n",
       "      <td>0.310000</td>\n",
       "    </tr>\n",
       "    <tr>\n",
       "      <th>std</th>\n",
       "      <td>0.458487</td>\n",
       "      <td>1.257638</td>\n",
       "      <td>12.058814</td>\n",
       "      <td>1.08312</td>\n",
       "      <td>1.580023</td>\n",
       "      <td>0.362086</td>\n",
       "      <td>0.462725</td>\n",
       "    </tr>\n",
       "    <tr>\n",
       "      <th>min</th>\n",
       "      <td>0.000000</td>\n",
       "      <td>1.000000</td>\n",
       "      <td>4.000000</td>\n",
       "      <td>0.00000</td>\n",
       "      <td>1.000000</td>\n",
       "      <td>1.000000</td>\n",
       "      <td>0.000000</td>\n",
       "    </tr>\n",
       "    <tr>\n",
       "      <th>25%</th>\n",
       "      <td>0.000000</td>\n",
       "      <td>1.000000</td>\n",
       "      <td>12.000000</td>\n",
       "      <td>2.00000</td>\n",
       "      <td>1.000000</td>\n",
       "      <td>1.000000</td>\n",
       "      <td>0.000000</td>\n",
       "    </tr>\n",
       "    <tr>\n",
       "      <th>50%</th>\n",
       "      <td>1.000000</td>\n",
       "      <td>2.000000</td>\n",
       "      <td>18.000000</td>\n",
       "      <td>2.00000</td>\n",
       "      <td>1.000000</td>\n",
       "      <td>1.000000</td>\n",
       "      <td>0.000000</td>\n",
       "    </tr>\n",
       "    <tr>\n",
       "      <th>75%</th>\n",
       "      <td>1.000000</td>\n",
       "      <td>4.000000</td>\n",
       "      <td>24.000000</td>\n",
       "      <td>4.00000</td>\n",
       "      <td>3.000000</td>\n",
       "      <td>1.000000</td>\n",
       "      <td>1.000000</td>\n",
       "    </tr>\n",
       "    <tr>\n",
       "      <th>max</th>\n",
       "      <td>1.000000</td>\n",
       "      <td>4.000000</td>\n",
       "      <td>72.000000</td>\n",
       "      <td>4.00000</td>\n",
       "      <td>5.000000</td>\n",
       "      <td>2.000000</td>\n",
       "      <td>1.000000</td>\n",
       "    </tr>\n",
       "  </tbody>\n",
       "</table>\n",
       "</div>"
      ],
      "text/plain": [
       "       Creditability  Account Balance  Duration of Credit (month)  \\\n",
       "count    1000.000000      1000.000000                 1000.000000   \n",
       "mean        0.700000         2.577000                   20.903000   \n",
       "std         0.458487         1.257638                   12.058814   \n",
       "min         0.000000         1.000000                    4.000000   \n",
       "25%         0.000000         1.000000                   12.000000   \n",
       "50%         1.000000         2.000000                   18.000000   \n",
       "75%         1.000000         4.000000                   24.000000   \n",
       "max         1.000000         4.000000                   72.000000   \n",
       "\n",
       "       Payment Status of Previous Credit  Value Savings/Stocks  \\\n",
       "count                         1000.00000           1000.000000   \n",
       "mean                             2.54500              2.105000   \n",
       "std                              1.08312              1.580023   \n",
       "min                              0.00000              1.000000   \n",
       "25%                              2.00000              1.000000   \n",
       "50%                              2.00000              1.000000   \n",
       "75%                              4.00000              3.000000   \n",
       "max                              4.00000              5.000000   \n",
       "\n",
       "       No of dependents       female  \n",
       "count       1000.000000  1000.000000  \n",
       "mean           1.155000     0.310000  \n",
       "std            0.362086     0.462725  \n",
       "min            1.000000     0.000000  \n",
       "25%            1.000000     0.000000  \n",
       "50%            1.000000     0.000000  \n",
       "75%            1.000000     1.000000  \n",
       "max            2.000000     1.000000  "
      ]
     },
     "execution_count": 2,
     "metadata": {},
     "output_type": "execute_result"
    }
   ],
   "source": [
    "# We pre-process the \"Sex & Marital Status\" column to retrieve only the sex of a person, not their marital status.\n",
    "\n",
    "d[\"female\"] = (d[\"Sex & Marital Status\"] == 2) | (d[\"Sex & Marital Status\"] == 5) # is the person female?\n",
    "d[\"female\"] = d[\"female\"].astype(int) # 1 = female, 0 = male\n",
    "d = d.drop(\"Sex & Marital Status\", axis=1) # Remove the column we retrieved the information from since we don't need it anymore\n",
    "demographics = [demographics[0], \"female\"] # Update our demographics list\n",
    "\n",
    "d.describe()"
   ]
  },
  {
   "cell_type": "markdown",
   "metadata": {},
   "source": [
    "### Logistic Regression\n",
    "\n",
    "Jetzt trainieren wir ein out-of-the-box Logistic Regression Model mit Hilfe von \"sklearn\". Die Bibliothek \"sklearn\" kann verschiedene Machine Learning Aufgaben übernehmen.\n",
    "\n",
    "- [Dokumentation sklearn](https://scikit-learn.org)"
   ]
  },
  {
   "cell_type": "code",
   "execution_count": 3,
   "metadata": {},
   "outputs": [],
   "source": [
    "from sklearn.model_selection import train_test_split\n",
    "\n",
    "x = d[features + demographics] # x = all columns of the data set that are features or demographics\n",
    "y = np.ravel(d[target].values) # y = the target column of the data set (as a 1d array)\n",
    "\n",
    "x_train_with_demographics, x_test_with_demographics, y_train, y_test = train_test_split(x, y, test_size=0.2) # sklearn can do the train-test split for us"
   ]
  },
  {
   "cell_type": "code",
   "execution_count": 4,
   "metadata": {},
   "outputs": [],
   "source": [
    "# We remove the demographics for the training and add them back later on for the fairness audit\n",
    "X_train = x_train_with_demographics[features]\n",
    "X_test = x_test_with_demographics[features]"
   ]
  },
  {
   "cell_type": "code",
   "execution_count": 5,
   "metadata": {},
   "outputs": [],
   "source": [
    "from sklearn.linear_model import LogisticRegressionCV\n",
    "\n",
    "model = LogisticRegressionCV()\n",
    "model.fit(X_train, y_train) # Train the logistic regression model on the training instances\n",
    "\n",
    "y_pred = model.predict(X_test) # Classify the test instances"
   ]
  },
  {
   "cell_type": "markdown",
   "metadata": {},
   "source": [
    "## Einschätzung der Model Qualität\n",
    "\n",
    "Nachdem wir nun beispielhaft ein Logistic Regression Model zur Vorhersage der Kreditwürdigkeit trainiert haben, können wir nun seine Qualität einschätzen.\n",
    "\n",
    "### Qualität allgemein und pro Klasse\n",
    "\n",
    "Wir werfen einen Blick auf den Report, den sklearn uns generiert. Er enthält die folgenden Metriken:\n",
    "- [precision and recall](https://en.wikipedia.org/wiki/Precision_and_recall) pro target Klasse\n",
    "    - \"precision\" = Von allen Instanzen, die in diese Klasse eingeordnet wurden: Wieviele gehören tatsächlich in diese Klasse?\n",
    "    - \"recall\" = Von allen Instanzen, die tatsächlich in diese Klasse gehören: Wieviele wurden in diese Klasse eingeordnet?\n",
    "- [f1-score](https://en.wikipedia.org/wiki/F-score) pro target Klasse (= harmonisches Mittel von precision und recall)\n",
    "- accuracy (= Klassenunabhängig: Rate der korrekten Klassifizierungen)\n",
    "- die obigen Metriken werden außerdem als Mittelwerte über beide Klassen gegeben\n",
    "    - \"macro\" = ungewichtetes Mittel\n",
    "    - \"weighted\" = gewichtetes Mittel\n",
    "- \"support\" = Anzahl von Instanzen dieser Klasse in y_test\n",
    "\n",
    "Siehe auch: [classification_report documentation](https://scikit-learn.org/stable/modules/generated/sklearn.metrics.classification_report.html#sklearn.metrics.classification_report)"
   ]
  },
  {
   "cell_type": "code",
   "execution_count": 6,
   "metadata": {},
   "outputs": [
    {
     "name": "stdout",
     "output_type": "stream",
     "text": [
      "                precision    recall  f1-score   support\n",
      "\n",
      "not creditable       0.67      0.41      0.51        54\n",
      "    creditable       0.81      0.92      0.86       146\n",
      "\n",
      "      accuracy                           0.79       200\n",
      "     macro avg       0.74      0.67      0.68       200\n",
      "  weighted avg       0.77      0.79      0.77       200\n",
      "\n"
     ]
    }
   ],
   "source": [
    "from sklearn.metrics import classification_report\n",
    "\n",
    "report = classification_report(y_test, y_pred, target_names=[\"not creditable\", \"creditable\"])\n",
    "print(report)"
   ]
  },
  {
   "cell_type": "markdown",
   "metadata": {},
   "source": [
    "### Fairness\n",
    "\n",
    "Fairness ist ebenfalls ein Qualitätsfaktor für Machine Learning Modelle. Während es viele Definitionen für Fairness gibt, ist die allgemeine Frage, die dieser Faktor stellt: Funktioniert das Modell gleich gut für alle Gruppen? Diese Frage enthält drei separate Aspekte: \"gleich\", \"gut\" und \"Gruppen\".\n",
    "\n",
    "\"Gut\" bezieht sich auf Qualitäts-Metriken, die aus der [Confusion Matrix](https://en.wikipedia.org/wiki/Confusion_matrix) (True Positives, False Positives, True Negatives und False Negatives) berechnet werden - die Auswahl erfolgt je nach verwendeter Fairness-Definition (siehe [Verma & Rubin 2018](https://fairware.cs.umass.edu/papers/Verma.pdf)). Es muss je nach Fall entschieden werden, welche Fairness-Definitionen relevant sind.\n",
    "\n",
    "Es muss außerdem von Fall zu Fall entschieden werden, wie \"gleich\" die Qualität für verschiedene Gruppen sein muss, damit das Modell fair ist. Die Gleichheit der Qualitäts-Metriken pro Gruppe wird entweder durch die Differenz oder das Verhältnis bestimmt.\n",
    "\n",
    "Letztenendes muss auch noch ausgewählt werden, für welche \"Gruppen\" Fairness geprüft wird. Gruppen können z.B. nach demographischen Eigenschaften wie Geschlecht oder Alter gebildet werden.\n",
    "\n",
    "Wir können die Bibliothek \"fairlearn\" benutzen, um einige Qualitäts-Metriken pro Gruppe für das Modell berechnen zu lassen.\n",
    "\n",
    "- [Fairlearn User Guide](https://fairlearn.org/v0.8/user_guide/)\n",
    "- [Fairlearn Dokumentation](https://fairlearn.org/v0.8/api_reference/index.html)"
   ]
  },
  {
   "cell_type": "markdown",
   "metadata": {},
   "source": [
    "#### Auswahl von Fairness-Definitionen\n",
    "\n",
    "Bei unserem Use Case handelt sich um die Vorhersage von Kreditwürdigkeit.\n",
    "\n",
    "Wir wollen folgende Fairness-Definitionen prüfen (nach [Verma & Rubin 2018](https://fairware.cs.umass.edu/papers/Verma.pdf)):\n",
    "- Predictive Equality (gleiche FPR) = In verschiedenen Gruppen werden ähnlich viele Personen fälschlicherweise als kreditwürdig eingestuft und erhalten damit eine Chance auf einen Kredit\n",
    "- Equal Opportunity (gleiche FNR) = In verschiedenen Gruppen werden ähnlich viele Personen fälschlicherweise als kreditunwürdig eingestuft und erhalten damit nicht die Chance auf einen Kredit\n",
    "- Overall Accuracy Equality (gleiche accuracy)"
   ]
  },
  {
   "cell_type": "code",
   "execution_count": 8,
   "metadata": {},
   "outputs": [
    {
     "name": "stdout",
     "output_type": "stream",
     "text": [
      "Collecting fairlearn\n",
      "  Downloading fairlearn-0.8.0-py3-none-any.whl (235 kB)\n",
      "     -------------------------------------- 235.0/235.0 kB 3.6 MB/s eta 0:00:00\n",
      "Requirement already satisfied: scikit-learn>=0.22.1 in c:\\users\\justin\\anaconda3\\lib\\site-packages (from fairlearn) (1.2.1)\n",
      "Requirement already satisfied: scipy>=1.4.1 in c:\\users\\justin\\anaconda3\\lib\\site-packages (from fairlearn) (1.10.0)\n",
      "Requirement already satisfied: numpy>=1.17.2 in c:\\users\\justin\\anaconda3\\lib\\site-packages (from fairlearn) (1.23.5)\n",
      "Requirement already satisfied: pandas>=0.25.1 in c:\\users\\justin\\anaconda3\\lib\\site-packages (from fairlearn) (1.5.3)\n",
      "Requirement already satisfied: python-dateutil>=2.8.1 in c:\\users\\justin\\anaconda3\\lib\\site-packages (from pandas>=0.25.1->fairlearn) (2.8.2)\n",
      "Requirement already satisfied: pytz>=2020.1 in c:\\users\\justin\\anaconda3\\lib\\site-packages (from pandas>=0.25.1->fairlearn) (2022.7)\n",
      "Requirement already satisfied: threadpoolctl>=2.0.0 in c:\\users\\justin\\anaconda3\\lib\\site-packages (from scikit-learn>=0.22.1->fairlearn) (2.2.0)\n",
      "Requirement already satisfied: joblib>=1.1.1 in c:\\users\\justin\\anaconda3\\lib\\site-packages (from scikit-learn>=0.22.1->fairlearn) (1.1.1)\n",
      "Requirement already satisfied: six>=1.5 in c:\\users\\justin\\anaconda3\\lib\\site-packages (from python-dateutil>=2.8.1->pandas>=0.25.1->fairlearn) (1.16.0)\n",
      "Installing collected packages: fairlearn\n",
      "Successfully installed fairlearn-0.8.0\n"
     ]
    }
   ],
   "source": [
    "from sklearn.metrics import accuracy_score\n",
    "!pip install fairlearn\n",
    "from fairlearn.metrics import MetricFrame, count, false_negative_rate, false_positive_rate\n",
    "\n",
    "metrics = {\n",
    "    \"accuracy\": accuracy_score,\n",
    "    \"false positive rate\": false_positive_rate, # for predictive parity\n",
    "    \"false negative rate\": false_negative_rate, # for equal opportunity\n",
    "    \"count\": count, # how many instances belong to this group?\n",
    "}"
   ]
  },
  {
   "cell_type": "markdown",
   "metadata": {},
   "source": [
    "#### Berechnung der Fairness-Metriken\n",
    "\n",
    "Wir lassen nun von fairlearn die ausgewählten Metriken berechnen und anzeigen."
   ]
  },
  {
   "cell_type": "code",
   "execution_count": 9,
   "metadata": {},
   "outputs": [
    {
     "data": {
      "text/plain": [
       "array([[<Axes: title={'center': 'accuracy'}, xlabel='No of dependents'>,\n",
       "        <Axes: title={'center': 'false positive rate'}, xlabel='No of dependents'>,\n",
       "        <Axes: title={'center': 'false negative rate'}, xlabel='No of dependents'>,\n",
       "        <Axes: title={'center': 'count'}, xlabel='No of dependents'>]],\n",
       "      dtype=object)"
      ]
     },
     "execution_count": 9,
     "metadata": {},
     "output_type": "execute_result"
    },
    {
     "data": {
      "image/png": "[encoded data removed]",
      "text/plain": [
       "<Figure size 1200x200 with 4 Axes>"
      ]
     },
     "metadata": {},
     "output_type": "display_data"
    }
   ],
   "source": [
    "sensitive_feature_0 = x_test_with_demographics[demographics[0]] # Number of dependents\n",
    "m_0 = MetricFrame(metrics=metrics, y_true=y_test, y_pred=y_pred, sensitive_features=sensitive_feature_0)\n",
    "\n",
    "m_0.by_group.plot.bar(\n",
    "    subplots=True,\n",
    "    layout=[1, 4],\n",
    "    legend=False,\n",
    "    figsize=[12, 2]\n",
    ")"
   ]
  },
  {
   "cell_type": "code",
   "execution_count": 10,
   "metadata": {},
   "outputs": [
    {
     "data": {
      "text/plain": [
       "array([[<Axes: title={'center': 'accuracy'}, xlabel='female'>,\n",
       "        <Axes: title={'center': 'false positive rate'}, xlabel='female'>,\n",
       "        <Axes: title={'center': 'false negative rate'}, xlabel='female'>,\n",
       "        <Axes: title={'center': 'count'}, xlabel='female'>]], dtype=object)"
      ]
     },
     "execution_count": 10,
     "metadata": {},
     "output_type": "execute_result"
    },
    {
     "data": {
      "image/png": "[encoded data removed]",
      "text/plain": [
       "<Figure size 1200x200 with 4 Axes>"
      ]
     },
     "metadata": {},
     "output_type": "display_data"
    }
   ],
   "source": [
    "sensitive_feature_1 = x_test_with_demographics[demographics[1]] # female\n",
    "m_1 = MetricFrame(metrics=metrics, y_true=y_test, y_pred=y_pred, sensitive_features=sensitive_feature_1)\n",
    "\n",
    "m_1.by_group.plot.bar(\n",
    "    subplots=True,\n",
    "    layout=[1, 4],\n",
    "    legend=False,\n",
    "    figsize=[12, 2]\n",
    ")"
   ]
  },
  {
   "cell_type": "markdown",
   "metadata": {},
   "source": [
    "#### Sind die Modelle gleich gut?\n",
    "\n",
    "Wir haben nun beobachtet, wie akkurat die Modelle pro Gruppe sind, und wie hoch die Fehlerraten sind. Doch sind diese Metriken ähnlich genug, damit die von uns ausgewählten Fairness-Definitionen erfüllt werden? Reminder, unsere Definitionen sind:\n",
    "\n",
    "- Predictive Equality (gleiche FPR)\n",
    "- Equal Opportunity (gleiche FNR)\n",
    "- Overall Accuracy Equality (gleiche accuracy)\n",
    "\n",
    "Die Ähnlichkeit kann man nun entweder mit der Differenz oder der Rate (Anteil) berechnen. Fairlearn übernimmt auch diese Aufgabe für uns. Welche Differenz oder Rate man als \"zu hoch\" einstuft muss man selber festlegen, da es hierzu noch keine Standards gibt."
   ]
  },
  {
   "cell_type": "code",
   "execution_count": 11,
   "metadata": {},
   "outputs": [
    {
     "data": {
      "text/plain": [
       "accuracy                 0.025387\n",
       "false positive rate      0.044444\n",
       "false negative rate      0.035191\n",
       "count                  138.000000\n",
       "dtype: float64"
      ]
     },
     "execution_count": 11,
     "metadata": {},
     "output_type": "execute_result"
    }
   ],
   "source": [
    "m_0.difference() # Number of dependents"
   ]
  },
  {
   "cell_type": "code",
   "execution_count": 12,
   "metadata": {},
   "outputs": [
    {
     "data": {
      "text/plain": [
       "accuracy               0.968521\n",
       "false positive rate    0.925926\n",
       "false negative rate    0.563636\n",
       "count                  0.183432\n",
       "dtype: float64"
      ]
     },
     "execution_count": 12,
     "metadata": {},
     "output_type": "execute_result"
    }
   ],
   "source": [
    "m_0.ratio() # Number of dependents"
   ]
  },
  {
   "cell_type": "code",
   "execution_count": 13,
   "metadata": {},
   "outputs": [
    {
     "data": {
      "text/plain": [
       "accuracy                0.029467\n",
       "false positive rate     0.011765\n",
       "false negative rate     0.061519\n",
       "count                  90.000000\n",
       "dtype: float64"
      ]
     },
     "execution_count": 13,
     "metadata": {},
     "output_type": "execute_result"
    }
   ],
   "source": [
    "m_1.difference() # female?"
   ]
  },
  {
   "cell_type": "code",
   "execution_count": 14,
   "metadata": {},
   "outputs": [
    {
     "data": {
      "text/plain": [
       "accuracy               0.962846\n",
       "false positive rate    0.980392\n",
       "false negative rate    0.317143\n",
       "count                  0.379310\n",
       "dtype: float64"
      ]
     },
     "execution_count": 14,
     "metadata": {},
     "output_type": "execute_result"
    }
   ],
   "source": [
    "m_1.ratio() # female?"
   ]
  },
  {
   "cell_type": "markdown",
   "metadata": {},
   "source": [
    "#### Intersektionale Gruppen\n",
    "\n",
    "In der Fairness-Forschung hat man herausgefunden, dass Diskriminierung sich oft \"aufaddiert\". D.h. wenn man beobachten kann dass z.B. People of Color diskriminiert werden und Frauen diskriminiert werden, dass dann Women of Color besonders stark diskriminiert werden. \"Women of Color\" ist eine intersektionale Guppe. Wir prüfen daher außerdem noch, wie gut unser Modell für die verschiedenen intersektionalen Gruppen funktioniert."
   ]
  },
  {
   "cell_type": "code",
   "execution_count": 15,
   "metadata": {},
   "outputs": [
    {
     "data": {
      "text/plain": [
       "array([[<Axes: title={'center': 'accuracy'}, xlabel='No of dependents,female'>,\n",
       "        <Axes: title={'center': 'false positive rate'}, xlabel='No of dependents,female'>,\n",
       "        <Axes: title={'center': 'false negative rate'}, xlabel='No of dependents,female'>,\n",
       "        <Axes: title={'center': 'count'}, xlabel='No of dependents,female'>]],\n",
       "      dtype=object)"
      ]
     },
     "execution_count": 15,
     "metadata": {},
     "output_type": "execute_result"
    },
    {
     "data": {
      "image/png": "[encoded data removed]",
      "text/plain": [
       "<Figure size 1200x200 with 4 Axes>"
      ]
     },
     "metadata": {},
     "output_type": "display_data"
    }
   ],
   "source": [
    "sensitive_features = x_test_with_demographics[demographics] # both demographics: number of dependents and female\n",
    "m = MetricFrame(metrics=metrics, y_true=y_test, y_pred=y_pred, sensitive_features=sensitive_features)\n",
    "\n",
    "m.by_group.plot.bar(\n",
    "    subplots=True,\n",
    "    layout=[1, 4],\n",
    "    legend=False,\n",
    "    figsize=[12, 2]\n",
    ")"
   ]
  },
  {
   "cell_type": "code",
   "execution_count": 16,
   "metadata": {},
   "outputs": [
    {
     "data": {
      "text/plain": [
       "accuracy                0.042815\n",
       "false positive rate     0.044444\n",
       "false negative rate     0.072552\n",
       "count                  83.000000\n",
       "dtype: float64"
      ]
     },
     "execution_count": 16,
     "metadata": {},
     "output_type": "execute_result"
    }
   ],
   "source": [
    "m.difference()"
   ]
  },
  {
   "cell_type": "code",
   "execution_count": 17,
   "metadata": {},
   "outputs": [
    {
     "data": {
      "text/plain": [
       "accuracy               0.946909\n",
       "false positive rate    0.925926\n",
       "false negative rate    0.282540\n",
       "count                  0.271930\n",
       "dtype: float64"
      ]
     },
     "execution_count": 17,
     "metadata": {},
     "output_type": "execute_result"
    }
   ],
   "source": [
    "m.ratio()"
   ]
  },
  {
   "cell_type": "markdown",
   "metadata": {},
   "source": [
    "## Reflektionsaufgaben\n",
    "\n",
    "- Würdest du das Modell als fair, oder als unfair einschätzen?\n",
    "- Woran liegen womöglich die Unterschiede in Accuracy und Fehlerraten\n",
    "   - zwischen verschiedenen Klassen?\n",
    "   - zwischen verschiedenen (intersektionalen) Gruppen?\n",
    "- Hast du eine Idee, wie man versuchen könnte die Unterschiede anzugleichen?\n",
    "\n",
    "## Übungsaufgabe\n",
    "- Nutze die hier vorgestellten Methoden (soweit möglich) um dein eigenes Klassifizierungsmodell (aus einer früheren Übung in diesem Kurs) zu testen"
   ]
  },
  {
   "cell_type": "markdown",
   "metadata": {},
   "source": []
  }
 ],
 "metadata": {
  "anaconda-cloud": {},
  "hide_input": false,
  "kernelspec": {
   "display_name": "Python 3 (ipykernel)",
   "language": "python",
   "name": "python3"
  },
  "language_info": {
   "codemirror_mode": {
    "name": "ipython",
    "version": 3
   },
   "file_extension": ".py",
   "mimetype": "text/x-python",
   "name": "python",
   "nbconvert_exporter": "python",
   "pygments_lexer": "ipython3",
   "version": "3.10.9"
  },
  "varInspector": {
   "cols": {
    "lenName": 16,
    "lenType": 16,
    "lenVar": 40
   },
   "kernels_config": {
    "python": {
     "delete_cmd_postfix": "",
     "delete_cmd_prefix": "del ",
     "library": "var_list.py",
     "varRefreshCmd": "print(var_dic_list())"
    },
    "r": {
     "delete_cmd_postfix": ") ",
     "delete_cmd_prefix": "rm(",
     "library": "var_list.r",
     "varRefreshCmd": "cat(var_dic_list()) "
    }
   },
   "types_to_exclude": [
    "module",
    "function",
    "builtin_function_or_method",
    "instance",
    "_Feature"
   ],
   "window_display": false
  }
 },
 "nbformat": 4,
 "nbformat_minor": 2
}
