{
 "cells": [
  {
   "cell_type": "code",
   "execution_count": 1,
   "metadata": {
    "collapsed": true,
    "ExecuteTime": {
     "end_time": "2023-05-09T17:30:18.696147100Z",
     "start_time": "2023-05-09T17:30:08.520663200Z"
    }
   },
   "outputs": [],
   "source": [
    "import numpy as np\n",
    "import matplotlib.pyplot as plt\n",
    "from sklearn.metrics import mean_squared_error\n",
    "\n",
    "cars = np.genfromtxt(\"cars.csv\", delimiter=\",\", skip_header=True)\n",
    "\n",
    "car_col_min = np.min(cars, axis=0)\n",
    "car_col_max = np.max(cars, axis=0)\n",
    "car_nrm = (cars - car_col_min) / (car_col_max - car_col_min)\n",
    "\n",
    "cars_num_rows = cars[:, 1:7]\n",
    "cars_num_rows_min = np.min(cars_num_rows, axis=0)\n",
    "cars_num_rows_max = np.max(cars_num_rows, axis=0)\n",
    "\n",
    "cars_column_mpg = cars[:, 7]\n",
    "cars_column_mpg_min = np.min(cars_column_mpg)\n",
    "cars_column_mpg_max = np.max(cars_column_mpg)\n",
    "\n",
    "cars_num_rows_normalized = (cars_num_rows - cars_num_rows_min) / (cars_num_rows_max - cars_num_rows_min)\n",
    "cars_mpg_normalized = (cars_column_mpg - cars_column_mpg_min) / (cars_column_mpg_max - cars_column_mpg_min)\n"
   ]
  },
  {
   "cell_type": "code",
   "execution_count": 2,
   "outputs": [
    {
     "name": "stdout",
     "output_type": "stream",
     "text": [
      "Initial RMSE: 11.57\n",
      "None\n",
      "0.06839156244912412\n",
      "0.06207664930637187\n",
      "0.06087626989917101\n",
      "0.05172735422561516\n",
      "0.044868819083648585\n",
      "0.041814066572922894\n",
      "0.04070540485829589\n",
      "0.040554544497871915\n",
      "0.03537362889180738\n",
      "0.033567870470943825\n",
      "0.03260173523564325\n",
      "0.029890035762180498\n",
      "0.029836547823577895\n",
      "0.0258320309542536\n",
      "0.024223157263103114\n",
      "0.023507355713807913\n",
      "0.022372049714645587\n",
      "0.020722930861833105\n",
      "0.020577014825027287\n",
      "0.01929092515133431\n",
      "0.01913037553198809\n",
      "0.018907952086186796\n",
      "0.01843495835089312\n",
      "0.018209995182471565\n",
      "0.01737466225346286\n",
      "0.01708587688740369\n",
      "0.017040560044929536\n",
      "0.016944734266780146\n",
      "0.016885323922947854\n",
      "0.016849541825543508\n",
      "0.01650263387348474\n",
      "0.016308228274564577\n",
      "0.015974195987817023\n",
      "0.015799055915093698\n",
      "0.015580035090302655\n",
      "0.015187845933183246\n",
      "0.014715787945766784\n",
      "0.014535603918226414\n",
      "0.014019145689384052\n",
      "0.01398655299902823\n",
      "0.013962702250786989\n",
      "0.013955011461271672\n",
      "0.013856437899109737\n",
      "mpg is 16.0, predicted is 15.694799246678011\n",
      "mpg is 24.0, predicted is 23.20138461656657\n",
      "mpg is 29.0, predicted is 28.281622839823704\n",
      "mpg is 33.5, predicted is 30.504559146522347\n",
      "Final RMSE: 9.51732\n"
     ]
    }
   ],
   "source": [
    "\n",
    "def weighted_function (x, coefficients):\n",
    "    return np.dot(x, coefficients)\n",
    "\n",
    "def offspring(parent):\n",
    "    return parent + np.random.uniform(low= -0.1, high=0.1, size=parent.shape)\n",
    "\n",
    "def coeffients(number):\n",
    "    cV = np.random.uniform(low= -1.0, high=1.0, size=number)\n",
    "    return cV\n",
    "\n",
    "def fitness_function (data, coefficients):\n",
    "    return mean_squared_error(cars_mpg_normalized,weighted_function(data, coefficients))\n",
    "\n",
    "num_parents = 1\n",
    "num_children = 3\n",
    "num_generations = 300\n",
    "mutation_std = 0.05\n",
    "\n",
    "parents = np.random.uniform(low=-1, high=1, size=(num_parents, cars_num_rows.shape[1]))\n",
    "\n",
    "best_fitness = None\n",
    "best_coeffs = None\n",
    "\n",
    "for i in range(num_generations):\n",
    "    # generate children\n",
    "    children = np.tile(parents, (num_children, 1))\n",
    "    children += np.random.normal(scale=mutation_std, size=children.shape)\n",
    "    # compute fitness for parents and children\n",
    "    pop = np.concatenate((parents, children))\n",
    "    # fitness = np.empty((0,3), float)\n",
    "\n",
    "    fitness = np.array([fitness_function(cars_num_rows_normalized, individual) for individual in pop])\n",
    "    #print(fitness)\n",
    "    # select parents\n",
    "    parents = pop[np.argsort(fitness)[:num_parents]]\n",
    "    # store best individual\n",
    "    best_idx = np.argmin(fitness)\n",
    "    if i == 0:\n",
    "        initial_rmse = fitness[best_idx] * (cars_column_mpg_max - cars_column_mpg_min) + cars_column_mpg_min\n",
    "        print(f\"Initial RMSE: {initial_rmse:.2f}\")\n",
    "    if best_fitness is None or fitness[best_idx] < best_fitness:\n",
    "        print(best_fitness)\n",
    "        best_fitness = fitness[best_idx]\n",
    "        best_coeffs = pop[best_idx]\n",
    "        parents = [best_coeffs]\n",
    "\n",
    "best_fitness_denormalized = best_fitness * (cars_column_mpg_max - cars_column_mpg_min) + cars_column_mpg_min\n",
    "\n",
    "\n",
    "cars_Tcolumns_mpg = cars_column_mpg[[3,56,116,218]]\n",
    "given_lines = cars[[3,56,116,218],1:7]\n",
    "given_lines_nrm = car_nrm[[3,56,116,218],1:7]\n",
    "\n",
    "#predict only mpg\n",
    "indx = 0\n",
    "for car in given_lines_nrm:\n",
    "    print(f\"mpg is {cars_Tcolumns_mpg[indx]}, predicted is \"\n",
    "          f\"{np.dot(car,best_coeffs)* (cars_column_mpg_max - cars_column_mpg_min) + cars_column_mpg_min}\")\n",
    "    indx += 1\n",
    "\n",
    "\n",
    "print(f\"Final RMSE: {best_fitness_denormalized:.5f}\")"
   ],
   "metadata": {
    "collapsed": false,
    "ExecuteTime": {
     "end_time": "2023-05-09T17:30:19.118159500Z",
     "start_time": "2023-05-09T17:30:18.716153600Z"
    }
   }
  },
  {
   "cell_type": "code",
   "execution_count": 2,
   "outputs": [],
   "source": [],
   "metadata": {
    "collapsed": false,
    "ExecuteTime": {
     "end_time": "2023-05-09T17:30:19.121735Z",
     "start_time": "2023-05-09T17:30:19.118176Z"
    }
   }
  }
 ],
 "metadata": {
  "kernelspec": {
   "display_name": "Python 3",
   "language": "python",
   "name": "python3"
  },
  "language_info": {
   "codemirror_mode": {
    "name": "ipython",
    "version": 2
   },
   "file_extension": ".py",
   "mimetype": "text/x-python",
   "name": "python",
   "nbconvert_exporter": "python",
   "pygments_lexer": "ipython2",
   "version": "2.7.6"
  }
 },
 "nbformat": 4,
 "nbformat_minor": 0
}
