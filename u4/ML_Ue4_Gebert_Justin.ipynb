{
 "cells": [
  {
   "cell_type": "code",
   "execution_count": null,
   "metadata": {
    "collapsed": true
   },
   "outputs": [],
   "source": [
    "import numpy as np\n",
    "import matplotlib.pyplot as plt\n",
    "from sklearn.metrics import mean_squared_error\n",
    "\n",
    "cars = np.genfromtxt(\"cars.csv\", delimiter=\",\", skip_header=True)\n",
    "\n",
    "cars_columns_min = np.min(cars, axis=0)\n",
    "cars_columns_max = np.max(cars, axis=0)\n",
    "cars_normalized = (cars - cars_columns_min) / (cars_columns_max - cars_columns_min)\n",
    "\n",
    "mpg = cars_normalized[:, 7]"
   ]
  },
  {
   "cell_type": "code",
   "execution_count": null,
   "outputs": [],
   "source": [
    "#TODO 1: create weighted function with coefficient for each column parameter\n",
    "\n",
    "def weighted_function (x, coefficients):\n",
    "    return np.dot(x, coefficients)\n",
    "\n",
    "def coeffients(number):\n",
    "    cV = np.random.uniform(low= -1.0, high=1.0, size=number)\n",
    "    return cV\n",
    "\n",
    "def offspring(parent):\n",
    "    return parent + np.random.uniform(low= -0.1, high=0.1, size=parent.shape)\n",
    "\n",
    "\n",
    "def fitness_function (data, coefficients):\n",
    "    return mean_squared_error(data, weighted_function(data, coefficients))\n",
    "\n"
   ],
   "metadata": {
    "collapsed": false
   }
  }
 ],
 "metadata": {
  "kernelspec": {
   "display_name": "Python 3",
   "language": "python",
   "name": "python3"
  },
  "language_info": {
   "codemirror_mode": {
    "name": "ipython",
    "version": 2
   },
   "file_extension": ".py",
   "mimetype": "text/x-python",
   "name": "python",
   "nbconvert_exporter": "python",
   "pygments_lexer": "ipython2",
   "version": "2.7.6"
  }
 },
 "nbformat": 4,
 "nbformat_minor": 0
}
