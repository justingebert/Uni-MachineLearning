{
 "cells": [
  {
   "cell_type": "code",
   "execution_count": 22,
   "metadata": {
    "collapsed": true,
    "ExecuteTime": {
     "start_time": "2023-05-02T13:01:55.178621Z",
     "end_time": "2023-05-02T13:01:55.197651Z"
    }
   },
   "outputs": [],
   "source": [
    "import numpy as np\n",
    "import matplotlib.pyplot as plt\n",
    "from sklearn.metrics import mean_squared_error\n",
    "\n",
    "cars = np.genfromtxt(\"cars.csv\", delimiter=\",\", skip_header=True)\n",
    "\n",
    "car_col_min = np.min(cars, axis=0)\n",
    "car_col_max = np.max(cars, axis=0)\n",
    "car_nrm = (cars - car_col_min) / (car_col_max - car_col_min)\n",
    "\n",
    "cars_num_rows = cars[:, 1:7]\n",
    "cars_num_rows_min = np.min(cars_num_rows, axis=0)\n",
    "cars_num_rows_max = np.max(cars_num_rows, axis=0)\n",
    "\n",
    "cars_column_mpg = cars[:, 7]\n",
    "cars_column_mpg_min = np.min(cars_column_mpg)\n",
    "cars_column_mpg_max = np.max(cars_column_mpg)\n",
    "\n",
    "cars_num_rows_normalized = (cars_num_rows - cars_num_rows_min) / (cars_num_rows_max - cars_num_rows_min)\n",
    "cars_mpg_normalized = (cars_column_mpg - cars_column_mpg_min) / (cars_column_mpg_max - cars_column_mpg_min)\n"
   ]
  },
  {
   "cell_type": "code",
   "execution_count": 28,
   "outputs": [
    {
     "name": "stdout",
     "output_type": "stream",
     "text": [
      "Initial RMSE: 15.32\n",
      "[[   8.   304.   150.  3433.    12.    70.    16. ]\n",
      " [   4.   113.    95.  2278.    15.5   72.    24. ]\n",
      " [   4.    68.    49.  1867.    19.5   73.    29. ]\n",
      " [   4.    85.    70.  1945.    16.8   77.    33.5]]\n",
      "mpg is [16.  24.  29.  33.5], predicted is [14.13619056 23.54072462 27.18663265 30.64458871]\n",
      "mpg is [16.  24.  29.  33.5], predicted is [14.13619056 23.54072462 27.18663265 30.64458871]\n",
      "mpg is [16.  24.  29.  33.5], predicted is [14.13619056 23.54072462 27.18663265 30.64458871]\n",
      "mpg is [16.  24.  29.  33.5], predicted is [14.13619056 23.54072462 27.18663265 30.64458871]\n",
      "Final RMSE: 9.51\n"
     ]
    }
   ],
   "source": [
    "#TODO 1: create weighted function with coefficient for each column parameter\n",
    "\n",
    "def weighted_function (x, coefficients):\n",
    "    return np.dot(x, coefficients)\n",
    "\n",
    "def offspring(parent):\n",
    "    return parent + np.random.uniform(low= -0.1, high=0.1, size=parent.shape)\n",
    "\n",
    "def coeffients(number):\n",
    "    cV = np.random.uniform(low= -1.0, high=1.0, size=number)\n",
    "    return cV\n",
    "\n",
    "def fitness_function (data, coefficients):\n",
    "    return mean_squared_error(cars_mpg_normalized, weighted_function(data, coefficients))\n",
    "\n",
    "num_parents = 1\n",
    "num_children = 3\n",
    "num_generations = 300\n",
    "mutation_std = 0.05\n",
    "\n",
    "parents = np.random.uniform(low=-1, high=1, size=(num_parents, cars_num_rows.shape[1]))\n",
    "\n",
    "best_fitness = None\n",
    "best_coeffs = None\n",
    "\n",
    "for i in range(num_generations):\n",
    "    # generate children\n",
    "    children = np.tile(parents, (num_children, 1))\n",
    "    children += np.random.normal(scale=mutation_std, size=children.shape)\n",
    "    # compute fitness for parents and children\n",
    "    pop = np.concatenate((parents, children))\n",
    "    fitness = np.array([fitness_function(cars_num_rows_normalized, individual) for individual in pop])\n",
    "    #print(fitness)\n",
    "    # select parents\n",
    "    parents = pop[np.argsort(fitness)[:num_parents]]\n",
    "    # store best individual\n",
    "    best_idx = np.argmin(fitness)\n",
    "    if i == 0:\n",
    "        initial_rmse = fitness[best_idx] * (cars_column_mpg_max - cars_column_mpg_min) + cars_column_mpg_min\n",
    "        print(f\"Initial RMSE: {initial_rmse:.2f}\")\n",
    "    if best_fitness is None or fitness[best_idx] < best_fitness:\n",
    "        best_fitness = fitness[best_idx]\n",
    "        best_coeffs = pop[best_idx]\n",
    "\n",
    "best_fitness_denormalized = best_fitness * (cars_column_mpg_max - cars_column_mpg_min) + cars_column_mpg_min\n",
    "\n",
    "given_lines = cars[[3,56,116,218],1:]\n",
    "given_lines_nrm = car_nrm[[3,56,116,218],1:]\n",
    "\n",
    "print(given_lines)\n",
    "\n",
    "#predict only mpg\n",
    "for car in given_lines:\n",
    "    print(f\"mpg is {given_lines[:,6]}, predicted is \"\n",
    "          f\"{weighted_function(given_lines_nrm[:,:6], best_coeffs) * (cars_column_mpg_max - cars_column_mpg_min) + cars_column_mpg_min}\")\n",
    "\n",
    "\n",
    "\n",
    "\n",
    "print(f\"Final RMSE: {best_fitness_denormalized:.2f}\")"
   ],
   "metadata": {
    "collapsed": false,
    "ExecuteTime": {
     "start_time": "2023-05-02T13:04:29.275635Z",
     "end_time": "2023-05-02T13:04:29.904649Z"
    }
   }
  },
  {
   "cell_type": "code",
   "execution_count": null,
   "outputs": [],
   "source": [],
   "metadata": {
    "collapsed": false,
    "ExecuteTime": {
     "start_time": "2023-05-02T12:56:41.154900Z",
     "end_time": "2023-05-02T12:56:41.156288Z"
    }
   }
  }
 ],
 "metadata": {
  "kernelspec": {
   "display_name": "Python 3",
   "language": "python",
   "name": "python3"
  },
  "language_info": {
   "codemirror_mode": {
    "name": "ipython",
    "version": 2
   },
   "file_extension": ".py",
   "mimetype": "text/x-python",
   "name": "python",
   "nbconvert_exporter": "python",
   "pygments_lexer": "ipython2",
   "version": "2.7.6"
  }
 },
 "nbformat": 4,
 "nbformat_minor": 0
}
