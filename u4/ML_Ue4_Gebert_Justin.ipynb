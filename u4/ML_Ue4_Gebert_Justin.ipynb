{
 "cells": [
  {
   "cell_type": "code",
   "execution_count": 2,
   "metadata": {
    "collapsed": true,
    "ExecuteTime": {
     "start_time": "2023-05-04T13:25:20.138421Z",
     "end_time": "2023-05-04T13:25:21.670684Z"
    }
   },
   "outputs": [],
   "source": [
    "import numpy as np\n",
    "import matplotlib.pyplot as plt\n",
    "from sklearn.metrics import mean_squared_error\n",
    "\n",
    "cars = np.genfromtxt(\"cars.csv\", delimiter=\",\", skip_header=True)\n",
    "\n",
    "car_col_min = np.min(cars, axis=0)\n",
    "car_col_max = np.max(cars, axis=0)\n",
    "car_nrm = (cars - car_col_min) / (car_col_max - car_col_min)\n",
    "\n",
    "cars_num_rows = cars[:, 1:7]\n",
    "cars_num_rows_min = np.min(cars_num_rows, axis=0)\n",
    "cars_num_rows_max = np.max(cars_num_rows, axis=0)\n",
    "\n",
    "cars_column_mpg = cars[:, 7]\n",
    "cars_column_mpg_min = np.min(cars_column_mpg)\n",
    "cars_column_mpg_max = np.max(cars_column_mpg)\n",
    "\n",
    "cars_num_rows_normalized = (cars_num_rows - cars_num_rows_min) / (cars_num_rows_max - cars_num_rows_min)\n",
    "cars_mpg_normalized = (cars_column_mpg - cars_column_mpg_min) / (cars_column_mpg_max - cars_column_mpg_min)\n"
   ]
  },
  {
   "cell_type": "code",
   "execution_count": 3,
   "outputs": [
    {
     "name": "stdout",
     "output_type": "stream",
     "text": [
      "Initial RMSE: 11.50\n",
      "None\n",
      "0.06652565575835286\n",
      "0.048308540858601444\n",
      "0.04740876076886138\n",
      "0.04622762530624212\n",
      "0.038437600061429586\n",
      "0.034287672084644505\n",
      "0.03193102315229202\n",
      "0.03127296014946411\n",
      "0.027621515907896525\n",
      "0.02593987828509203\n",
      "0.025389826843859084\n",
      "0.02450419479895155\n",
      "0.02369335657270537\n",
      "0.023575802784466356\n",
      "0.022280201902519198\n",
      "0.020829102838142967\n",
      "0.02066948665773839\n",
      "0.020426033369439846\n",
      "0.01883435720367807\n",
      "0.018236087436785217\n",
      "0.018128469121916416\n",
      "0.01803542059593532\n",
      "0.017941107993476358\n",
      "0.017426455087772165\n",
      "0.017058771132541395\n",
      "0.01629785168254477\n",
      "0.015741391138378993\n",
      "0.015227388185250821\n",
      "0.015056210995589752\n",
      "0.014863855245070525\n",
      "0.014820690956484882\n",
      "0.014512598053694023\n",
      "0.014178180646112927\n",
      "0.014071917308995728\n",
      "0.01405617504908642\n",
      "0.013912850966431065\n",
      "0.013742235172599116\n",
      "0.013711137052943252\n",
      "mpg is 16.0, predicted is 14.803760042428209\n",
      "mpg is 24.0, predicted is 23.759380828817307\n",
      "mpg is 29.0, predicted is 27.57028420417005\n",
      "mpg is 33.5, predicted is 30.862242388609083\n",
      "Final RMSE: 9.51388\n"
     ]
    }
   ],
   "source": [
    "#TODO 1: create weighted function with coefficient for each column parameter\n",
    "\n",
    "def weighted_function (x, coefficients):\n",
    "    return np.dot(x, coefficients)\n",
    "\n",
    "def offspring(parent):\n",
    "    return parent + np.random.uniform(low= -0.1, high=0.1, size=parent.shape)\n",
    "\n",
    "def coeffients(number):\n",
    "    cV = np.random.uniform(low= -1.0, high=1.0, size=number)\n",
    "    return cV\n",
    "\n",
    "def fitness_function (data, coefficients):\n",
    "    return mean_squared_error(cars_mpg_normalized,weighted_function(data, coefficients))\n",
    "\n",
    "num_parents = 1\n",
    "num_children = 3\n",
    "num_generations = 300\n",
    "mutation_std = 0.05\n",
    "\n",
    "parents = np.random.uniform(low=-1, high=1, size=(num_parents, cars_num_rows.shape[1]))\n",
    "\n",
    "best_fitness = None\n",
    "best_coeffs = None\n",
    "\n",
    "for i in range(num_generations):\n",
    "    # generate children\n",
    "    children = np.tile(parents, (num_children, 1))\n",
    "    children += np.random.normal(scale=mutation_std, size=children.shape)\n",
    "    # compute fitness for parents and children\n",
    "    pop = np.concatenate((parents, children))\n",
    "    # fitness = np.empty((0,3), float)\n",
    "\n",
    "    fitness = np.array([fitness_function(cars_num_rows_normalized, individual) for individual in pop])\n",
    "    #print(fitness)\n",
    "    # select parents\n",
    "    parents = pop[np.argsort(fitness)[:num_parents]]\n",
    "    # store best individual\n",
    "    best_idx = np.argmin(fitness)\n",
    "    if i == 0:\n",
    "        initial_rmse = fitness[best_idx] * (cars_column_mpg_max - cars_column_mpg_min) + cars_column_mpg_min\n",
    "        print(f\"Initial RMSE: {initial_rmse:.2f}\")\n",
    "    if best_fitness is None or fitness[best_idx] < best_fitness:\n",
    "        print(best_fitness)\n",
    "        best_fitness = fitness[best_idx]\n",
    "        best_coeffs = pop[best_idx]\n",
    "        parents = [best_coeffs]\n",
    "\n",
    "best_fitness_denormalized = best_fitness * (cars_column_mpg_max - cars_column_mpg_min) + cars_column_mpg_min\n",
    "\n",
    "\n",
    "cars_Tcolumns_mpg = cars_column_mpg[[3,56,116,218]]\n",
    "given_lines = cars[[3,56,116,218],1:7]\n",
    "given_lines_nrm = car_nrm[[3,56,116,218],1:7]\n",
    "\n",
    "#predict only mpg\n",
    "indx = 0\n",
    "for car in given_lines_nrm:\n",
    "    print(f\"mpg is {cars_Tcolumns_mpg[indx]}, predicted is \"\n",
    "          f\"{np.dot(car,best_coeffs)* (cars_column_mpg_max - cars_column_mpg_min) + cars_column_mpg_min}\")\n",
    "    indx += 1\n",
    "\n",
    "\n",
    "print(f\"Final RMSE: {best_fitness_denormalized:.5f}\")"
   ],
   "metadata": {
    "collapsed": false,
    "ExecuteTime": {
     "start_time": "2023-05-04T13:25:21.678686Z",
     "end_time": "2023-05-04T13:25:21.885178Z"
    }
   }
  },
  {
   "cell_type": "code",
   "execution_count": 3,
   "outputs": [],
   "source": [],
   "metadata": {
    "collapsed": false,
    "ExecuteTime": {
     "start_time": "2023-05-04T13:25:21.887350Z",
     "end_time": "2023-05-04T13:25:21.889357Z"
    }
   }
  }
 ],
 "metadata": {
  "kernelspec": {
   "display_name": "Python 3",
   "language": "python",
   "name": "python3"
  },
  "language_info": {
   "codemirror_mode": {
    "name": "ipython",
    "version": 2
   },
   "file_extension": ".py",
   "mimetype": "text/x-python",
   "name": "python",
   "nbconvert_exporter": "python",
   "pygments_lexer": "ipython2",
   "version": "2.7.6"
  }
 },
 "nbformat": 4,
 "nbformat_minor": 0
}
