{
 "cells": [
  {
   "cell_type": "code",
   "execution_count": 2,
   "metadata": {
    "collapsed": true,
    "ExecuteTime": {
     "start_time": "2023-04-19T14:20:33.814104Z",
     "end_time": "2023-04-19T14:20:34.946513Z"
    }
   },
   "outputs": [],
   "source": [
    "import numpy as np\n",
    "import matplotlib.pyplot as plt\n",
    "nations = np.genfromtxt(\"nations.csv\", delimiter=\",\", skip_header=True)"
   ]
  },
  {
   "cell_type": "code",
   "execution_count": 9,
   "outputs": [
    {
     "name": "stdout",
     "output_type": "stream",
     "text": [
      "32.1312196364624\n"
     ]
    },
    {
     "data": {
      "text/plain": "<Figure size 640x480 with 1 Axes>",
      "image/png": "[encoded data removed]"
     },
     "metadata": {},
     "output_type": "display_data"
    }
   ],
   "source": [
    "gdpC = np.array(np.multiply(np.divide(nations[:,3],nations[:,6]),1000000))\n",
    "#plt.scatter(gdpC, nations[:,4])\n",
    "#plt.xlim(0, 150000)\n",
    "\n",
    "#line\n",
    "startpoint = np.array([0, 70])\n",
    "endpoint = np.array([137400,80.8])\n",
    "\n",
    "\n",
    "line = np.array([startpoint,endpoint])\n",
    "# plt.plot(line[:,0],line[:,1],'r-')\n",
    "# plt.show()\n",
    "\n",
    "## Linear Equation\n",
    "def linearEqyualtion(x, sP, eP):\n",
    "    dx = np.subtract(eP[0], sP[0])\n",
    "    dy = np.subtract(eP[1], sP[1])\n",
    "    m = np.divide(dy, dx)\n",
    "    n = np.subtract(sP[1], np.multiply(m, sP[0]))\n",
    "\n",
    "    return np.add(np.multiply(m, x), n)\n",
    "\n",
    "def coeffients(number):\n",
    "    cV = np.random.uniform(low=-1.0, high=1.0, size=number)\n",
    "\n",
    "    multiply = 100\n",
    "\n",
    "    for i in range(number):\n",
    "        cV[i] = cV[i] * multiply\n",
    "        multiply = multiply / 100000\n",
    "\n",
    "    return cV\n",
    "\n",
    "\n",
    "\n",
    "def polynomial(x, coeffients):\n",
    "    y = 0\n",
    "    for i in range(len(coeffients)):\n",
    "        y = np.add(y, np.multiply(coeffients[i], np.power(x, i)))\n",
    "\n",
    "    return y\n",
    "\n",
    "## RMSE\n",
    "rsmeN = 0\n",
    "rmseL = 100000000\n",
    "errorAdd = 0\n",
    "\n",
    "polyLine = np.array([])\n",
    "gdpCList = np.array([])\n",
    "\n",
    "\n",
    "for i in range(100):\n",
    "    cos = coeffients(3)\n",
    "    gdpCListN = np.array([])\n",
    "    polyLineN = np.array([])\n",
    "    for n in nations:\n",
    "        gdpC = np.multiply(np.divide(n[3], n[6]), 1000000)\n",
    "        gdpCListN = np.append(gdpCList, gdpC)\n",
    "        lifespan_expected = polynomial(gdpC, cos)\n",
    "        lifespan = n[4]\n",
    "\n",
    "        polyLineN = np.append(polyLine, lifespan_expected)\n",
    "\n",
    "        error = np.subtract(lifespan_expected, lifespan)\n",
    "        errorPow = np.power(error, 2)\n",
    "        errorAdd += errorPow\n",
    "\n",
    "    errorDiv = np.divide(errorAdd, len(nations))\n",
    "    rsmeN = np.sqrt(errorDiv)\n",
    "\n",
    "    if rsmeN < rmseL:\n",
    "        rmseL = rsmeN\n",
    "        bestCos = cos\n",
    "        polyLine = polyLineN\n",
    "        gdpCList = gdpCListN\n",
    "\n",
    "\n",
    "print(rmseL)\n",
    "plt.plot(gdpCList, polyLine, 'r-')\n",
    "plt.show()\n",
    "# Array with points of [gdp, life expectancy] did not work (count fire out how to append properly)"
   ],
   "metadata": {
    "collapsed": false,
    "ExecuteTime": {
     "start_time": "2023-04-19T14:27:09.062107Z",
     "end_time": "2023-04-19T14:27:59.067827Z"
    }
   }
  },
  {
   "cell_type": "markdown",
   "source": [],
   "metadata": {
    "collapsed": false
   }
  }
 ],
 "metadata": {
  "kernelspec": {
   "display_name": "Python 3",
   "language": "python",
   "name": "python3"
  },
  "language_info": {
   "codemirror_mode": {
    "name": "ipython",
    "version": 2
   },
   "file_extension": ".py",
   "mimetype": "text/x-python",
   "name": "python",
   "nbconvert_exporter": "python",
   "pygments_lexer": "ipython2",
   "version": "2.7.6"
  }
 },
 "nbformat": 4,
 "nbformat_minor": 0
}
