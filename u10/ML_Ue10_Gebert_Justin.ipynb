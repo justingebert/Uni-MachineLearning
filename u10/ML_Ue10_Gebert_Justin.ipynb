{
 "cells": [
  {
   "cell_type": "code",
   "execution_count": 1,
   "metadata": {
    "ExecuteTime": {
     "end_time": "2023-07-04T13:29:05.389908200Z",
     "start_time": "2023-07-04T13:29:04.053376200Z"
    }
   },
   "outputs": [],
   "source": [
    "import numpy as np\n",
    "import matplotlib.pyplot as plt\n",
    "\n",
    "from abc import ABC, abstractmethod"
   ]
  },
  {
   "cell_type": "markdown",
   "metadata": {},
   "source": [
    "### Preparing the data set\n",
    "\n",
    "There will be several data sets we therefore define abstract interface an implement concrete classes that derive the interface below."
   ]
  },
  {
   "cell_type": "code",
   "execution_count": 2,
   "metadata": {
    "ExecuteTime": {
     "end_time": "2023-07-04T13:29:05.397909500Z",
     "start_time": "2023-07-04T13:29:05.394894600Z"
    }
   },
   "outputs": [],
   "source": [
    "class Dataset(ABC):\n",
    "        \n",
    "    @abstractmethod\n",
    "    def get_train_x(self):\n",
    "        \"\"\" Retrieve the input data of the training \"\"\"\n",
    "        pass\n",
    "    \n",
    "    @abstractmethod\n",
    "    def get_train_y(self):\n",
    "        \"\"\" Retrieve the output data of the training \"\"\"\n",
    "        pass\n",
    "    \n",
    "    @abstractmethod\n",
    "    def get_test_x(self):\n",
    "        \"\"\" Retrieve the input data of the test \"\"\"\n",
    "        pass\n",
    "    \n",
    "    @abstractmethod\n",
    "    def get_test_y(self):\n",
    "        \"\"\" Retrieve the output data of the test \"\"\"\n",
    "        pass"
   ]
  },
  {
   "cell_type": "code",
   "execution_count": 3,
   "metadata": {
    "ExecuteTime": {
     "end_time": "2023-07-04T13:29:05.409540500Z",
     "start_time": "2023-07-04T13:29:05.401908100Z"
    }
   },
   "outputs": [],
   "source": [
    "class XORDataset(Dataset):\n",
    "    \n",
    "    _x = None\n",
    "    _y = None\n",
    "    \n",
    "    def __init__(self):\n",
    "        self._x = np.array([[0,0],[1, 0],[0,1],[1,1]])\n",
    "        self._y = np.array([[0],[1],[1],[0]])\n",
    "    \n",
    "    def get_train_x(self):\n",
    "        return self._x\n",
    "    \n",
    "    def get_train_y(self):\n",
    "        return self._y\n",
    "    \n",
    "    def get_test_x(self):\n",
    "        return self._x\n",
    "    \n",
    "    def get_test_y(self):\n",
    "        return self._y"
   ]
  },
  {
   "cell_type": "markdown",
   "metadata": {},
   "source": [
    "### Operations of a neural network\n",
    "\n",
    "Every neural network consists of serveral operations which gets executed during a forward and backward pass"
   ]
  },
  {
   "cell_type": "code",
   "execution_count": 4,
   "metadata": {
    "ExecuteTime": {
     "end_time": "2023-07-04T13:29:05.421465800Z",
     "start_time": "2023-07-04T13:29:05.412580500Z"
    }
   },
   "outputs": [],
   "source": [
    "class Operation(ABC):\n",
    "        \n",
    "    @abstractmethod\n",
    "    def forward(self, data):\n",
    "        \"\"\" Forward pass of the operation. Process the input data.\n",
    "        \n",
    "        Parameters\n",
    "        ----------\n",
    "        data : ndarray\n",
    "            Data from the last layer\n",
    "        \n",
    "        Returns\n",
    "        -------\n",
    "        result : ndarray\n",
    "            The result of processing the input data\n",
    "        \"\"\"\n",
    "        pass\n",
    "    \n",
    "    @abstractmethod\n",
    "    def backward(self, gradient_data):\n",
    "        \"\"\" Backward pass of the operation. The gradient data is uses \n",
    "        to compute the changes of weights and the partial gradient of \n",
    "        the this layer.\n",
    "        \n",
    "        Parameters\n",
    "        ----------\n",
    "        gradient_data : ndarray\n",
    "            Gradient data from the previous layer during the backward pass\n",
    "        \n",
    "        Returns\n",
    "        -------\n",
    "        result : ndarray\n",
    "            The partial gradient of the this layer with respect to the incoming gradient_data\n",
    "        \"\"\"\n",
    "        pass"
   ]
  },
  {
   "cell_type": "markdown",
   "metadata": {},
   "source": [
    "### TODO implement the different operations of a network"
   ]
  },
  {
   "cell_type": "code",
   "execution_count": 5,
   "metadata": {
    "ExecuteTime": {
     "end_time": "2023-07-04T13:29:05.453054700Z",
     "start_time": "2023-07-04T13:29:05.428242600Z"
    }
   },
   "outputs": [],
   "source": [
    "class BiasOperation(Operation):\n",
    "    \"\"\" Bias operation in the network \"\"\"\n",
    "    \n",
    "    def forward(self, data):\n",
    "        return data\n",
    "    \n",
    "    def backward(self, gradient_data):\n",
    "        return gradient_data"
   ]
  },
  {
   "cell_type": "code",
   "execution_count": 6,
   "metadata": {
    "ExecuteTime": {
     "end_time": "2023-07-04T13:29:05.454525Z",
     "start_time": "2023-07-04T13:29:05.438883600Z"
    }
   },
   "outputs": [],
   "source": [
    "class SigmoidOperation(Operation):\n",
    "    \"\"\" Sigmoid function in the network \"\"\"\n",
    "    \n",
    "    def forward(self, data):\n",
    "        return data\n",
    "    \n",
    "    def backward(self, gradient_data):\n",
    "        return gradient_data"
   ]
  },
  {
   "cell_type": "code",
   "execution_count": 7,
   "metadata": {
    "ExecuteTime": {
     "end_time": "2023-07-04T13:29:05.477933700Z",
     "start_time": "2023-07-04T13:29:05.454525Z"
    }
   },
   "outputs": [],
   "source": [
    "class LossOperation(Operation):\n",
    "    \"\"\" Loss function in the network \"\"\"    \n",
    "    _y = None\n",
    "    \n",
    "    def set_y(self, y):\n",
    "        \"\"\" Store the correct y value for later comparison \"\"\"\n",
    "        self._y = y\n",
    "    \n",
    "    def forward(self, data):\n",
    "        return data\n",
    "    \n",
    "    def backward(self, gradient_data):\n",
    "        return gradient_data"
   ]
  },
  {
   "cell_type": "code",
   "execution_count": 8,
   "metadata": {
    "ExecuteTime": {
     "end_time": "2023-07-04T13:29:05.477933700Z",
     "start_time": "2023-07-04T13:29:05.463836900Z"
    }
   },
   "outputs": [],
   "source": [
    "class InnerProductOperation(Operation):\n",
    "    \"\"\" Inner Product, Fully Connected or Dense operation in the network \"\"\"\n",
    "    _learn_rate = 0.1\n",
    "    _weights = None\n",
    "    \n",
    "    def __init__(self, input_units, hidden_units):\n",
    "        self._weights = np.random.uniform(low = -1, high = 1, size = (input_units, hidden_units))\n",
    "    \n",
    "    def set_learn_rate(self, learn_rate):\n",
    "        \"\"\" Change the learn rate \"\"\"\n",
    "        self._learn_rate = learn_rate\n",
    "    \n",
    "    def forward(self, data):\n",
    "        return data\n",
    "    \n",
    "    def backward(self, gradient_data):\n",
    "        return gradient_data"
   ]
  },
  {
   "cell_type": "markdown",
   "metadata": {},
   "source": [
    "### Setup the neural network \n",
    "\n",
    "Using the operations we can now build our own neural network"
   ]
  },
  {
   "cell_type": "code",
   "execution_count": 9,
   "metadata": {
    "ExecuteTime": {
     "end_time": "2023-07-04T13:29:05.531127400Z",
     "start_time": "2023-07-04T13:29:05.480464100Z"
    }
   },
   "outputs": [],
   "source": [
    "class Network(ABC):\n",
    "    \n",
    "    _ops = []\n",
    "    _train_errors = []\n",
    "    _test_accuracies = []\n",
    "    \n",
    "    def get_test_accuracies(self):\n",
    "        return self._test_accuracies\n",
    "    \n",
    "    def get_train_errors(self):\n",
    "        return self._train_errors\n",
    "    \n",
    "    def predict(self,data):\n",
    "        return self.forwardPass(data, len(self._ops)-1)\n",
    "    \n",
    "    def forwardPass(self,data, layers):\n",
    "        result = data\n",
    "        for op in range(0,layers):     \n",
    "            result = self._ops[op].forward(result)\n",
    "        return (result)\n",
    "        \n",
    "    def backwardPass(self, data, layers):\n",
    "        result = data\n",
    "        for op in range(len(self._ops)-1, len(self._ops) - layers , -1):\n",
    "            result = self._ops[op].backward(result)\n",
    "        return result\n",
    "    \n",
    "    @abstractmethod\n",
    "    def train(self, dataset, epochs, learn_rate, error_output_every):\n",
    "        \"\"\" Train the neural network with the data set several epochs.\n",
    "        Compute the train error and test accurarcy after some iterations.\n",
    "        \n",
    "        Parameters\n",
    "        ----------\n",
    "        dataset : ndarray\n",
    "            Data from the last layer\n",
    "        epochs : int\n",
    "            Number of epochs to be trained\n",
    "        learn_rate : float\n",
    "            Learn rated to be used to changing the weights of the network\n",
    "        error_output_every : int\n",
    "            After how many iterations should the train error and test accurarcy be calculated\n",
    "        \"\"\"\n",
    "        pass"
   ]
  },
  {
   "cell_type": "code",
   "execution_count": 10,
   "metadata": {
    "ExecuteTime": {
     "end_time": "2023-07-04T13:29:05.532128Z",
     "start_time": "2023-07-04T13:29:05.499528Z"
    }
   },
   "outputs": [],
   "source": [
    "class LogicGateNetwork(Network):\n",
    "    \n",
    "    def __init__(self, input_units, output_units, hidden_units):\n",
    "        self._ops = []\n",
    "        self._ops.append(BiasOperation())\n",
    "        self._ops.append(InnerProductOperation(input_units +1, hidden_units))\n",
    "        self._ops.append(SigmoidOperation())\n",
    "        self._ops.append(BiasOperation())\n",
    "        self._ops.append(InnerProductOperation(hidden_units +1, output_units))\n",
    "        self._ops.append(SigmoidOperation())\n",
    "        self._ops.append(LossOperation())\n",
    "        print('Setup XOR Network')\n",
    "        \n",
    "    def train(self, dataset, epochs, learn_rate, error_output_every):\n",
    "        print('Start training of the XOR network ...')\n",
    "        \n",
    "        #clear old train errors and test accuracies\n",
    "        self._train_errors = []\n",
    "        self._test_accuracies = []\n",
    "        \n",
    "        # fix learn rate for all layers\n",
    "        for op in self._ops:\n",
    "            if type(op) == InnerProductOperation:\n",
    "                op.set_learn_rate(learn_rate)\n",
    "                \n",
    "        # get the last layer (loss layer)\n",
    "        last_layer = self._ops[len(self._ops)-1]\n",
    "       \n",
    "        # get the train and test data\n",
    "        train_x = dataset.get_train_x()\n",
    "        train_y = dataset.get_train_y()\n",
    "        test_x = dataset.get_test_x()\n",
    "        test_y = dataset.get_test_y()\n",
    "        \n",
    "        # train the network\n",
    "        for e in range(0, epochs+1):\n",
    "            \n",
    "            # forward propagation\n",
    "            hypothese = self.predict(train_x)\n",
    "            \n",
    "            # place the target data in the loss layer\n",
    "            last_layer.set_y(train_y)\n",
    "            \n",
    "            # backward propagate and change the weights\n",
    "            self.backwardPass(hypothese, len(self._ops))\n",
    "            \n",
    "            # print the train and test error rate after 100 epochs\n",
    "            if (e % error_output_every == 0):\n",
    "                \n",
    "                # compute train error with the train data\n",
    "                error = last_layer.forward(hypothese).sum()/train_x.shape[0]\n",
    "                self._train_errors.append(error)\n",
    "                \n",
    "                # compute test accuracy with the test data\n",
    "                accuracy = (np.where(self.predict(test_x) > 0.5,1,0) == test_y).all(axis=1).sum() / test_x.shape[0] * 100\n",
    "                self._test_accuracies.append(accuracy)\n",
    "                print('Epoche ',e, 'with error:', error, 'and accuracy:', accuracy)"
   ]
  },
  {
   "cell_type": "markdown",
   "metadata": {},
   "source": [
    "### Use the LogicGateNetwork and XORDataset to train the network for solving the XOR problem\n",
    "Change the number of hidden neurons in the network and learn rate to converge faster"
   ]
  },
  {
   "cell_type": "code",
   "execution_count": 11,
   "metadata": {
    "ExecuteTime": {
     "end_time": "2023-07-04T13:29:05.552635100Z",
     "start_time": "2023-07-04T13:29:05.514368600Z"
    }
   },
   "outputs": [
    {
     "name": "stdout",
     "output_type": "stream",
     "text": [
      "Setup XOR Network\n",
      "Start training of the XOR network ...\n",
      "Epoche  0 with error: 1.0 and accuracy: 25.0\n",
      "Epoche  1000 with error: 1.0 and accuracy: 25.0\n",
      "Epoche  2000 with error: 1.0 and accuracy: 25.0\n",
      "Epoche  3000 with error: 1.0 and accuracy: 25.0\n",
      "Epoche  4000 with error: 1.0 and accuracy: 25.0\n",
      "Epoche  5000 with error: 1.0 and accuracy: 25.0\n",
      "final prediction: \n",
      " [[0 0]\n",
      " [1 0]\n",
      " [0 1]\n",
      " [1 1]]\n",
      "overall accuracy =  25.0\n"
     ]
    }
   ],
   "source": [
    "training_iterations = 5000\n",
    "error_output_every = 1000\n",
    "learn_rate = 0.7\n",
    "hidden_units = 5\n",
    "np.random.seed(5)\n",
    "\n",
    "dataSet = XORDataset()\n",
    "network = LogicGateNetwork(dataSet.get_train_x().shape[1], dataSet.get_train_x().shape[1], hidden_units)\n",
    "\n",
    "network.train(dataSet, training_iterations, learn_rate, error_output_every)\n",
    "print('final prediction: \\n', network.predict(dataSet.get_test_x()))\n",
    "accuracies = network.get_test_accuracies()\n",
    "print('overall accuracy = ', accuracies[len(network.get_test_accuracies())-1])"
   ]
  },
  {
   "cell_type": "code",
   "execution_count": 12,
   "metadata": {
    "ExecuteTime": {
     "end_time": "2023-07-04T13:29:05.994913400Z",
     "start_time": "2023-07-04T13:29:05.552635100Z"
    }
   },
   "outputs": [
    {
     "data": {
      "text/plain": "(0.0, 5000.0, 0.0, 100.0)"
     },
     "execution_count": 12,
     "metadata": {},
     "output_type": "execute_result"
    },
    {
     "data": {
      "text/plain": "<Figure size 640x480 with 1 Axes>",
      "image/png": "[encoded data removed]"
     },
     "metadata": {},
     "output_type": "display_data"
    }
   ],
   "source": [
    "plt.plot(np.linspace(0, training_iterations, len(accuracies)), accuracies, 'b', label ='xor data')\n",
    "plt.xlabel('Epochs')\n",
    "plt.ylabel('Test accuracy')\n",
    "plt.axis([0, training_iterations, 0, 100 ])"
   ]
  }
 ],
 "metadata": {
  "kernelspec": {
   "name": "python3",
   "language": "python",
   "display_name": "Python 3 (ipykernel)"
  },
  "language_info": {
   "codemirror_mode": {
    "name": "ipython",
    "version": 3
   },
   "file_extension": ".py",
   "mimetype": "text/x-python",
   "name": "python",
   "nbconvert_exporter": "python",
   "pygments_lexer": "ipython3",
   "version": "3.7.7"
  }
 },
 "nbformat": 4,
 "nbformat_minor": 4
}
